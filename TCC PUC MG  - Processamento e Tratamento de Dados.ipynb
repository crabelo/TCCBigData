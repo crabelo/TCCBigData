{
 "cells": [
  {
   "cell_type": "markdown",
   "id": "2e4e9a34",
   "metadata": {},
   "source": [
    "# PUC - MG : Pós Graduação em Ciência de Dados e Big Data\n",
    "\n",
    "#### ESTUDO E PREDIÇÃO DO COMPORTAMENTO DE INFRAÇÕES E ACIDENTES DE TRANSITO EM RODOVIAS FEDERAIS DO RIO DE JANEIRO\n",
    "#### Aluna: Camila da Mata Rabelo"
   ]
  },
  {
   "cell_type": "markdown",
   "id": "8cbb5fe7",
   "metadata": {},
   "source": [
    "Coleta das bases de infrações e acidentes nos sites:\n",
    "\n",
    "#Infrações: https://www.gov.br/prf/pt-br/acesso-a-informacao/dados-abertos/dados-abertos-infracoes\n",
    "\n",
    "#Acidentes: https://www.gov.br/prf/pt-br/acesso-a-informacao/dados-abertos/dados-abertos-acidentes "
   ]
  },
  {
   "cell_type": "code",
   "execution_count": 1,
   "id": "1a84613f",
   "metadata": {},
   "outputs": [],
   "source": [
    "#Carregar bibliotecas gerais\n",
    "import pandas as pd\n",
    "import numpy as np\n",
    "import matplotlib.pyplot as plt\n",
    "import datetime\n",
    "from datetime import datetime"
   ]
  },
  {
   "cell_type": "code",
   "execution_count": 14,
   "id": "9ee085f8",
   "metadata": {},
   "outputs": [],
   "source": [
    "#Os arquivos foram descompactados manualmente\n",
    "#Renomeados todos para jan, fev, mar....\n",
    "#Renomeadas as pastas para ficarem padronizadas anoXXXX"
   ]
  },
  {
   "cell_type": "code",
   "execution_count": 2,
   "id": "fde3b124",
   "metadata": {},
   "outputs": [],
   "source": [
    "#Lendo o arquivo de infrações dos meses por ano\n",
    "#Ano 2017\n",
    "jan2017 = pd.read_csv(r\"E:\\CAMILA DRIVE\\02.BIG_DATA_PUC\\13.TCC\\Infracoes\\ano2017\\jan.csv\", sep=',', decimal = '.', encoding = \"cp1252\", dtype = 'object')\n",
    "fev2017 = pd.read_csv(r\"E:\\CAMILA DRIVE\\02.BIG_DATA_PUC\\13.TCC\\Infracoes\\ano2017\\fev.csv\", sep=',', decimal = '.', encoding = \"cp1252\", dtype = 'object')\n",
    "mar2017 = pd.read_csv(r\"E:\\CAMILA DRIVE\\02.BIG_DATA_PUC\\13.TCC\\Infracoes\\ano2017\\mar.csv\", sep=',', decimal = '.', encoding = \"cp1252\", dtype = 'object')\n",
    "abr2017 = pd.read_csv(r\"E:\\CAMILA DRIVE\\02.BIG_DATA_PUC\\13.TCC\\Infracoes\\ano2017\\abr.csv\", sep=',', decimal = '.', encoding = \"cp1252\", dtype = 'object')\n",
    "mai2017 = pd.read_csv(r\"E:\\CAMILA DRIVE\\02.BIG_DATA_PUC\\13.TCC\\Infracoes\\ano2017\\mai.csv\", sep=',', decimal = '.', encoding = \"cp1252\", dtype = 'object')\n",
    "jun2017 = pd.read_csv(r\"E:\\CAMILA DRIVE\\02.BIG_DATA_PUC\\13.TCC\\Infracoes\\ano2017\\jun.csv\", sep=',', decimal = '.', encoding = \"cp1252\", dtype = 'object')\n",
    "jul2017 = pd.read_csv(r\"E:\\CAMILA DRIVE\\02.BIG_DATA_PUC\\13.TCC\\Infracoes\\ano2017\\jul.csv\", sep=',', decimal = '.', encoding = \"cp1252\", dtype = 'object')\n",
    "ago2017 = pd.read_csv(r\"E:\\CAMILA DRIVE\\02.BIG_DATA_PUC\\13.TCC\\Infracoes\\ano2017\\ago.csv\", sep=',', decimal = '.', encoding = \"cp1252\", dtype = 'object')\n",
    "set2017 = pd.read_csv(r\"E:\\CAMILA DRIVE\\02.BIG_DATA_PUC\\13.TCC\\Infracoes\\ano2017\\set.csv\", sep=',', decimal = '.', encoding = \"cp1252\", dtype = 'object')\n",
    "out2017 = pd.read_csv(r\"E:\\CAMILA DRIVE\\02.BIG_DATA_PUC\\13.TCC\\Infracoes\\ano2017\\out.csv\", sep=',', decimal = '.', encoding = \"cp1252\", dtype = 'object')\n",
    "nov2017 = pd.read_csv(r\"E:\\CAMILA DRIVE\\02.BIG_DATA_PUC\\13.TCC\\Infracoes\\ano2017\\nov.csv\", sep=',', decimal = '.', encoding = \"cp1252\", dtype = 'object')\n",
    "dez2017 = pd.read_csv(r\"E:\\CAMILA DRIVE\\02.BIG_DATA_PUC\\13.TCC\\Infracoes\\ano2017\\dez.csv\", sep=',', decimal = '.', encoding = \"cp1252\", dtype = 'object')"
   ]
  },
  {
   "cell_type": "code",
   "execution_count": 3,
   "id": "3a019528",
   "metadata": {},
   "outputs": [
    {
     "data": {
      "text/html": [
       "<div>\n",
       "<style scoped>\n",
       "    .dataframe tbody tr th:only-of-type {\n",
       "        vertical-align: middle;\n",
       "    }\n",
       "\n",
       "    .dataframe tbody tr th {\n",
       "        vertical-align: top;\n",
       "    }\n",
       "\n",
       "    .dataframe thead th {\n",
       "        text-align: right;\n",
       "    }\n",
       "</style>\n",
       "<table border=\"1\" class=\"dataframe\">\n",
       "  <thead>\n",
       "    <tr style=\"text-align: right;\">\n",
       "      <th></th>\n",
       "      <th>dat_infracao</th>\n",
       "      <th>tip_abordagem</th>\n",
       "      <th>ind_assinou_auto</th>\n",
       "      <th>ind_veiculo_estrangeiro</th>\n",
       "      <th>ind_sentido_trafego</th>\n",
       "      <th>uf_placa</th>\n",
       "      <th>uf_infracao</th>\n",
       "      <th>num_br_infracao</th>\n",
       "      <th>num_km_infracao</th>\n",
       "      <th>nom_municipio</th>\n",
       "      <th>...</th>\n",
       "      <th>enquadramento</th>\n",
       "      <th>data_inicio_vigencia</th>\n",
       "      <th>data_fim_vigencia</th>\n",
       "      <th>med_realizada</th>\n",
       "      <th>med_considerada</th>\n",
       "      <th>exc_verificado</th>\n",
       "      <th>especie</th>\n",
       "      <th>nome_veiculo_marca</th>\n",
       "      <th>nom_modelo_veiculo</th>\n",
       "      <th>hora</th>\n",
       "    </tr>\n",
       "  </thead>\n",
       "  <tbody>\n",
       "    <tr>\n",
       "      <th>0</th>\n",
       "      <td>2017-01-01</td>\n",
       "      <td>S</td>\n",
       "      <td>NaN</td>\n",
       "      <td>N</td>\n",
       "      <td>NaN</td>\n",
       "      <td>SP</td>\n",
       "      <td>SP</td>\n",
       "      <td>153</td>\n",
       "      <td>56</td>\n",
       "      <td>SAO JOSE DO RIO PRETO</td>\n",
       "      <td>...</td>\n",
       "      <td>218 II</td>\n",
       "      <td>2016-11-01</td>\n",
       "      <td>NaN</td>\n",
       "      <td>96.00</td>\n",
       "      <td>89.00</td>\n",
       "      <td>29.00</td>\n",
       "      <td>NaN</td>\n",
       "      <td>NaN</td>\n",
       "      <td>PARATI S</td>\n",
       "      <td>00:00:54</td>\n",
       "    </tr>\n",
       "  </tbody>\n",
       "</table>\n",
       "<p>1 rows × 22 columns</p>\n",
       "</div>"
      ],
      "text/plain": [
       "  dat_infracao tip_abordagem ind_assinou_auto ind_veiculo_estrangeiro  \\\n",
       "0   2017-01-01             S              NaN                       N   \n",
       "\n",
       "  ind_sentido_trafego uf_placa uf_infracao num_br_infracao num_km_infracao  \\\n",
       "0                 NaN       SP          SP             153              56   \n",
       "\n",
       "           nom_municipio  ... enquadramento data_inicio_vigencia  \\\n",
       "0  SAO JOSE DO RIO PRETO  ...        218 II           2016-11-01   \n",
       "\n",
       "  data_fim_vigencia med_realizada med_considerada exc_verificado especie  \\\n",
       "0               NaN         96.00           89.00          29.00     NaN   \n",
       "\n",
       "  nome_veiculo_marca nom_modelo_veiculo      hora  \n",
       "0                NaN           PARATI S  00:00:54  \n",
       "\n",
       "[1 rows x 22 columns]"
      ]
     },
     "execution_count": 3,
     "metadata": {},
     "output_type": "execute_result"
    }
   ],
   "source": [
    "# Depois de verificar o shape de cada arquivo, vamos concatenar\n",
    "ano2017 = pd.concat([jan2017, fev2017, mar2017, abr2017, mai2017, jun2017, jul2017, ago2017, set2017, out2017, nov2017, dez2017], join = \"inner\")\n",
    "ano2017.head(1)"
   ]
  },
  {
   "cell_type": "code",
   "execution_count": 4,
   "id": "250b58d6",
   "metadata": {},
   "outputs": [],
   "source": [
    "#Lendo o arquivo de infrações dos meses por ano\n",
    "#Ano 2018\n",
    "jan2018 = pd.read_csv(r\"E:\\CAMILA DRIVE\\02.BIG_DATA_PUC\\13.TCC\\Infracoes\\ano2018\\jan.csv\", sep=',', decimal = '.', encoding = \"cp1252\", dtype = 'object')\n",
    "fev2018 = pd.read_csv(r\"E:\\CAMILA DRIVE\\02.BIG_DATA_PUC\\13.TCC\\Infracoes\\ano2018\\fev.csv\", sep=',', decimal = '.', encoding = \"cp1252\", dtype = 'object')\n",
    "mar2018 = pd.read_csv(r\"E:\\CAMILA DRIVE\\02.BIG_DATA_PUC\\13.TCC\\Infracoes\\ano2018\\mar.csv\", sep=',', decimal = '.', encoding = \"cp1252\", dtype = 'object')\n",
    "abr2018 = pd.read_csv(r\"E:\\CAMILA DRIVE\\02.BIG_DATA_PUC\\13.TCC\\Infracoes\\ano2018\\abr.csv\", sep=',', decimal = '.', encoding = \"cp1252\", dtype = 'object')\n",
    "mai2018 = pd.read_csv(r\"E:\\CAMILA DRIVE\\02.BIG_DATA_PUC\\13.TCC\\Infracoes\\ano2018\\mai.csv\", sep=',', decimal = '.', encoding = \"cp1252\", dtype = 'object')\n",
    "jun2018 = pd.read_csv(r\"E:\\CAMILA DRIVE\\02.BIG_DATA_PUC\\13.TCC\\Infracoes\\ano2018\\jun.csv\", sep=',', decimal = '.', encoding = \"cp1252\", dtype = 'object')\n",
    "jul2018 = pd.read_csv(r\"E:\\CAMILA DRIVE\\02.BIG_DATA_PUC\\13.TCC\\Infracoes\\ano2018\\jul.csv\", sep=',', decimal = '.', encoding = \"cp1252\", dtype = 'object')\n",
    "ago2018 = pd.read_csv(r\"E:\\CAMILA DRIVE\\02.BIG_DATA_PUC\\13.TCC\\Infracoes\\ano2018\\ago.csv\", sep=',', decimal = '.', encoding = \"cp1252\", dtype = 'object')\n",
    "set2018 = pd.read_csv(r\"E:\\CAMILA DRIVE\\02.BIG_DATA_PUC\\13.TCC\\Infracoes\\ano2018\\set.csv\", sep=',', decimal = '.', encoding = \"cp1252\", dtype = 'object')\n",
    "out2018 = pd.read_csv(r\"E:\\CAMILA DRIVE\\02.BIG_DATA_PUC\\13.TCC\\Infracoes\\ano2018\\out.csv\", sep=',', decimal = '.', encoding = \"cp1252\", dtype = 'object')\n",
    "nov2018 = pd.read_csv(r\"E:\\CAMILA DRIVE\\02.BIG_DATA_PUC\\13.TCC\\Infracoes\\ano2018\\nov.csv\", sep=',', decimal = '.', encoding = \"cp1252\", dtype = 'object')\n",
    "dez2018 = pd.read_csv(r\"E:\\CAMILA DRIVE\\02.BIG_DATA_PUC\\13.TCC\\Infracoes\\ano2018\\dez.csv\", sep=',', decimal = '.', encoding = \"cp1252\", dtype = 'object')"
   ]
  },
  {
   "cell_type": "code",
   "execution_count": 5,
   "id": "16beb6ac",
   "metadata": {},
   "outputs": [
    {
     "name": "stdout",
     "output_type": "stream",
     "text": [
      "<class 'pandas.core.frame.DataFrame'>\n",
      "Int64Index: 7356159 entries, 0 to 727724\n",
      "Data columns (total 22 columns):\n",
      " #   Column                   Dtype \n",
      "---  ------                   ----- \n",
      " 0   dat_infracao             object\n",
      " 1   tip_abordagem            object\n",
      " 2   ind_assinou_auto         object\n",
      " 3   ind_veiculo_estrangeiro  object\n",
      " 4   ind_sentido_trafego      object\n",
      " 5   uf_placa                 object\n",
      " 6   uf_infracao              object\n",
      " 7   num_br_infracao          object\n",
      " 8   num_km_infracao          object\n",
      " 9   nom_municipio            object\n",
      " 10  cod_infracao             object\n",
      " 11  descricao_abreviada      object\n",
      " 12  enquadramento            object\n",
      " 13  data_inicio_vigencia     object\n",
      " 14  data_fim_vigencia        object\n",
      " 15  med_realizada            object\n",
      " 16  med_considerada          object\n",
      " 17  exc_verificado           object\n",
      " 18  especie                  object\n",
      " 19  nome_veiculo_marca       object\n",
      " 20  nom_modelo_veiculo       object\n",
      " 21  hora                     object\n",
      "dtypes: object(22)\n",
      "memory usage: 1.3+ GB\n"
     ]
    }
   ],
   "source": [
    "# Depois de avaliar o shape de cada um, vamos concatenar\n",
    "ano2018 = pd.concat([jan2018, fev2018, mar2018, abr2018, mai2018, jun2018, jul2018, ago2018, set2018, out2018, nov2018, dez2018], join = \"inner\")\n",
    "ano2018.info()"
   ]
  },
  {
   "cell_type": "code",
   "execution_count": 6,
   "id": "78cd79f9",
   "metadata": {},
   "outputs": [],
   "source": [
    "#Lendo o arquivo de infrações dos meses por ano\n",
    "#Ano 2019\n",
    "jan2019 = pd.read_csv(r\"E:\\CAMILA DRIVE\\02.BIG_DATA_PUC\\13.TCC\\Infracoes\\ano2019\\jan.csv\", sep = ';', encoding = \"utf8\", dtype = 'object')\n",
    "fev2019 = pd.read_csv(r\"E:\\CAMILA DRIVE\\02.BIG_DATA_PUC\\13.TCC\\Infracoes\\ano2019\\fev.csv\", sep = ';', encoding = \"utf8\", dtype = 'object')\n",
    "mar2019 = pd.read_csv(r\"E:\\CAMILA DRIVE\\02.BIG_DATA_PUC\\13.TCC\\Infracoes\\ano2019\\mar.csv\", sep = ';', encoding = \"utf8\", dtype = 'object')\n",
    "abr2019 = pd.read_csv(r\"E:\\CAMILA DRIVE\\02.BIG_DATA_PUC\\13.TCC\\Infracoes\\ano2019\\abr.csv\", sep = ';', encoding = \"utf8\", dtype = 'object')\n",
    "mai2019 = pd.read_csv(r\"E:\\CAMILA DRIVE\\02.BIG_DATA_PUC\\13.TCC\\Infracoes\\ano2019\\mai.csv\", sep = ';', encoding = \"utf8\", dtype = 'object')\n",
    "jun2019 = pd.read_csv(r\"E:\\CAMILA DRIVE\\02.BIG_DATA_PUC\\13.TCC\\Infracoes\\ano2019\\jun.csv\", sep = ';', encoding = \"utf8\", dtype = 'object')\n",
    "jul2019 = pd.read_csv(r\"E:\\CAMILA DRIVE\\02.BIG_DATA_PUC\\13.TCC\\Infracoes\\ano2019\\jul.csv\", sep = ';', encoding = \"utf8\", dtype = 'object')\n",
    "ago2019 = pd.read_csv(r\"E:\\CAMILA DRIVE\\02.BIG_DATA_PUC\\13.TCC\\Infracoes\\ano2019\\ago.csv\", sep = ';', encoding = \"utf8\", dtype = 'object')\n",
    "set2019 = pd.read_csv(r\"E:\\CAMILA DRIVE\\02.BIG_DATA_PUC\\13.TCC\\Infracoes\\ano2019\\set.csv\", sep = ';', encoding = \"utf8\", dtype = 'object')\n",
    "out2019 = pd.read_csv(r\"E:\\CAMILA DRIVE\\02.BIG_DATA_PUC\\13.TCC\\Infracoes\\ano2019\\out.csv\", sep = ';', encoding = \"utf8\", dtype = 'object')\n",
    "nov2019 = pd.read_csv(r\"E:\\CAMILA DRIVE\\02.BIG_DATA_PUC\\13.TCC\\Infracoes\\ano2019\\nov.csv\", sep = ';', encoding = \"utf8\", dtype = 'object')\n",
    "dez2019 = pd.read_csv(r\"E:\\CAMILA DRIVE\\02.BIG_DATA_PUC\\13.TCC\\Infracoes\\ano2019\\dez.csv\", sep = ';', encoding = \"utf8\", dtype = 'object')\n",
    "# explicar q o encoding cp1252 n funcionou"
   ]
  },
  {
   "cell_type": "code",
   "execution_count": 7,
   "id": "5f7da06d",
   "metadata": {},
   "outputs": [
    {
     "name": "stdout",
     "output_type": "stream",
     "text": [
      "<class 'pandas.core.frame.DataFrame'>\n",
      "Int64Index: 5742110 entries, 0 to 492723\n",
      "Data columns (total 22 columns):\n",
      " #   Column                         Dtype \n",
      "---  ------                         ----- \n",
      " 0   Número do Auto                 object\n",
      " 1   Data da Infração (DD/MM/AAAA)  object\n",
      " 2   Indicador de Abordagem         object\n",
      " 3   Assinatura do Auto             object\n",
      " 4   Indicador Veiculo Estrangeiro  object\n",
      " 5   Sentido Trafego                object\n",
      " 6   UF Placa                       object\n",
      " 7   UF Infração                    object\n",
      " 8   BR Infração                    object\n",
      " 9   Km Infração                    object\n",
      " 10  Município                      object\n",
      " 11  Código da Infração             object\n",
      " 12  Descrição Abreviada Infração   object\n",
      " 13  Enquadramento da Infração      object\n",
      " 14  Início Vigência da Infração    object\n",
      " 15  Fim Vigência Infração          object\n",
      " 16  Medição Infração               object\n",
      " 17  Descrição Especie Veículo      object\n",
      " 18  Descrição Marca Veículo        object\n",
      " 19  Hora Infração                  object\n",
      " 20  Medição Considerada            object\n",
      " 21  Excesso Verificado             object\n",
      "dtypes: object(22)\n",
      "memory usage: 1007.6+ MB\n"
     ]
    }
   ],
   "source": [
    "# Depois de verificar os shapes dos arquivos, vamos concatenar\n",
    "ano2019 = pd.concat([jan2019, fev2019, mar2019, abr2019, mai2019, jun2019, jul2019, ago2019, set2019, out2019, nov2019, dez2019], join = \"inner\")\n",
    "ano2019.info()"
   ]
  },
  {
   "cell_type": "code",
   "execution_count": 8,
   "id": "62e05e92",
   "metadata": {},
   "outputs": [],
   "source": [
    "#Lendo o arquivo de infrações dos meses por ano\n",
    "#Ano 2020\n",
    "jan2020 = pd.read_csv(r\"E:\\CAMILA DRIVE\\02.BIG_DATA_PUC\\13.TCC\\Infracoes\\ano2020\\jan.csv\", sep = ';', encoding = 'cp1252', dtype = 'object')\n",
    "fev2020 = pd.read_csv(r\"E:\\CAMILA DRIVE\\02.BIG_DATA_PUC\\13.TCC\\Infracoes\\ano2020\\fev.csv\", sep = ';', encoding = 'cp1252', dtype = 'object')\n",
    "mar2020 = pd.read_csv(r\"E:\\CAMILA DRIVE\\02.BIG_DATA_PUC\\13.TCC\\Infracoes\\ano2020\\mar.csv\", sep = ';', encoding = 'cp1252', dtype = 'object')\n",
    "abr2020 = pd.read_csv(r\"E:\\CAMILA DRIVE\\02.BIG_DATA_PUC\\13.TCC\\Infracoes\\ano2020\\abr.csv\", sep = ';', encoding = 'cp1252', dtype = 'object')\n",
    "mai2020 = pd.read_csv(r\"E:\\CAMILA DRIVE\\02.BIG_DATA_PUC\\13.TCC\\Infracoes\\ano2020\\mai.csv\", sep = ';', encoding = 'cp1252', dtype = 'object')\n",
    "jun2020 = pd.read_csv(r\"E:\\CAMILA DRIVE\\02.BIG_DATA_PUC\\13.TCC\\Infracoes\\ano2020\\jun.csv\", sep = ';', encoding = 'cp1252', dtype = 'object')\n",
    "jul2020 = pd.read_csv(r\"E:\\CAMILA DRIVE\\02.BIG_DATA_PUC\\13.TCC\\Infracoes\\ano2020\\jul.csv\", sep = ';', encoding = 'cp1252', dtype = 'object')\n",
    "ago2020 = pd.read_csv(r\"E:\\CAMILA DRIVE\\02.BIG_DATA_PUC\\13.TCC\\Infracoes\\ano2020\\ago.csv\", sep = ';', encoding = 'cp1252', dtype = 'object')\n",
    "set2020 = pd.read_csv(r\"E:\\CAMILA DRIVE\\02.BIG_DATA_PUC\\13.TCC\\Infracoes\\ano2020\\set.csv\", sep = ';', encoding = 'cp1252', dtype = 'object')\n",
    "out2020 = pd.read_csv(r\"E:\\CAMILA DRIVE\\02.BIG_DATA_PUC\\13.TCC\\Infracoes\\ano2020\\out.csv\", sep = ';', encoding = 'cp1252', dtype = 'object')\n",
    "nov2020 = pd.read_csv(r\"E:\\CAMILA DRIVE\\02.BIG_DATA_PUC\\13.TCC\\Infracoes\\ano2020\\nov.csv\", sep = ';', encoding = 'cp1252', dtype = 'object')\n",
    "dez2020 = pd.read_csv(r\"E:\\CAMILA DRIVE\\02.BIG_DATA_PUC\\13.TCC\\Infracoes\\ano2020\\dez.csv\", sep = ';', encoding = 'cp1252', dtype = 'object')\n"
   ]
  },
  {
   "cell_type": "code",
   "execution_count": 9,
   "id": "6f06b54a",
   "metadata": {},
   "outputs": [
    {
     "name": "stdout",
     "output_type": "stream",
     "text": [
      "<class 'pandas.core.frame.DataFrame'>\n",
      "Int64Index: 5182537 entries, 0 to 500301\n",
      "Data columns (total 22 columns):\n",
      " #   Column                         Dtype \n",
      "---  ------                         ----- \n",
      " 0   Número do Auto                 object\n",
      " 1   Data da Infração (DD/MM/AAAA)  object\n",
      " 2   Indicador de Abordagem         object\n",
      " 3   Assinatura do Auto             object\n",
      " 4   Indicador Veiculo Estrangeiro  object\n",
      " 5   Sentido Trafego                object\n",
      " 6   UF Infração                    object\n",
      " 7   BR Infração                    object\n",
      " 8   Km Infração                    object\n",
      " 9   Município                      object\n",
      " 10  Código da Infração             object\n",
      " 11  Descrição Abreviada Infração   object\n",
      " 12  Enquadramento da Infração      object\n",
      " 13  Início Vigência da Infração    object\n",
      " 14  Fim Vigência Infração          object\n",
      " 15  Medição Infração               object\n",
      " 16  Descrição Especie Veículo      object\n",
      " 17  Descrição Marca Veículo        object\n",
      " 18  Hora Infração                  object\n",
      " 19  Medição Considerada            object\n",
      " 20  Excesso Verificado             object\n",
      " 21  Qtd Infrações                  object\n",
      "dtypes: object(22)\n",
      "memory usage: 909.4+ MB\n"
     ]
    }
   ],
   "source": [
    "# a base de Janeiro de 2020 tem uma coluna a mais do que as outras, por isso precisaremos deletá-la antes de concatenar \n",
    "# todos os meses de 2020\n",
    "del jan2020['UF Placa']\n",
    "#Agora sim, vamos unir todos os meses\n",
    "ano2020 = pd.concat([jan2020, fev2020, mar2020, abr2020, mai2020, jun2020, jul2020, ago2020, set2020, out2020, nov2020, dez2020], join = \"inner\")\n",
    "ano2020.info()"
   ]
  },
  {
   "cell_type": "markdown",
   "id": "c7a93062",
   "metadata": {},
   "source": [
    "# ------------------------------------------------------------------------------------------------------------\n",
    "# Processamento e Tratamento das bases\n",
    "# ------------------------------------------------------------------------------------------------------------"
   ]
  },
  {
   "cell_type": "markdown",
   "id": "a74b7907",
   "metadata": {},
   "source": [
    "## Higienização de ano2017 - Uniformização das colunas"
   ]
  },
  {
   "cell_type": "code",
   "execution_count": 10,
   "id": "49bc1eb6",
   "metadata": {},
   "outputs": [
    {
     "data": {
      "text/plain": [
       "['dat_infracao',\n",
       " 'tip_abordagem',\n",
       " 'ind_assinou_auto',\n",
       " 'ind_veiculo_estrangeiro',\n",
       " 'ind_sentido_trafego',\n",
       " 'uf_placa',\n",
       " 'uf_infracao',\n",
       " 'num_br_infracao',\n",
       " 'num_km_infracao',\n",
       " 'nom_municipio',\n",
       " 'cod_infracao',\n",
       " 'descricao_abreviada',\n",
       " 'enquadramento',\n",
       " 'data_inicio_vigencia',\n",
       " 'data_fim_vigencia',\n",
       " 'med_realizada',\n",
       " 'med_considerada',\n",
       " 'exc_verificado',\n",
       " 'especie',\n",
       " 'nome_veiculo_marca',\n",
       " 'nom_modelo_veiculo',\n",
       " 'hora']"
      ]
     },
     "execution_count": 10,
     "metadata": {},
     "output_type": "execute_result"
    }
   ],
   "source": [
    "#Verificando as colunas no dataframe para  verificar quais serão deletadas\n",
    "ano2017.columns.tolist()"
   ]
  },
  {
   "cell_type": "code",
   "execution_count": 11,
   "id": "7c6bf6e9",
   "metadata": {},
   "outputs": [
    {
     "data": {
      "text/html": [
       "<div>\n",
       "<style scoped>\n",
       "    .dataframe tbody tr th:only-of-type {\n",
       "        vertical-align: middle;\n",
       "    }\n",
       "\n",
       "    .dataframe tbody tr th {\n",
       "        vertical-align: top;\n",
       "    }\n",
       "\n",
       "    .dataframe thead th {\n",
       "        text-align: right;\n",
       "    }\n",
       "</style>\n",
       "<table border=\"1\" class=\"dataframe\">\n",
       "  <thead>\n",
       "    <tr style=\"text-align: right;\">\n",
       "      <th></th>\n",
       "      <th>dat_infracao</th>\n",
       "      <th>uf_infracao</th>\n",
       "      <th>num_br_infracao</th>\n",
       "      <th>cod_infracao</th>\n",
       "      <th>descricao_abreviada</th>\n",
       "      <th>hora</th>\n",
       "    </tr>\n",
       "  </thead>\n",
       "  <tbody>\n",
       "    <tr>\n",
       "      <th>0</th>\n",
       "      <td>2017-01-01</td>\n",
       "      <td>SP</td>\n",
       "      <td>153</td>\n",
       "      <td>74630</td>\n",
       "      <td>Transitar em velocidade superior à máxima perm...</td>\n",
       "      <td>00:00:54</td>\n",
       "    </tr>\n",
       "    <tr>\n",
       "      <th>1</th>\n",
       "      <td>2017-01-01</td>\n",
       "      <td>ES</td>\n",
       "      <td>101</td>\n",
       "      <td>65992</td>\n",
       "      <td>Conduzir o veículo registrado que não esteja d...</td>\n",
       "      <td>00:01:00</td>\n",
       "    </tr>\n",
       "    <tr>\n",
       "      <th>2</th>\n",
       "      <td>2017-01-01</td>\n",
       "      <td>RJ</td>\n",
       "      <td>116</td>\n",
       "      <td>74550</td>\n",
       "      <td>Transitar em velocidade superior à máxima perm...</td>\n",
       "      <td>00:02:08</td>\n",
       "    </tr>\n",
       "    <tr>\n",
       "      <th>3</th>\n",
       "      <td>2017-01-01</td>\n",
       "      <td>RJ</td>\n",
       "      <td>101</td>\n",
       "      <td>74550</td>\n",
       "      <td>Transitar em velocidade superior à máxima perm...</td>\n",
       "      <td>00:03:43</td>\n",
       "    </tr>\n",
       "    <tr>\n",
       "      <th>4</th>\n",
       "      <td>2017-01-01</td>\n",
       "      <td>SP</td>\n",
       "      <td>116</td>\n",
       "      <td>74550</td>\n",
       "      <td>Transitar em velocidade superior à máxima perm...</td>\n",
       "      <td>00:03:50</td>\n",
       "    </tr>\n",
       "  </tbody>\n",
       "</table>\n",
       "</div>"
      ],
      "text/plain": [
       "  dat_infracao uf_infracao num_br_infracao cod_infracao  \\\n",
       "0   2017-01-01          SP             153        74630   \n",
       "1   2017-01-01          ES             101        65992   \n",
       "2   2017-01-01          RJ             116        74550   \n",
       "3   2017-01-01          RJ             101        74550   \n",
       "4   2017-01-01          SP             116        74550   \n",
       "\n",
       "                                 descricao_abreviada      hora  \n",
       "0  Transitar em velocidade superior à máxima perm...  00:00:54  \n",
       "1  Conduzir o veículo registrado que não esteja d...  00:01:00  \n",
       "2  Transitar em velocidade superior à máxima perm...  00:02:08  \n",
       "3  Transitar em velocidade superior à máxima perm...  00:03:43  \n",
       "4  Transitar em velocidade superior à máxima perm...  00:03:50  "
      ]
     },
     "execution_count": 11,
     "metadata": {},
     "output_type": "execute_result"
    }
   ],
   "source": [
    "#Ano2017 - Eliminando colunas que não serão usadas\n",
    "ano2017a = ano2017.drop(columns=['tip_abordagem', 'ind_assinou_auto','ind_veiculo_estrangeiro', 'ind_sentido_trafego', 'uf_placa','enquadramento', 'data_inicio_vigencia', 'data_fim_vigencia', 'med_realizada', 'med_considerada','especie', 'nome_veiculo_marca', 'nom_modelo_veiculo', 'exc_verificado',  'num_km_infracao', 'nom_municipio'],axis=1)\n",
    "ano2017a.head()"
   ]
  },
  {
   "cell_type": "code",
   "execution_count": 12,
   "id": "c496dd51",
   "metadata": {},
   "outputs": [
    {
     "name": "stdout",
     "output_type": "stream",
     "text": [
      "<class 'pandas.core.frame.DataFrame'>\n",
      "Int64Index: 6023833 entries, 0 to 580894\n",
      "Data columns (total 6 columns):\n",
      " #   Column          Dtype \n",
      "---  ------          ----- \n",
      " 0   Data            object\n",
      " 1   UF              object\n",
      " 2   BR              object\n",
      " 3   Codigo          object\n",
      " 4   Descricao       object\n",
      " 5   Hora_infr_prov  object\n",
      "dtypes: object(6)\n",
      "memory usage: 321.7+ MB\n"
     ]
    }
   ],
   "source": [
    "#Uma vez que já vimos que a coluna de hora está como 00:00:00 vamos nomeá-la de uma forma provisória, pois vamos criar outra\n",
    "ano2017a.columns = ['Data', 'UF',  'BR', 'Codigo', 'Descricao','Hora_infr_prov']\n",
    "ano2017a.info()"
   ]
  },
  {
   "cell_type": "code",
   "execution_count": 13,
   "id": "d7aaf28b",
   "metadata": {},
   "outputs": [
    {
     "name": "stdout",
     "output_type": "stream",
     "text": [
      "<class 'pandas.core.frame.DataFrame'>\n",
      "Int64Index: 6023833 entries, 0 to 580894\n",
      "Data columns (total 6 columns):\n",
      " #   Column     Dtype \n",
      "---  ------     ----- \n",
      " 0   Data       object\n",
      " 1   UF         object\n",
      " 2   BR         object\n",
      " 3   Codigo     object\n",
      " 4   Descricao  object\n",
      " 5   Hora       object\n",
      "dtypes: object(6)\n",
      "memory usage: 321.7+ MB\n"
     ]
    }
   ],
   "source": [
    "# Aqui criaremos outra coluna de hora, porém em formato inteiro\n",
    "ano2017a['Hora'] = ano2017a['Hora_infr_prov'].str.split(':').str[0]\n",
    "ano2017a.head(1)\n",
    "#Agora deletaremos a coluna antiga\n",
    "del ano2017a['Hora_infr_prov']\n",
    "ano2017a.info()"
   ]
  },
  {
   "cell_type": "code",
   "execution_count": 14,
   "id": "54b813c4",
   "metadata": {},
   "outputs": [
    {
     "data": {
      "text/plain": [
       "Data          0\n",
       "UF            0\n",
       "BR            0\n",
       "Codigo        0\n",
       "Descricao     0\n",
       "Hora         14\n",
       "dtype: int64"
      ]
     },
     "execution_count": 14,
     "metadata": {},
     "output_type": "execute_result"
    }
   ],
   "source": [
    "#Verificando colunas com valores NaN\n",
    "ano2017a.isnull().sum()"
   ]
  },
  {
   "cell_type": "code",
   "execution_count": 15,
   "id": "ac39ec67",
   "metadata": {},
   "outputs": [
    {
     "data": {
      "text/plain": [
       "Data         0\n",
       "UF           0\n",
       "BR           0\n",
       "Codigo       0\n",
       "Descricao    0\n",
       "Hora         0\n",
       "dtype: int64"
      ]
     },
     "execution_count": 15,
     "metadata": {},
     "output_type": "execute_result"
    }
   ],
   "source": [
    "#Deletaremos agora as linhas NaN presentes\n",
    "ano2017b = ano2017a.dropna(subset = ['Hora'])\n",
    "ano2017b.isnull().sum()"
   ]
  },
  {
   "cell_type": "code",
   "execution_count": 16,
   "id": "ea092381",
   "metadata": {},
   "outputs": [
    {
     "name": "stdout",
     "output_type": "stream",
     "text": [
      "<class 'pandas.core.frame.DataFrame'>\n",
      "Int64Index: 6023819 entries, 0 to 580894\n",
      "Data columns (total 6 columns):\n",
      " #   Column     Dtype \n",
      "---  ------     ----- \n",
      " 0   Data       object\n",
      " 1   UF         object\n",
      " 2   BR         object\n",
      " 3   Codigo     object\n",
      " 4   Descricao  object\n",
      " 5   Hora       object\n",
      "dtypes: object(6)\n",
      "memory usage: 321.7+ MB\n"
     ]
    }
   ],
   "source": [
    "#Verificando o tipo de dados das colunas\n",
    "ano2017b.info()"
   ]
  },
  {
   "cell_type": "code",
   "execution_count": 17,
   "id": "1657578e",
   "metadata": {},
   "outputs": [
    {
     "name": "stdout",
     "output_type": "stream",
     "text": [
      "<class 'pandas.core.frame.DataFrame'>\n",
      "Int64Index: 6023819 entries, 0 to 580894\n",
      "Data columns (total 6 columns):\n",
      " #   Column     Dtype \n",
      "---  ------     ----- \n",
      " 0   Data       object\n",
      " 1   UF         object\n",
      " 2   BR         int32 \n",
      " 3   Codigo     int32 \n",
      " 4   Descricao  object\n",
      " 5   Hora       int32 \n",
      "dtypes: int32(3), object(3)\n",
      "memory usage: 252.8+ MB\n"
     ]
    }
   ],
   "source": [
    "# Formatando tipo das colunas\n",
    "# OBS. Vamos manter data ainda como object para fazermos a identificação de MÊS\n",
    "ano2017c = ano2017b.astype({\"BR\": int, \"Hora\": int, \"Codigo\": int})\n",
    "ano2017c.info()"
   ]
  },
  {
   "cell_type": "markdown",
   "id": "590ab968",
   "metadata": {},
   "source": [
    "## Higienização ano2018  - Uniformização das colunas"
   ]
  },
  {
   "cell_type": "code",
   "execution_count": 18,
   "id": "6e469e06",
   "metadata": {},
   "outputs": [
    {
     "data": {
      "text/plain": [
       "['dat_infracao',\n",
       " 'tip_abordagem',\n",
       " 'ind_assinou_auto',\n",
       " 'ind_veiculo_estrangeiro',\n",
       " 'ind_sentido_trafego',\n",
       " 'uf_placa',\n",
       " 'uf_infracao',\n",
       " 'num_br_infracao',\n",
       " 'num_km_infracao',\n",
       " 'nom_municipio',\n",
       " 'cod_infracao',\n",
       " 'descricao_abreviada',\n",
       " 'enquadramento',\n",
       " 'data_inicio_vigencia',\n",
       " 'data_fim_vigencia',\n",
       " 'med_realizada',\n",
       " 'med_considerada',\n",
       " 'exc_verificado',\n",
       " 'especie',\n",
       " 'nome_veiculo_marca',\n",
       " 'nom_modelo_veiculo',\n",
       " 'hora']"
      ]
     },
     "execution_count": 18,
     "metadata": {},
     "output_type": "execute_result"
    }
   ],
   "source": [
    "#Verificando as colunas no dataframe para  verificar quais serão deletadas\n",
    "ano2018.columns.tolist()"
   ]
  },
  {
   "cell_type": "code",
   "execution_count": 19,
   "id": "d06a1104",
   "metadata": {},
   "outputs": [
    {
     "name": "stdout",
     "output_type": "stream",
     "text": [
      "<class 'pandas.core.frame.DataFrame'>\n",
      "Int64Index: 7356159 entries, 0 to 727724\n",
      "Data columns (total 6 columns):\n",
      " #   Column               Dtype \n",
      "---  ------               ----- \n",
      " 0   dat_infracao         object\n",
      " 1   uf_infracao          object\n",
      " 2   num_br_infracao      object\n",
      " 3   cod_infracao         object\n",
      " 4   descricao_abreviada  object\n",
      " 5   hora                 object\n",
      "dtypes: object(6)\n",
      "memory usage: 392.9+ MB\n"
     ]
    }
   ],
   "source": [
    "#Ano2018 - Eliminando colunas que não serão usadas\n",
    "ano2018a = ano2018.drop(columns=['tip_abordagem', 'ind_assinou_auto','ind_veiculo_estrangeiro', 'ind_sentido_trafego', 'uf_placa','enquadramento', 'data_inicio_vigencia', 'data_fim_vigencia', 'med_realizada', 'med_considerada','especie', 'nome_veiculo_marca', 'nom_modelo_veiculo', 'exc_verificado',  'num_km_infracao', 'nom_municipio'],axis=1)\n",
    "ano2018a.info()"
   ]
  },
  {
   "cell_type": "code",
   "execution_count": 20,
   "id": "b3bbea60",
   "metadata": {},
   "outputs": [
    {
     "name": "stdout",
     "output_type": "stream",
     "text": [
      "<class 'pandas.core.frame.DataFrame'>\n",
      "Int64Index: 7356159 entries, 0 to 727724\n",
      "Data columns (total 6 columns):\n",
      " #   Column          Dtype \n",
      "---  ------          ----- \n",
      " 0   Data            object\n",
      " 1   UF              object\n",
      " 2   BR              object\n",
      " 3   Codigo          object\n",
      " 4   Descricao       object\n",
      " 5   Hora_infr_prov  object\n",
      "dtypes: object(6)\n",
      "memory usage: 392.9+ MB\n"
     ]
    }
   ],
   "source": [
    "#Uma vez que já vimos que a coluna de hora está como 00:00:00 vamos nomeá-la de uma forma provisória, pois vamos criar outra\n",
    "ano2018a.columns = ['Data', 'UF',  'BR', 'Codigo', 'Descricao','Hora_infr_prov']\n",
    "ano2018a.info()"
   ]
  },
  {
   "cell_type": "code",
   "execution_count": 21,
   "id": "db3ecebf",
   "metadata": {},
   "outputs": [
    {
     "data": {
      "text/html": [
       "<div>\n",
       "<style scoped>\n",
       "    .dataframe tbody tr th:only-of-type {\n",
       "        vertical-align: middle;\n",
       "    }\n",
       "\n",
       "    .dataframe tbody tr th {\n",
       "        vertical-align: top;\n",
       "    }\n",
       "\n",
       "    .dataframe thead th {\n",
       "        text-align: right;\n",
       "    }\n",
       "</style>\n",
       "<table border=\"1\" class=\"dataframe\">\n",
       "  <thead>\n",
       "    <tr style=\"text-align: right;\">\n",
       "      <th></th>\n",
       "      <th>Data</th>\n",
       "      <th>UF</th>\n",
       "      <th>BR</th>\n",
       "      <th>Codigo</th>\n",
       "      <th>Descricao</th>\n",
       "      <th>Hora</th>\n",
       "    </tr>\n",
       "  </thead>\n",
       "  <tbody>\n",
       "    <tr>\n",
       "      <th>0</th>\n",
       "      <td>2018-01-01</td>\n",
       "      <td>GO</td>\n",
       "      <td>153</td>\n",
       "      <td>56142</td>\n",
       "      <td>Parar na pista de rolamento das rodovias</td>\n",
       "      <td>00</td>\n",
       "    </tr>\n",
       "  </tbody>\n",
       "</table>\n",
       "</div>"
      ],
      "text/plain": [
       "         Data  UF   BR Codigo                                 Descricao Hora\n",
       "0  2018-01-01  GO  153  56142  Parar na pista de rolamento das rodovias   00"
      ]
     },
     "execution_count": 21,
     "metadata": {},
     "output_type": "execute_result"
    }
   ],
   "source": [
    "# Aqui criaremos outra coluna de hora, porém em formato inteiro\n",
    "ano2018a['Hora'] = ano2018a['Hora_infr_prov'].str.split(':').str[0]\n",
    "# Agora deletaremos a coluna antiga\n",
    "del ano2018a['Hora_infr_prov']\n",
    "ano2018a.head(1)"
   ]
  },
  {
   "cell_type": "code",
   "execution_count": 22,
   "id": "d1efb1cc",
   "metadata": {},
   "outputs": [
    {
     "data": {
      "text/plain": [
       "Data          0\n",
       "UF            0\n",
       "BR            0\n",
       "Codigo        0\n",
       "Descricao     0\n",
       "Hora         28\n",
       "dtype: int64"
      ]
     },
     "execution_count": 22,
     "metadata": {},
     "output_type": "execute_result"
    }
   ],
   "source": [
    "ano2018a.isnull().sum()"
   ]
  },
  {
   "cell_type": "code",
   "execution_count": 23,
   "id": "19068dee",
   "metadata": {},
   "outputs": [
    {
     "data": {
      "text/plain": [
       "Data         0\n",
       "UF           0\n",
       "BR           0\n",
       "Codigo       0\n",
       "Descricao    0\n",
       "Hora         0\n",
       "dtype: int64"
      ]
     },
     "execution_count": 23,
     "metadata": {},
     "output_type": "execute_result"
    }
   ],
   "source": [
    "#Deletar linhas nulas da coluna de Hora\n",
    "ano2018b = ano2018a.dropna(subset = ['Hora'])\n",
    "ano2018b.isnull().sum()\n",
    "#Não converti aqui o astype(int) porque isso torna o DF emm SERIE e aí não dá pra agrupar"
   ]
  },
  {
   "cell_type": "code",
   "execution_count": 24,
   "id": "111d00a6",
   "metadata": {},
   "outputs": [
    {
     "name": "stdout",
     "output_type": "stream",
     "text": [
      "<class 'pandas.core.frame.DataFrame'>\n",
      "Int64Index: 7356131 entries, 0 to 727724\n",
      "Data columns (total 6 columns):\n",
      " #   Column     Dtype \n",
      "---  ------     ----- \n",
      " 0   Data       object\n",
      " 1   UF         object\n",
      " 2   BR         int32 \n",
      " 3   Codigo     int32 \n",
      " 4   Descricao  object\n",
      " 5   Hora       int32 \n",
      "dtypes: int32(3), object(3)\n",
      "memory usage: 308.7+ MB\n"
     ]
    }
   ],
   "source": [
    "#Formatando tipo das colunas\n",
    "# Vamos manter data ainda como object pra fazer a identificação de MÊS\n",
    "ano2018c = ano2018b.astype({\"BR\": int, \"Hora\": int, \"Codigo\": int})\n",
    "ano2018c.info()"
   ]
  },
  {
   "cell_type": "markdown",
   "id": "6ab8da63",
   "metadata": {},
   "source": [
    "## Higienizando ano2019 - Uniformização das colunas"
   ]
  },
  {
   "cell_type": "code",
   "execution_count": 25,
   "id": "76ca4321",
   "metadata": {},
   "outputs": [
    {
     "data": {
      "text/plain": [
       "['Número do Auto',\n",
       " 'Data da Infração (DD/MM/AAAA)',\n",
       " 'Indicador de Abordagem',\n",
       " 'Assinatura do Auto',\n",
       " 'Indicador Veiculo Estrangeiro',\n",
       " 'Sentido Trafego',\n",
       " 'UF Placa',\n",
       " 'UF Infração',\n",
       " 'BR Infração',\n",
       " 'Km Infração',\n",
       " 'Município',\n",
       " 'Código da Infração',\n",
       " 'Descrição Abreviada Infração',\n",
       " 'Enquadramento da Infração',\n",
       " 'Início Vigência da Infração',\n",
       " 'Fim Vigência Infração',\n",
       " 'Medição Infração',\n",
       " 'Descrição Especie Veículo',\n",
       " 'Descrição Marca Veículo',\n",
       " 'Hora Infração',\n",
       " 'Medição Considerada',\n",
       " 'Excesso Verificado']"
      ]
     },
     "execution_count": 25,
     "metadata": {},
     "output_type": "execute_result"
    }
   ],
   "source": [
    "# Verificando colunas \n",
    "ano2019.columns.tolist()"
   ]
  },
  {
   "cell_type": "code",
   "execution_count": 26,
   "id": "6bfc7586",
   "metadata": {},
   "outputs": [
    {
     "name": "stdout",
     "output_type": "stream",
     "text": [
      "<class 'pandas.core.frame.DataFrame'>\n",
      "Int64Index: 5742110 entries, 0 to 492723\n",
      "Data columns (total 6 columns):\n",
      " #   Column                         Dtype \n",
      "---  ------                         ----- \n",
      " 0   Data da Infração (DD/MM/AAAA)  object\n",
      " 1   UF Infração                    object\n",
      " 2   BR Infração                    object\n",
      " 3   Código da Infração             object\n",
      " 4   Descrição Abreviada Infração   object\n",
      " 5   Hora Infração                  object\n",
      "dtypes: object(6)\n",
      "memory usage: 306.7+ MB\n"
     ]
    }
   ],
   "source": [
    "#Ano2019 - Eliminando colunas que não serão usadas\n",
    "ano2019a = ano2019.drop(columns=['Número do Auto', 'Indicador de Abordagem', 'Assinatura do Auto', 'Indicador Veiculo Estrangeiro', 'Sentido Trafego', 'UF Placa','Enquadramento da Infração', 'Início Vigência da Infração', 'Fim Vigência Infração', 'Medição Infração', 'Descrição Especie Veículo', 'Descrição Marca Veículo','Medição Considerada', 'Excesso Verificado',  'Km Infração', 'Município'],axis=1)\n",
    "ano2019a.info()"
   ]
  },
  {
   "cell_type": "code",
   "execution_count": 27,
   "id": "1109a283",
   "metadata": {},
   "outputs": [
    {
     "name": "stdout",
     "output_type": "stream",
     "text": [
      "<class 'pandas.core.frame.DataFrame'>\n",
      "Int64Index: 5742110 entries, 0 to 492723\n",
      "Data columns (total 6 columns):\n",
      " #   Column     Dtype \n",
      "---  ------     ----- \n",
      " 0   Data       object\n",
      " 1   UF         object\n",
      " 2   BR         object\n",
      " 3   Codigo     object\n",
      " 4   Descricao  object\n",
      " 5   Hora       object\n",
      "dtypes: object(6)\n",
      "memory usage: 306.7+ MB\n"
     ]
    }
   ],
   "source": [
    "#Renomear para o padrão usado em 2017 e 2018\n",
    "ano2019a.columns = ['Data', 'UF',  'BR', 'Codigo', 'Descricao', 'Hora']\n",
    "ano2019a.info()"
   ]
  },
  {
   "cell_type": "code",
   "execution_count": 28,
   "id": "6195388e",
   "metadata": {},
   "outputs": [
    {
     "data": {
      "text/plain": [
       "Data         0\n",
       "UF           0\n",
       "BR           0\n",
       "Codigo       0\n",
       "Descricao    0\n",
       "Hora         0\n",
       "dtype: int64"
      ]
     },
     "execution_count": 28,
     "metadata": {},
     "output_type": "execute_result"
    }
   ],
   "source": [
    "# Verificando se há linhas nulas\n",
    "ano2019a.isnull().sum()"
   ]
  },
  {
   "cell_type": "code",
   "execution_count": 29,
   "id": "5bcc92fe",
   "metadata": {},
   "outputs": [
    {
     "data": {
      "text/plain": [
       "Data         0\n",
       "UF           0\n",
       "BR           0\n",
       "Codigo       0\n",
       "Descricao    0\n",
       "Hora         0\n",
       "dtype: int64"
      ]
     },
     "execution_count": 29,
     "metadata": {},
     "output_type": "execute_result"
    }
   ],
   "source": [
    "# Não há linhas nulas\n",
    "# Mas o processo será realizado da mesma forma para manter a lógica da nomenclatura\n",
    "ano2019b = ano2019a.dropna(subset = ['Hora'])\n",
    "ano2019b.isnull().sum()\n",
    "\n",
    "#Não converti aqui o astype(int) pq isso torna o DF emm SERIE e aí não dá pra agrupar"
   ]
  },
  {
   "cell_type": "code",
   "execution_count": 30,
   "id": "ea9a6863",
   "metadata": {},
   "outputs": [
    {
     "name": "stdout",
     "output_type": "stream",
     "text": [
      "<class 'pandas.core.frame.DataFrame'>\n",
      "Int64Index: 5742110 entries, 0 to 492723\n",
      "Data columns (total 6 columns):\n",
      " #   Column     Dtype \n",
      "---  ------     ----- \n",
      " 0   Data       object\n",
      " 1   UF         object\n",
      " 2   BR         int32 \n",
      " 3   Codigo     int32 \n",
      " 4   Descricao  object\n",
      " 5   Hora       int32 \n",
      "dtypes: int32(3), object(3)\n",
      "memory usage: 240.9+ MB\n"
     ]
    }
   ],
   "source": [
    "#Formatando tipo das colunas\n",
    "# Vamos manter data ainda como object pra fazer a identificação de MÊS\n",
    "ano2019c = ano2019b.astype({\"BR\": int, \"Hora\": int, \"Codigo\": int})\n",
    "ano2019c.info()"
   ]
  },
  {
   "cell_type": "markdown",
   "id": "d3d8eb8c",
   "metadata": {},
   "source": [
    "## Higienização de ano2020 - Uniformização das colunas"
   ]
  },
  {
   "cell_type": "code",
   "execution_count": 31,
   "id": "24a1c377",
   "metadata": {},
   "outputs": [
    {
     "data": {
      "text/plain": [
       "['Número do Auto',\n",
       " 'Data da Infração (DD/MM/AAAA)',\n",
       " 'Indicador de Abordagem',\n",
       " 'Assinatura do Auto',\n",
       " 'Indicador Veiculo Estrangeiro',\n",
       " 'Sentido Trafego',\n",
       " 'UF Infração',\n",
       " 'BR Infração',\n",
       " 'Km Infração',\n",
       " 'Município',\n",
       " 'Código da Infração',\n",
       " 'Descrição Abreviada Infração',\n",
       " 'Enquadramento da Infração',\n",
       " 'Início Vigência da Infração',\n",
       " 'Fim Vigência Infração',\n",
       " 'Medição Infração',\n",
       " 'Descrição Especie Veículo',\n",
       " 'Descrição Marca Veículo',\n",
       " 'Hora Infração',\n",
       " 'Medição Considerada',\n",
       " 'Excesso Verificado',\n",
       " 'Qtd Infrações']"
      ]
     },
     "execution_count": 31,
     "metadata": {},
     "output_type": "execute_result"
    }
   ],
   "source": [
    "# Verificando as colunas\n",
    "ano2020.columns.tolist()"
   ]
  },
  {
   "cell_type": "code",
   "execution_count": 32,
   "id": "49f82989",
   "metadata": {},
   "outputs": [
    {
     "name": "stdout",
     "output_type": "stream",
     "text": [
      "<class 'pandas.core.frame.DataFrame'>\n",
      "Int64Index: 5182537 entries, 0 to 500301\n",
      "Data columns (total 6 columns):\n",
      " #   Column                         Dtype \n",
      "---  ------                         ----- \n",
      " 0   Data da Infração (DD/MM/AAAA)  object\n",
      " 1   UF Infração                    object\n",
      " 2   BR Infração                    object\n",
      " 3   Código da Infração             object\n",
      " 4   Descrição Abreviada Infração   object\n",
      " 5   Hora Infração                  object\n",
      "dtypes: object(6)\n",
      "memory usage: 276.8+ MB\n"
     ]
    }
   ],
   "source": [
    "#Ano2020 - Eliminando colunas que não serão usadas\n",
    "ano2020a = ano2020.drop(columns=['Número do Auto', 'Indicador de Abordagem', 'Assinatura do Auto', 'Indicador Veiculo Estrangeiro', 'Sentido Trafego', 'Enquadramento da Infração', 'Início Vigência da Infração', 'Fim Vigência Infração', 'Medição Infração', 'Descrição Especie Veículo', 'Descrição Marca Veículo','Medição Considerada','Qtd Infrações',  'Excesso Verificado',  'Km Infração', 'Município'],axis=1)\n",
    "ano2020a.info()"
   ]
  },
  {
   "cell_type": "code",
   "execution_count": 33,
   "id": "92b437d6",
   "metadata": {},
   "outputs": [
    {
     "data": {
      "text/html": [
       "<div>\n",
       "<style scoped>\n",
       "    .dataframe tbody tr th:only-of-type {\n",
       "        vertical-align: middle;\n",
       "    }\n",
       "\n",
       "    .dataframe tbody tr th {\n",
       "        vertical-align: top;\n",
       "    }\n",
       "\n",
       "    .dataframe thead th {\n",
       "        text-align: right;\n",
       "    }\n",
       "</style>\n",
       "<table border=\"1\" class=\"dataframe\">\n",
       "  <thead>\n",
       "    <tr style=\"text-align: right;\">\n",
       "      <th></th>\n",
       "      <th>Data</th>\n",
       "      <th>UF</th>\n",
       "      <th>BR</th>\n",
       "      <th>Codigo</th>\n",
       "      <th>Descricao</th>\n",
       "      <th>Hora</th>\n",
       "    </tr>\n",
       "  </thead>\n",
       "  <tbody>\n",
       "    <tr>\n",
       "      <th>0</th>\n",
       "      <td>2020-01-16</td>\n",
       "      <td>RS</td>\n",
       "      <td>290</td>\n",
       "      <td>58350</td>\n",
       "      <td>Desobedecer às ordens emanadas da autorid comp...</td>\n",
       "      <td>0</td>\n",
       "    </tr>\n",
       "  </tbody>\n",
       "</table>\n",
       "</div>"
      ],
      "text/plain": [
       "         Data  UF   BR Codigo  \\\n",
       "0  2020-01-16  RS  290  58350   \n",
       "\n",
       "                                           Descricao Hora  \n",
       "0  Desobedecer às ordens emanadas da autorid comp...    0  "
      ]
     },
     "execution_count": 33,
     "metadata": {},
     "output_type": "execute_result"
    }
   ],
   "source": [
    "# Renomear para o padrão usado\n",
    "ano2020a.columns = ['Data', 'UF',  'BR', 'Codigo', 'Descricao', 'Hora']\n",
    "ano2020a.head(1)"
   ]
  },
  {
   "cell_type": "code",
   "execution_count": 34,
   "id": "311e0c37",
   "metadata": {},
   "outputs": [
    {
     "data": {
      "text/plain": [
       "Data         0\n",
       "UF           0\n",
       "BR           0\n",
       "Codigo       0\n",
       "Descricao    0\n",
       "Hora         0\n",
       "dtype: int64"
      ]
     },
     "execution_count": 34,
     "metadata": {},
     "output_type": "execute_result"
    }
   ],
   "source": [
    "# Verificando se há linhas nulas\n",
    "ano2020a.isnull().sum()"
   ]
  },
  {
   "cell_type": "code",
   "execution_count": 35,
   "id": "e43fc38f",
   "metadata": {},
   "outputs": [
    {
     "name": "stdout",
     "output_type": "stream",
     "text": [
      "<class 'pandas.core.frame.DataFrame'>\n",
      "Int64Index: 5182537 entries, 0 to 500301\n",
      "Data columns (total 6 columns):\n",
      " #   Column     Dtype \n",
      "---  ------     ----- \n",
      " 0   Data       object\n",
      " 1   UF         object\n",
      " 2   BR         object\n",
      " 3   Codigo     object\n",
      " 4   Descricao  object\n",
      " 5   Hora       object\n",
      "dtypes: object(6)\n",
      "memory usage: 276.8+ MB\n"
     ]
    }
   ],
   "source": [
    "# Não há linhas nulas, mas procederemos com o comando mesmo assim, para mantermos o padrão de nomes de dataframes\n",
    "ano2020b = ano2020a.dropna(subset = ['Hora'])\n",
    "ano2020b.info()\n",
    "#Não converti aqui o astype(int) pq isso torna o DF emm SERIE e aí não dá pra agrupar"
   ]
  },
  {
   "cell_type": "code",
   "execution_count": 36,
   "id": "5d1140c9",
   "metadata": {},
   "outputs": [
    {
     "name": "stdout",
     "output_type": "stream",
     "text": [
      "<class 'pandas.core.frame.DataFrame'>\n",
      "Int64Index: 5182537 entries, 0 to 500301\n",
      "Data columns (total 6 columns):\n",
      " #   Column     Dtype \n",
      "---  ------     ----- \n",
      " 0   Data       object\n",
      " 1   UF         object\n",
      " 2   BR         int32 \n",
      " 3   Codigo     int32 \n",
      " 4   Descricao  object\n",
      " 5   Hora       int32 \n",
      "dtypes: int32(3), object(3)\n",
      "memory usage: 217.5+ MB\n"
     ]
    }
   ],
   "source": [
    "#Formatando tipo das colunas\n",
    "# Vamos manter Data ainda como object pra fazer a identificação de MÊS\n",
    "ano2020c = ano2020b.astype({\"BR\": int, \"Hora\": int, \"Codigo\": int})\n",
    "ano2020c.info()"
   ]
  },
  {
   "cell_type": "markdown",
   "id": "efee6745",
   "metadata": {},
   "source": [
    "# ##################################################################\n",
    "\n",
    "#           INFRAÇÕES    POR UF        \n",
    "# ##################################################################"
   ]
  },
  {
   "cell_type": "markdown",
   "id": "59d865b1",
   "metadata": {},
   "source": [
    "## Ranking e gráfico de Infrações por UF - 2017"
   ]
  },
  {
   "cell_type": "code",
   "execution_count": 37,
   "id": "33f0e8c0",
   "metadata": {},
   "outputs": [
    {
     "data": {
      "text/plain": [
       "UF\n",
       "SP    930622\n",
       "RJ    832436\n",
       "BA    667166\n",
       "MG    653881\n",
       "PR    528561\n",
       "SC    362163\n",
       "RS    328716\n",
       "GO    291935\n",
       "CE    245597\n",
       "PE    143129\n",
       "MT    130043\n",
       "MS    123643\n",
       "PI    101387\n",
       "ES    100495\n",
       "PB     91151\n",
       "PA     83947\n",
       "RO     80156\n",
       "MA     70645\n",
       "RN     67464\n",
       "AL     43836\n",
       "DF     35066\n",
       "SE     30898\n",
       "AM     22659\n",
       "TO     22088\n",
       "AC     13968\n",
       "RR     12843\n",
       "AP      9324\n",
       "Name: Total de Infrações por ano, dtype: int64"
      ]
     },
     "execution_count": 37,
     "metadata": {},
     "output_type": "execute_result"
    }
   ],
   "source": [
    "# Agrupando infrações do ano por UF\n",
    "ano2017_ufs = ano2017c.groupby(['UF']).size().sort_values(ascending=False)\n",
    "ano2017_ufs = ano2017_ufs.rename(\"Total de Infrações por ano\")\n",
    "ano2017_ufs.rename_axis(\"Total de infrações por ano\")\n",
    "ano2017_ufs"
   ]
  },
  {
   "cell_type": "code",
   "execution_count": 38,
   "id": "0a07d005",
   "metadata": {},
   "outputs": [
    {
     "data": {
      "text/plain": [
       "pandas.core.series.Series"
      ]
     },
     "execution_count": 38,
     "metadata": {},
     "output_type": "execute_result"
    }
   ],
   "source": [
    "type(ano2017_ufs)"
   ]
  },
  {
   "cell_type": "code",
   "execution_count": 39,
   "id": "92a33280",
   "metadata": {},
   "outputs": [
    {
     "data": {
      "text/plain": [
       "<AxesSubplot:title={'center':'Gráfico de Infrações por UF - 2017'}, xlabel='UF', ylabel='Infrações'>"
      ]
     },
     "execution_count": 39,
     "metadata": {},
     "output_type": "execute_result"
    },
    {
     "data": {
      "image/png": "[encoded data removed]",
      "text/plain": [
       "<Figure size 720x576 with 1 Axes>"
      ]
     },
     "metadata": {
      "needs_background": "light"
     },
     "output_type": "display_data"
    }
   ],
   "source": [
    "# Gráfico de Infrações por UF - 2017\n",
    "ano2017_ufs.plot.bar(figsize=(10,8), color = 'lightpink', title = \"Gráfico de Infrações por UF - 2017\", ylabel = 'Infrações')"
   ]
  },
  {
   "cell_type": "markdown",
   "id": "4370b3aa",
   "metadata": {},
   "source": [
    "## Ranking e gráfico de Infrações por UF - 2018"
   ]
  },
  {
   "cell_type": "code",
   "execution_count": 40,
   "id": "e32a6327",
   "metadata": {},
   "outputs": [
    {
     "data": {
      "text/plain": [
       "UF\n",
       "MG    1206324\n",
       "RJ    1127572\n",
       "SP     799175\n",
       "BA     714759\n",
       "PR     525525\n",
       "SC     428671\n",
       "GO     346295\n",
       "DF     331487\n",
       "RS     289684\n",
       "MS     264469\n",
       "CE     261135\n",
       "ES     196197\n",
       "MT     163691\n",
       "PE     124469\n",
       "PI      88519\n",
       "PB      87599\n",
       "RN      74317\n",
       "PA      67740\n",
       "RO      63857\n",
       "MA      56837\n",
       "SE      40125\n",
       "AL      31556\n",
       "TO      19749\n",
       "AM      14123\n",
       "AP      11140\n",
       "RR      10711\n",
       "AC      10405\n",
       "Name: Total de Infrações por ano, dtype: int64"
      ]
     },
     "execution_count": 40,
     "metadata": {},
     "output_type": "execute_result"
    }
   ],
   "source": [
    "# Agrupando infrações do ano por UF\n",
    "ano2018_ufs = ano2018c.groupby(['UF']).size().sort_values(ascending=False)\n",
    "ano2018_ufs = ano2018_ufs.rename(\"Total de Infrações por ano\")\n",
    "ano2018_ufs"
   ]
  },
  {
   "cell_type": "code",
   "execution_count": 41,
   "id": "9eb1b4bd",
   "metadata": {},
   "outputs": [
    {
     "data": {
      "text/plain": [
       "pandas.core.series.Series"
      ]
     },
     "execution_count": 41,
     "metadata": {},
     "output_type": "execute_result"
    }
   ],
   "source": [
    "type(ano2018_ufs)"
   ]
  },
  {
   "cell_type": "code",
   "execution_count": 42,
   "id": "79a11740",
   "metadata": {},
   "outputs": [
    {
     "data": {
      "text/plain": [
       "<AxesSubplot:title={'center':'Gráfico de Infrações por UF - 2018'}, xlabel='UF', ylabel='Infrações'>"
      ]
     },
     "execution_count": 42,
     "metadata": {},
     "output_type": "execute_result"
    },
    {
     "data": {
      "image/png": "[encoded data removed]",
      "text/plain": [
       "<Figure size 720x576 with 1 Axes>"
      ]
     },
     "metadata": {
      "needs_background": "light"
     },
     "output_type": "display_data"
    }
   ],
   "source": [
    "# Gráfico de Infrações por UF - 2018\n",
    "ano2018_ufs.plot.bar(figsize=(10,8), color = 'lightpink', title = \"Gráfico de Infrações por UF - 2018\", ylabel = 'Infrações')"
   ]
  },
  {
   "cell_type": "markdown",
   "id": "8abc73b9",
   "metadata": {},
   "source": [
    "## Ranking e gráfico de Infrações por UF - 2019"
   ]
  },
  {
   "cell_type": "code",
   "execution_count": 43,
   "id": "007b7550",
   "metadata": {},
   "outputs": [
    {
     "data": {
      "text/plain": [
       "UF\n",
       "RJ    765807\n",
       "SP    631019\n",
       "MG    611677\n",
       "BA    594990\n",
       "PR    364895\n",
       "SC    357031\n",
       "MS    354123\n",
       "GO    304334\n",
       "ES    233648\n",
       "MT    210832\n",
       "RS    208267\n",
       "DF    177956\n",
       "CE    167252\n",
       "PE    138120\n",
       "RO     91157\n",
       "PB     85457\n",
       "PI     80995\n",
       "RN     79933\n",
       "PA     62606\n",
       "MA     61561\n",
       "AL     48694\n",
       "SE     47628\n",
       "TO     19468\n",
       "AM     14615\n",
       "RR     13410\n",
       "AP     11232\n",
       "AC      5403\n",
       "Name: Total de Infrações por ano, dtype: int64"
      ]
     },
     "execution_count": 43,
     "metadata": {},
     "output_type": "execute_result"
    }
   ],
   "source": [
    "# Agrupando infrações do ano por UF\n",
    "ano2019_ufs = ano2019c.groupby(['UF']).size().sort_values(ascending=False)\n",
    "ano2019_ufs = ano2019_ufs.rename(\"Total de Infrações por ano\")\n",
    "ano2019_ufs"
   ]
  },
  {
   "cell_type": "code",
   "execution_count": 44,
   "id": "6e2dd027",
   "metadata": {},
   "outputs": [
    {
     "data": {
      "text/plain": [
       "pandas.core.series.Series"
      ]
     },
     "execution_count": 44,
     "metadata": {},
     "output_type": "execute_result"
    }
   ],
   "source": [
    "type(ano2019_ufs)"
   ]
  },
  {
   "cell_type": "code",
   "execution_count": 45,
   "id": "210abcb4",
   "metadata": {},
   "outputs": [
    {
     "data": {
      "text/plain": [
       "<AxesSubplot:title={'center':'Gráfico de Infrações por UF - 2019'}, xlabel='UF', ylabel='Infrações'>"
      ]
     },
     "execution_count": 45,
     "metadata": {},
     "output_type": "execute_result"
    },
    {
     "data": {
      "image/png": "[encoded data removed]",
      "text/plain": [
       "<Figure size 720x576 with 1 Axes>"
      ]
     },
     "metadata": {
      "needs_background": "light"
     },
     "output_type": "display_data"
    }
   ],
   "source": [
    "# Gráfico de Infrações por UF - 2019\n",
    "ano2019_ufs.plot.bar(figsize=(10,8), color = 'lightpink', title = 'Gráfico de Infrações por UF - 2019', ylabel = 'Infrações')"
   ]
  },
  {
   "cell_type": "markdown",
   "id": "cf42e071",
   "metadata": {},
   "source": [
    "## Ranking e gráfico de Infrações por UF - 2020"
   ]
  },
  {
   "cell_type": "code",
   "execution_count": 46,
   "id": "df0be509",
   "metadata": {},
   "outputs": [
    {
     "data": {
      "text/plain": [
       "UF\n",
       "RJ    919184\n",
       "MG    665769\n",
       "SP    475498\n",
       "BA    403442\n",
       "MS    399371\n",
       "PR    338031\n",
       "SC    318324\n",
       "GO    221705\n",
       "MT    172090\n",
       "ES    162210\n",
       "RS    147056\n",
       "DF    141893\n",
       "PE    114052\n",
       "CE    111986\n",
       "RO     94962\n",
       "PB     89023\n",
       "PI     84293\n",
       "RN     74617\n",
       "PA     64343\n",
       "MA     44799\n",
       "AL     38972\n",
       "SE     31730\n",
       "TO     22114\n",
       "AM     17333\n",
       "RR     12117\n",
       "AP      9877\n",
       "AC      7746\n",
       "Name: Total de Infrações por ano, dtype: int64"
      ]
     },
     "execution_count": 46,
     "metadata": {},
     "output_type": "execute_result"
    }
   ],
   "source": [
    "# Agrupando infrações do ano por UF\n",
    "ano2020_ufs = ano2020c.groupby(['UF']).size().sort_values(ascending=False)\n",
    "ano2020_ufs = ano2020_ufs.rename(\"Total de Infrações por ano\")\n",
    "ano2020_ufs"
   ]
  },
  {
   "cell_type": "code",
   "execution_count": 47,
   "id": "9c525eb7",
   "metadata": {},
   "outputs": [
    {
     "data": {
      "text/plain": [
       "pandas.core.series.Series"
      ]
     },
     "execution_count": 47,
     "metadata": {},
     "output_type": "execute_result"
    }
   ],
   "source": [
    "type(ano2020_ufs)"
   ]
  },
  {
   "cell_type": "code",
   "execution_count": 48,
   "id": "016923c8",
   "metadata": {},
   "outputs": [
    {
     "data": {
      "text/plain": [
       "<AxesSubplot:title={'center':'Gráfico de Infrações por UF - 2020'}, xlabel='UF', ylabel='Infrações'>"
      ]
     },
     "execution_count": 48,
     "metadata": {},
     "output_type": "execute_result"
    },
    {
     "data": {
      "image/png": "[encoded data removed]",
      "text/plain": [
       "<Figure size 720x576 with 1 Axes>"
      ]
     },
     "metadata": {
      "needs_background": "light"
     },
     "output_type": "display_data"
    }
   ],
   "source": [
    "# Gráfico de Infrações por UF - 2020\n",
    "ano2020_ufs.plot.bar(figsize=(10,8), color = 'lightpink', title = 'Gráfico de Infrações por UF - 2020', ylabel = 'Infrações')"
   ]
  },
  {
   "cell_type": "markdown",
   "id": "2623a80e",
   "metadata": {},
   "source": [
    "# ################################################################\n",
    "# DATASET  ACIDENTES\n",
    "#  ################################################################"
   ]
  },
  {
   "cell_type": "code",
   "execution_count": 49,
   "id": "63184c42",
   "metadata": {},
   "outputs": [],
   "source": [
    "#Lendo o arquivo de infrações dos meses por ano\n",
    "\n",
    "acid2017 = pd.read_csv(r\"E:\\CAMILA DRIVE\\02.BIG_DATA_PUC\\13.TCC\\Acidentes\\acidentes2017_todas_causas_tipos.csv\", sep=';', decimal = '.', encoding = 'cp1252', dtype = 'object')\n",
    "acid2018 = pd.read_csv(r\"E:\\CAMILA DRIVE\\02.BIG_DATA_PUC\\13.TCC\\Acidentes\\acidentes2018_todas_causas_tipos.csv\", sep=';', decimal = '.', encoding = 'cp1252', dtype = 'object')\n",
    "acid2019 = pd.read_csv(r\"E:\\CAMILA DRIVE\\02.BIG_DATA_PUC\\13.TCC\\Acidentes\\acidentes2019_todas_causas_tipos.csv\", sep=';', decimal = '.', encoding = 'cp1252', dtype = 'object')\n",
    "acid2020 = pd.read_csv(r\"E:\\CAMILA DRIVE\\02.BIG_DATA_PUC\\13.TCC\\Acidentes\\acidentes2020_todas_causas_tipos.csv\", sep=';', decimal = '.', encoding = 'utf8', dtype = 'object')"
   ]
  },
  {
   "cell_type": "code",
   "execution_count": 50,
   "id": "15938323",
   "metadata": {},
   "outputs": [],
   "source": [
    "# Usando cp1252 na planilha de 2020 deu erro de\n",
    "#\"UnicodeDecodeError: 'charmap' codec can't decode byte 0x81 in position 4165: character maps to <undefined>\"\n",
    "# por isso decidi usar outro encoding."
   ]
  },
  {
   "cell_type": "markdown",
   "id": "d27202a3",
   "metadata": {},
   "source": [
    "# HIGIENIZAÇÃO ACIDENTES"
   ]
  },
  {
   "cell_type": "markdown",
   "id": "a3fd6498",
   "metadata": {},
   "source": [
    "# Ano 2017"
   ]
  },
  {
   "cell_type": "code",
   "execution_count": 51,
   "id": "8749a981",
   "metadata": {},
   "outputs": [
    {
     "data": {
      "text/plain": [
       "['id',\n",
       " 'pesid',\n",
       " 'data_inversa',\n",
       " 'dia_semana',\n",
       " 'horario',\n",
       " 'uf',\n",
       " 'br',\n",
       " 'km',\n",
       " 'municipio',\n",
       " 'causa_principal',\n",
       " 'causa_acidente',\n",
       " 'ordem_tipo_acidente',\n",
       " 'tipo_acidente',\n",
       " 'classificacao_acidente',\n",
       " 'fase_dia',\n",
       " 'sentido_via',\n",
       " 'condicao_metereologica',\n",
       " 'tipo_pista',\n",
       " 'tracado_via',\n",
       " 'uso_solo',\n",
       " 'id_veiculo',\n",
       " 'tipo_veiculo',\n",
       " 'marca',\n",
       " 'ano_fabricacao_veiculo',\n",
       " 'tipo_envolvido',\n",
       " 'estado_fisico',\n",
       " 'idade',\n",
       " 'sexo',\n",
       " 'ilesos',\n",
       " 'feridos_leves',\n",
       " 'feridos_graves',\n",
       " 'mortos',\n",
       " 'latitude',\n",
       " 'longitude',\n",
       " 'regional',\n",
       " 'delegacia',\n",
       " 'uop']"
      ]
     },
     "execution_count": 51,
     "metadata": {},
     "output_type": "execute_result"
    }
   ],
   "source": [
    "# Avaliando a base\n",
    "acid2017.columns.tolist()"
   ]
  },
  {
   "cell_type": "code",
   "execution_count": 52,
   "id": "39533285",
   "metadata": {},
   "outputs": [
    {
     "name": "stdout",
     "output_type": "stream",
     "text": [
      "<class 'pandas.core.frame.DataFrame'>\n",
      "RangeIndex: 349067 entries, 0 to 349066\n",
      "Data columns (total 12 columns):\n",
      " #   Column                  Non-Null Count   Dtype \n",
      "---  ------                  --------------   ----- \n",
      " 0   data_inversa            349067 non-null  object\n",
      " 1   dia_semana              349067 non-null  object\n",
      " 2   horario                 349067 non-null  object\n",
      " 3   uf                      349067 non-null  object\n",
      " 4   br                      348546 non-null  object\n",
      " 5   causa_acidente          349067 non-null  object\n",
      " 6   tipo_acidente           349067 non-null  object\n",
      " 7   classificacao_acidente  349067 non-null  object\n",
      " 8   ilesos                  349067 non-null  object\n",
      " 9   feridos_leves           349067 non-null  object\n",
      " 10  feridos_graves          349067 non-null  object\n",
      " 11  mortos                  349067 non-null  object\n",
      "dtypes: object(12)\n",
      "memory usage: 32.0+ MB\n"
     ]
    }
   ],
   "source": [
    "#Acid2017 - Eliminando colunas que não serão usadas\n",
    "acid2017a = acid2017.drop(columns=['id', 'pesid', 'causa_principal', 'ordem_tipo_acidente','fase_dia', 'sentido_via', 'condicao_metereologica','tipo_pista','tracado_via', 'uso_solo', 'id_veiculo', 'tipo_veiculo', 'marca', 'ano_fabricacao_veiculo', 'tipo_envolvido', 'estado_fisico', 'idade', 'sexo','regional', 'delegacia', 'uop','latitude','longitude', 'municipio', 'km'],axis=1)\n",
    "acid2017a.info()"
   ]
  },
  {
   "cell_type": "code",
   "execution_count": 53,
   "id": "31735907",
   "metadata": {},
   "outputs": [
    {
     "name": "stdout",
     "output_type": "stream",
     "text": [
      "<class 'pandas.core.frame.DataFrame'>\n",
      "RangeIndex: 349067 entries, 0 to 349066\n",
      "Data columns (total 12 columns):\n",
      " #   Column                  Non-Null Count   Dtype \n",
      "---  ------                  --------------   ----- \n",
      " 0   data_inversa            349067 non-null  object\n",
      " 1   dia_semana              349067 non-null  object\n",
      " 2   uf                      349067 non-null  object\n",
      " 3   br                      348546 non-null  object\n",
      " 4   causa_acidente          349067 non-null  object\n",
      " 5   tipo_acidente           349067 non-null  object\n",
      " 6   classificacao_acidente  349067 non-null  object\n",
      " 7   ilesos                  349067 non-null  object\n",
      " 8   feridos_leves           349067 non-null  object\n",
      " 9   feridos_graves          349067 non-null  object\n",
      " 10  mortos                  349067 non-null  object\n",
      " 11  Hora                    349067 non-null  object\n",
      "dtypes: object(12)\n",
      "memory usage: 32.0+ MB\n"
     ]
    }
   ],
   "source": [
    "# Criando coluna de hora inteira\n",
    "acid2017a['Hora'] = acid2017a['horario'].str.split(':').str[0]\n",
    "\n",
    "#Deletando a coluna antiga\n",
    "del acid2017a['horario']\n",
    "acid2017a.info()"
   ]
  },
  {
   "cell_type": "code",
   "execution_count": 54,
   "id": "7b80ccdf",
   "metadata": {},
   "outputs": [
    {
     "name": "stdout",
     "output_type": "stream",
     "text": [
      "<class 'pandas.core.frame.DataFrame'>\n",
      "RangeIndex: 349067 entries, 0 to 349066\n",
      "Data columns (total 12 columns):\n",
      " #   Column          Non-Null Count   Dtype \n",
      "---  ------          --------------   ----- \n",
      " 0   Data            349067 non-null  object\n",
      " 1   Dia_semana      349067 non-null  object\n",
      " 2   UF              349067 non-null  object\n",
      " 3   BR              348546 non-null  object\n",
      " 4   Causa           349067 non-null  object\n",
      " 5   Tipo_acidente   349067 non-null  object\n",
      " 6   Classificacao   349067 non-null  object\n",
      " 7   Ilesos          349067 non-null  object\n",
      " 8   Feridos_leves   349067 non-null  object\n",
      " 9   Feridos_graves  349067 non-null  object\n",
      " 10  Obitos          349067 non-null  object\n",
      " 11  Hora            349067 non-null  object\n",
      "dtypes: object(12)\n",
      "memory usage: 32.0+ MB\n"
     ]
    }
   ],
   "source": [
    "# Renomear a base para o padrão usado\n",
    "acid2017a.columns = ['Data', 'Dia_semana', 'UF',  'BR', 'Causa', 'Tipo_acidente','Classificacao', 'Ilesos', 'Feridos_leves', 'Feridos_graves', 'Obitos', 'Hora']\n",
    "acid2017a.info()"
   ]
  },
  {
   "cell_type": "code",
   "execution_count": 55,
   "id": "b57be8b2",
   "metadata": {},
   "outputs": [
    {
     "data": {
      "text/plain": [
       "Data                0\n",
       "Dia_semana          0\n",
       "UF                  0\n",
       "BR                521\n",
       "Causa               0\n",
       "Tipo_acidente       0\n",
       "Classificacao       0\n",
       "Ilesos              0\n",
       "Feridos_leves       0\n",
       "Feridos_graves      0\n",
       "Obitos              0\n",
       "Hora                0\n",
       "dtype: int64"
      ]
     },
     "execution_count": 55,
     "metadata": {},
     "output_type": "execute_result"
    }
   ],
   "source": [
    "# Verificando se há linhas nulas\n",
    "acid2017a.isnull().sum()"
   ]
  },
  {
   "cell_type": "code",
   "execution_count": 56,
   "id": "025d4104",
   "metadata": {},
   "outputs": [
    {
     "data": {
      "text/plain": [
       "Data              0\n",
       "Dia_semana        0\n",
       "UF                0\n",
       "BR                0\n",
       "Causa             0\n",
       "Tipo_acidente     0\n",
       "Classificacao     0\n",
       "Ilesos            0\n",
       "Feridos_leves     0\n",
       "Feridos_graves    0\n",
       "Obitos            0\n",
       "Hora              0\n",
       "dtype: int64"
      ]
     },
     "execution_count": 56,
     "metadata": {},
     "output_type": "execute_result"
    }
   ],
   "source": [
    "#Deletaremos agora as linhas nulas\n",
    "acid2017b = acid2017a.dropna(subset = ['BR'])\n",
    "acid2017b.isnull().sum()"
   ]
  },
  {
   "cell_type": "code",
   "execution_count": 57,
   "id": "ed66c36e",
   "metadata": {},
   "outputs": [
    {
     "name": "stdout",
     "output_type": "stream",
     "text": [
      "<class 'pandas.core.frame.DataFrame'>\n",
      "Int64Index: 348546 entries, 0 to 349066\n",
      "Data columns (total 12 columns):\n",
      " #   Column          Non-Null Count   Dtype \n",
      "---  ------          --------------   ----- \n",
      " 0   Data            348546 non-null  object\n",
      " 1   Dia_semana      348546 non-null  object\n",
      " 2   UF              348546 non-null  object\n",
      " 3   BR              348546 non-null  int32 \n",
      " 4   Causa           348546 non-null  object\n",
      " 5   Tipo_acidente   348546 non-null  object\n",
      " 6   Classificacao   348546 non-null  object\n",
      " 7   Ilesos          348546 non-null  int32 \n",
      " 8   Feridos_leves   348546 non-null  int32 \n",
      " 9   Feridos_graves  348546 non-null  int32 \n",
      " 10  Obitos          348546 non-null  int32 \n",
      " 11  Hora            348546 non-null  int32 \n",
      "dtypes: int32(6), object(6)\n",
      "memory usage: 26.6+ MB\n"
     ]
    }
   ],
   "source": [
    "# Formatando tipo das colunas\n",
    "# Vamos manter data ainda como object pra fazer a identificação de MÊS\n",
    "\n",
    "acid2017c = acid2017b.astype({\"BR\": int, \"Hora\": int, 'Ilesos': int, 'Feridos_leves' : int, 'Feridos_graves': int, 'Obitos' : int})\n",
    "acid2017c.info()"
   ]
  },
  {
   "cell_type": "markdown",
   "id": "3386fa77",
   "metadata": {},
   "source": [
    "# ANO 2018"
   ]
  },
  {
   "cell_type": "code",
   "execution_count": 58,
   "id": "053efec2",
   "metadata": {},
   "outputs": [
    {
     "name": "stdout",
     "output_type": "stream",
     "text": [
      "<class 'pandas.core.frame.DataFrame'>\n",
      "RangeIndex: 324809 entries, 0 to 324808\n",
      "Data columns (total 37 columns):\n",
      " #   Column                  Non-Null Count   Dtype \n",
      "---  ------                  --------------   ----- \n",
      " 0   id                      324809 non-null  object\n",
      " 1   pesid                   299277 non-null  object\n",
      " 2   data_inversa            324809 non-null  object\n",
      " 3   dia_semana              324809 non-null  object\n",
      " 4   horario                 324809 non-null  object\n",
      " 5   uf                      324809 non-null  object\n",
      " 6   br                      324257 non-null  object\n",
      " 7   km                      324257 non-null  object\n",
      " 8   municipio               324809 non-null  object\n",
      " 9   causa_principal         324809 non-null  object\n",
      " 10  causa_acidente          324809 non-null  object\n",
      " 11  ordem_tipo_acidente     324754 non-null  object\n",
      " 12  tipo_acidente           324754 non-null  object\n",
      " 13  classificacao_acidente  324809 non-null  object\n",
      " 14  fase_dia                324809 non-null  object\n",
      " 15  sentido_via             324809 non-null  object\n",
      " 16  condicao_metereologica  324809 non-null  object\n",
      " 17  tipo_pista              324809 non-null  object\n",
      " 18  tracado_via             324809 non-null  object\n",
      " 19  uso_solo                324809 non-null  object\n",
      " 20  id_veiculo              324809 non-null  object\n",
      " 21  tipo_veiculo            324809 non-null  object\n",
      " 22  marca                   311669 non-null  object\n",
      " 23  ano_fabricacao_veiculo  309128 non-null  object\n",
      " 24  tipo_envolvido          324809 non-null  object\n",
      " 25  estado_fisico           324809 non-null  object\n",
      " 26  idade                   263305 non-null  object\n",
      " 27  sexo                    324809 non-null  object\n",
      " 28  ilesos                  324809 non-null  object\n",
      " 29  feridos_leves           324809 non-null  object\n",
      " 30  feridos_graves          324809 non-null  object\n",
      " 31  mortos                  324809 non-null  object\n",
      " 32  latitude                324809 non-null  object\n",
      " 33  longitude               324809 non-null  object\n",
      " 34  regional                324809 non-null  object\n",
      " 35  delegacia               324809 non-null  object\n",
      " 36  uop                     308467 non-null  object\n",
      "dtypes: object(37)\n",
      "memory usage: 91.7+ MB\n"
     ]
    }
   ],
   "source": [
    "# Verificando a base\n",
    "acid2018.info()"
   ]
  },
  {
   "cell_type": "code",
   "execution_count": 59,
   "id": "56c47ade",
   "metadata": {},
   "outputs": [
    {
     "name": "stdout",
     "output_type": "stream",
     "text": [
      "<class 'pandas.core.frame.DataFrame'>\n",
      "RangeIndex: 324809 entries, 0 to 324808\n",
      "Data columns (total 12 columns):\n",
      " #   Column                  Non-Null Count   Dtype \n",
      "---  ------                  --------------   ----- \n",
      " 0   data_inversa            324809 non-null  object\n",
      " 1   dia_semana              324809 non-null  object\n",
      " 2   horario                 324809 non-null  object\n",
      " 3   uf                      324809 non-null  object\n",
      " 4   br                      324257 non-null  object\n",
      " 5   causa_acidente          324809 non-null  object\n",
      " 6   tipo_acidente           324754 non-null  object\n",
      " 7   classificacao_acidente  324809 non-null  object\n",
      " 8   ilesos                  324809 non-null  object\n",
      " 9   feridos_leves           324809 non-null  object\n",
      " 10  feridos_graves          324809 non-null  object\n",
      " 11  mortos                  324809 non-null  object\n",
      "dtypes: object(12)\n",
      "memory usage: 29.7+ MB\n"
     ]
    }
   ],
   "source": [
    "#Acid2018 - Eliminando colunas que não serão usadas\n",
    "acid2018a = acid2018.drop(columns=['id', 'pesid', 'causa_principal', 'ordem_tipo_acidente','fase_dia', 'sentido_via', 'condicao_metereologica','tipo_pista','tracado_via', 'uso_solo', 'id_veiculo', 'tipo_veiculo', 'marca', 'ano_fabricacao_veiculo', 'tipo_envolvido', 'estado_fisico', 'idade', 'sexo','regional', 'delegacia', 'uop', 'km',  'latitude', 'longitude', 'municipio'] ,axis=1)\n",
    "acid2018a.info()"
   ]
  },
  {
   "cell_type": "code",
   "execution_count": 60,
   "id": "5bb85382",
   "metadata": {},
   "outputs": [
    {
     "name": "stdout",
     "output_type": "stream",
     "text": [
      "<class 'pandas.core.frame.DataFrame'>\n",
      "RangeIndex: 324809 entries, 0 to 324808\n",
      "Data columns (total 12 columns):\n",
      " #   Column                  Non-Null Count   Dtype \n",
      "---  ------                  --------------   ----- \n",
      " 0   data_inversa            324809 non-null  object\n",
      " 1   dia_semana              324809 non-null  object\n",
      " 2   uf                      324809 non-null  object\n",
      " 3   br                      324257 non-null  object\n",
      " 4   causa_acidente          324809 non-null  object\n",
      " 5   tipo_acidente           324754 non-null  object\n",
      " 6   classificacao_acidente  324809 non-null  object\n",
      " 7   ilesos                  324809 non-null  object\n",
      " 8   feridos_leves           324809 non-null  object\n",
      " 9   feridos_graves          324809 non-null  object\n",
      " 10  mortos                  324809 non-null  object\n",
      " 11  Hora                    324809 non-null  object\n",
      "dtypes: object(12)\n",
      "memory usage: 29.7+ MB\n"
     ]
    }
   ],
   "source": [
    "# Criando coluna de hora inteira\n",
    "acid2018a['Hora'] = acid2018a['horario'].str.split(':').str[0]\n",
    "\n",
    "#Deletando horario\n",
    "del acid2018a['horario']\n",
    "acid2018a.info()"
   ]
  },
  {
   "cell_type": "code",
   "execution_count": 61,
   "id": "15a34b36",
   "metadata": {},
   "outputs": [
    {
     "name": "stdout",
     "output_type": "stream",
     "text": [
      "<class 'pandas.core.frame.DataFrame'>\n",
      "RangeIndex: 324809 entries, 0 to 324808\n",
      "Data columns (total 12 columns):\n",
      " #   Column          Non-Null Count   Dtype \n",
      "---  ------          --------------   ----- \n",
      " 0   Data            324809 non-null  object\n",
      " 1   Dia_semana      324809 non-null  object\n",
      " 2   UF              324809 non-null  object\n",
      " 3   BR              324257 non-null  object\n",
      " 4   Causa           324809 non-null  object\n",
      " 5   Tipo_acidente   324754 non-null  object\n",
      " 6   Classificacao   324809 non-null  object\n",
      " 7   Ilesos          324809 non-null  object\n",
      " 8   Feridos_leves   324809 non-null  object\n",
      " 9   Feridos_graves  324809 non-null  object\n",
      " 10  Obitos          324809 non-null  object\n",
      " 11  Hora            324809 non-null  object\n",
      "dtypes: object(12)\n",
      "memory usage: 29.7+ MB\n"
     ]
    }
   ],
   "source": [
    "# Renomeando colunas para o padrão usado\n",
    "acid2018a.columns = ['Data', 'Dia_semana', 'UF',  'BR', 'Causa', 'Tipo_acidente','Classificacao', 'Ilesos', 'Feridos_leves', 'Feridos_graves', 'Obitos', 'Hora']\n",
    "acid2018a.info()"
   ]
  },
  {
   "cell_type": "code",
   "execution_count": 62,
   "id": "c22ade92",
   "metadata": {},
   "outputs": [
    {
     "data": {
      "text/plain": [
       "Data                0\n",
       "Dia_semana          0\n",
       "UF                  0\n",
       "BR                552\n",
       "Causa               0\n",
       "Tipo_acidente      55\n",
       "Classificacao       0\n",
       "Ilesos              0\n",
       "Feridos_leves       0\n",
       "Feridos_graves      0\n",
       "Obitos              0\n",
       "Hora                0\n",
       "dtype: int64"
      ]
     },
     "execution_count": 62,
     "metadata": {},
     "output_type": "execute_result"
    }
   ],
   "source": [
    "# Verificando se há linhas nulas\n",
    "acid2018a.isnull().sum()"
   ]
  },
  {
   "cell_type": "code",
   "execution_count": 63,
   "id": "44be3a85",
   "metadata": {},
   "outputs": [
    {
     "data": {
      "text/plain": [
       "Data              0\n",
       "Dia_semana        0\n",
       "UF                0\n",
       "BR                0\n",
       "Causa             0\n",
       "Tipo_acidente     0\n",
       "Classificacao     0\n",
       "Ilesos            0\n",
       "Feridos_leves     0\n",
       "Feridos_graves    0\n",
       "Obitos            0\n",
       "Hora              0\n",
       "dtype: int64"
      ]
     },
     "execution_count": 63,
     "metadata": {},
     "output_type": "execute_result"
    }
   ],
   "source": [
    "# Deletaremos agora as linhas nulas\n",
    "acid2018b = acid2018a.dropna(subset = ['BR'])\n",
    "acid2018b = acid2018b.dropna(subset = ['Tipo_acidente'])\n",
    "acid2018b.isnull().sum()"
   ]
  },
  {
   "cell_type": "code",
   "execution_count": 64,
   "id": "cc8f259d",
   "metadata": {},
   "outputs": [
    {
     "name": "stdout",
     "output_type": "stream",
     "text": [
      "<class 'pandas.core.frame.DataFrame'>\n",
      "Int64Index: 324202 entries, 0 to 324808\n",
      "Data columns (total 12 columns):\n",
      " #   Column          Non-Null Count   Dtype \n",
      "---  ------          --------------   ----- \n",
      " 0   Data            324202 non-null  object\n",
      " 1   Dia_semana      324202 non-null  object\n",
      " 2   UF              324202 non-null  object\n",
      " 3   BR              324202 non-null  int32 \n",
      " 4   Causa           324202 non-null  object\n",
      " 5   Tipo_acidente   324202 non-null  object\n",
      " 6   Classificacao   324202 non-null  object\n",
      " 7   Ilesos          324202 non-null  int32 \n",
      " 8   Feridos_leves   324202 non-null  int32 \n",
      " 9   Feridos_graves  324202 non-null  int32 \n",
      " 10  Obitos          324202 non-null  int32 \n",
      " 11  Hora            324202 non-null  int32 \n",
      "dtypes: int32(6), object(6)\n",
      "memory usage: 24.7+ MB\n"
     ]
    }
   ],
   "source": [
    "#Formatando tipo das colunas\n",
    "# Vamos manter data ainda como object pra fazer a identificação de MÊS\n",
    "acid2018c = acid2018b.astype({\"BR\": int, \"Hora\": int, 'Ilesos': int, 'Feridos_leves' : int, 'Feridos_graves': int, 'Obitos' : int})\n",
    "acid2018c.info()"
   ]
  },
  {
   "cell_type": "markdown",
   "id": "ea1c6b01",
   "metadata": {},
   "source": [
    "# Ano 2019"
   ]
  },
  {
   "cell_type": "code",
   "execution_count": 65,
   "id": "7795b556",
   "metadata": {},
   "outputs": [
    {
     "name": "stdout",
     "output_type": "stream",
     "text": [
      "<class 'pandas.core.frame.DataFrame'>\n",
      "RangeIndex: 331666 entries, 0 to 331665\n",
      "Data columns (total 37 columns):\n",
      " #   Column                  Non-Null Count   Dtype \n",
      "---  ------                  --------------   ----- \n",
      " 0   id                      331666 non-null  object\n",
      " 1   pesid                   307223 non-null  object\n",
      " 2   data_inversa            331666 non-null  object\n",
      " 3   dia_semana              331666 non-null  object\n",
      " 4   horario                 331666 non-null  object\n",
      " 5   uf                      331666 non-null  object\n",
      " 6   br                      331291 non-null  object\n",
      " 7   km                      331291 non-null  object\n",
      " 8   municipio               331666 non-null  object\n",
      " 9   causa_principal         331666 non-null  object\n",
      " 10  causa_acidente          331666 non-null  object\n",
      " 11  ordem_tipo_acidente     331626 non-null  object\n",
      " 12  tipo_acidente           331626 non-null  object\n",
      " 13  classificacao_acidente  331666 non-null  object\n",
      " 14  fase_dia                331666 non-null  object\n",
      " 15  sentido_via             331666 non-null  object\n",
      " 16  condicao_metereologica  331666 non-null  object\n",
      " 17  tipo_pista              331666 non-null  object\n",
      " 18  tracado_via             331666 non-null  object\n",
      " 19  uso_solo                331666 non-null  object\n",
      " 20  id_veiculo              331666 non-null  object\n",
      " 21  tipo_veiculo            331666 non-null  object\n",
      " 22  marca                   317602 non-null  object\n",
      " 23  ano_fabricacao_veiculo  314393 non-null  object\n",
      " 24  tipo_envolvido          331666 non-null  object\n",
      " 25  estado_fisico           331666 non-null  object\n",
      " 26  idade                   269798 non-null  object\n",
      " 27  sexo                    331666 non-null  object\n",
      " 28  ilesos                  331666 non-null  object\n",
      " 29  feridos_leves           331666 non-null  object\n",
      " 30  feridos_graves          331666 non-null  object\n",
      " 31  mortos                  331666 non-null  object\n",
      " 32  latitude                331666 non-null  object\n",
      " 33  longitude               331666 non-null  object\n",
      " 34  regional                331666 non-null  object\n",
      " 35  delegacia               331666 non-null  object\n",
      " 36  uop                     314468 non-null  object\n",
      "dtypes: object(37)\n",
      "memory usage: 93.6+ MB\n"
     ]
    }
   ],
   "source": [
    "# Verificando a base\n",
    "acid2019.info()"
   ]
  },
  {
   "cell_type": "code",
   "execution_count": 66,
   "id": "dfa8051f",
   "metadata": {},
   "outputs": [
    {
     "name": "stdout",
     "output_type": "stream",
     "text": [
      "<class 'pandas.core.frame.DataFrame'>\n",
      "RangeIndex: 331666 entries, 0 to 331665\n",
      "Data columns (total 12 columns):\n",
      " #   Column                  Non-Null Count   Dtype \n",
      "---  ------                  --------------   ----- \n",
      " 0   data_inversa            331666 non-null  object\n",
      " 1   dia_semana              331666 non-null  object\n",
      " 2   horario                 331666 non-null  object\n",
      " 3   uf                      331666 non-null  object\n",
      " 4   br                      331291 non-null  object\n",
      " 5   causa_acidente          331666 non-null  object\n",
      " 6   tipo_acidente           331626 non-null  object\n",
      " 7   classificacao_acidente  331666 non-null  object\n",
      " 8   ilesos                  331666 non-null  object\n",
      " 9   feridos_leves           331666 non-null  object\n",
      " 10  feridos_graves          331666 non-null  object\n",
      " 11  mortos                  331666 non-null  object\n",
      "dtypes: object(12)\n",
      "memory usage: 30.4+ MB\n"
     ]
    }
   ],
   "source": [
    "#Acid2019 - Eliminando colunas que não serão usadas\n",
    "acid2019a = acid2019.drop(columns=['id', 'pesid', 'km', 'causa_principal', 'ordem_tipo_acidente','fase_dia', 'sentido_via', 'condicao_metereologica','tipo_pista','tracado_via', 'uso_solo', 'id_veiculo', 'tipo_veiculo', 'marca', 'ano_fabricacao_veiculo', 'tipo_envolvido', 'estado_fisico', 'idade', 'sexo','regional', 'delegacia', 'uop',  'latitude','longitude', 'municipio'],axis=1)\n",
    "acid2019a.info()"
   ]
  },
  {
   "cell_type": "code",
   "execution_count": 67,
   "id": "f78dd15e",
   "metadata": {},
   "outputs": [
    {
     "name": "stdout",
     "output_type": "stream",
     "text": [
      "<class 'pandas.core.frame.DataFrame'>\n",
      "RangeIndex: 331666 entries, 0 to 331665\n",
      "Data columns (total 12 columns):\n",
      " #   Column                  Non-Null Count   Dtype \n",
      "---  ------                  --------------   ----- \n",
      " 0   data_inversa            331666 non-null  object\n",
      " 1   dia_semana              331666 non-null  object\n",
      " 2   uf                      331666 non-null  object\n",
      " 3   br                      331291 non-null  object\n",
      " 4   causa_acidente          331666 non-null  object\n",
      " 5   tipo_acidente           331626 non-null  object\n",
      " 6   classificacao_acidente  331666 non-null  object\n",
      " 7   ilesos                  331666 non-null  object\n",
      " 8   feridos_leves           331666 non-null  object\n",
      " 9   feridos_graves          331666 non-null  object\n",
      " 10  mortos                  331666 non-null  object\n",
      " 11  Hora                    331666 non-null  object\n",
      "dtypes: object(12)\n",
      "memory usage: 30.4+ MB\n"
     ]
    }
   ],
   "source": [
    "# Criando coluna de hora inteira\n",
    "acid2019a['Hora'] = acid2019a['horario'].str.split(':').str[0]\n",
    "\n",
    "#Deletando a coluna antiga de horário\n",
    "del acid2019a['horario']\n",
    "acid2019a.info()"
   ]
  },
  {
   "cell_type": "code",
   "execution_count": 68,
   "id": "0782d2f5",
   "metadata": {},
   "outputs": [
    {
     "name": "stdout",
     "output_type": "stream",
     "text": [
      "<class 'pandas.core.frame.DataFrame'>\n",
      "RangeIndex: 331666 entries, 0 to 331665\n",
      "Data columns (total 12 columns):\n",
      " #   Column          Non-Null Count   Dtype \n",
      "---  ------          --------------   ----- \n",
      " 0   Data            331666 non-null  object\n",
      " 1   Dia_semana      331666 non-null  object\n",
      " 2   UF              331666 non-null  object\n",
      " 3   BR              331291 non-null  object\n",
      " 4   Causa           331666 non-null  object\n",
      " 5   Tipo_acidente   331626 non-null  object\n",
      " 6   Classificacao   331666 non-null  object\n",
      " 7   Ilesos          331666 non-null  object\n",
      " 8   Feridos_leves   331666 non-null  object\n",
      " 9   Feridos_graves  331666 non-null  object\n",
      " 10  Obitos          331666 non-null  object\n",
      " 11  Hora            331666 non-null  object\n",
      "dtypes: object(12)\n",
      "memory usage: 30.4+ MB\n"
     ]
    }
   ],
   "source": [
    "# Renomeando para o padrão usado\n",
    "acid2019a.columns = ['Data', 'Dia_semana', 'UF',  'BR', 'Causa', 'Tipo_acidente','Classificacao', 'Ilesos', 'Feridos_leves', 'Feridos_graves', 'Obitos', 'Hora']\n",
    "acid2019a.info()"
   ]
  },
  {
   "cell_type": "code",
   "execution_count": 69,
   "id": "485bde59",
   "metadata": {},
   "outputs": [
    {
     "data": {
      "text/plain": [
       "Data                0\n",
       "Dia_semana          0\n",
       "UF                  0\n",
       "BR                375\n",
       "Causa               0\n",
       "Tipo_acidente      40\n",
       "Classificacao       0\n",
       "Ilesos              0\n",
       "Feridos_leves       0\n",
       "Feridos_graves      0\n",
       "Obitos              0\n",
       "Hora                0\n",
       "dtype: int64"
      ]
     },
     "execution_count": 69,
     "metadata": {},
     "output_type": "execute_result"
    }
   ],
   "source": [
    "# Verificando se há linhas nulas\n",
    "acid2019a.isnull().sum()"
   ]
  },
  {
   "cell_type": "code",
   "execution_count": 70,
   "id": "4e45ca27",
   "metadata": {},
   "outputs": [
    {
     "data": {
      "text/plain": [
       "Data              0\n",
       "Dia_semana        0\n",
       "UF                0\n",
       "BR                0\n",
       "Causa             0\n",
       "Tipo_acidente     0\n",
       "Classificacao     0\n",
       "Ilesos            0\n",
       "Feridos_leves     0\n",
       "Feridos_graves    0\n",
       "Obitos            0\n",
       "Hora              0\n",
       "dtype: int64"
      ]
     },
     "execution_count": 70,
     "metadata": {},
     "output_type": "execute_result"
    }
   ],
   "source": [
    "#Deletaremos as linhas nulas\n",
    "acid2019b = acid2019a.dropna(subset = ['BR'])\n",
    "acid2019b = acid2019b.dropna(subset = ['Tipo_acidente'])\n",
    "acid2019b.isnull().sum()"
   ]
  },
  {
   "cell_type": "code",
   "execution_count": 71,
   "id": "8e0b6017",
   "metadata": {},
   "outputs": [
    {
     "name": "stdout",
     "output_type": "stream",
     "text": [
      "<class 'pandas.core.frame.DataFrame'>\n",
      "Int64Index: 331251 entries, 0 to 331665\n",
      "Data columns (total 12 columns):\n",
      " #   Column          Non-Null Count   Dtype \n",
      "---  ------          --------------   ----- \n",
      " 0   Data            331251 non-null  object\n",
      " 1   Dia_semana      331251 non-null  object\n",
      " 2   UF              331251 non-null  object\n",
      " 3   BR              331251 non-null  int32 \n",
      " 4   Causa           331251 non-null  object\n",
      " 5   Tipo_acidente   331251 non-null  object\n",
      " 6   Classificacao   331251 non-null  object\n",
      " 7   Ilesos          331251 non-null  int32 \n",
      " 8   Feridos_leves   331251 non-null  int32 \n",
      " 9   Feridos_graves  331251 non-null  int32 \n",
      " 10  Obitos          331251 non-null  int32 \n",
      " 11  Hora            331251 non-null  int32 \n",
      "dtypes: int32(6), object(6)\n",
      "memory usage: 25.3+ MB\n"
     ]
    }
   ],
   "source": [
    "#Formatando tipo das colunas\n",
    "# Vamos manter data ainda como object pra fazer a identificação de MÊS\n",
    "acid2019c = acid2019b.astype({\"BR\": int, \"Hora\": int, 'Ilesos': int, 'Feridos_leves' : int, 'Feridos_graves': int, 'Obitos' : int})\n",
    "acid2019c.info()"
   ]
  },
  {
   "cell_type": "markdown",
   "id": "51b7b1ee",
   "metadata": {},
   "source": [
    "## Ano 2020"
   ]
  },
  {
   "cell_type": "code",
   "execution_count": 72,
   "id": "0ad7e518",
   "metadata": {},
   "outputs": [
    {
     "name": "stdout",
     "output_type": "stream",
     "text": [
      "<class 'pandas.core.frame.DataFrame'>\n",
      "RangeIndex: 394482 entries, 0 to 394481\n",
      "Data columns (total 37 columns):\n",
      " #   Column                  Non-Null Count   Dtype \n",
      "---  ------                  --------------   ----- \n",
      " 0   id                      394482 non-null  object\n",
      " 1   pesid                   361405 non-null  object\n",
      " 2   data_inversa            394482 non-null  object\n",
      " 3   dia_semana              394482 non-null  object\n",
      " 4   horario                 394482 non-null  object\n",
      " 5   uf                      394482 non-null  object\n",
      " 6   br                      393468 non-null  object\n",
      " 7   km                      393468 non-null  object\n",
      " 8   municipio               394482 non-null  object\n",
      " 9   causa_principal         394482 non-null  object\n",
      " 10  causa_acidente          394482 non-null  object\n",
      " 11  ordem_tipo_acidente     394481 non-null  object\n",
      " 12  tipo_acidente           394481 non-null  object\n",
      " 13  classificacao_acidente  394481 non-null  object\n",
      " 14  fase_dia                394482 non-null  object\n",
      " 15  sentido_via             394482 non-null  object\n",
      " 16  condicao_metereologica  394482 non-null  object\n",
      " 17  tipo_pista              394482 non-null  object\n",
      " 18  tracado_via             394482 non-null  object\n",
      " 19  uso_solo                394482 non-null  object\n",
      " 20  id_veiculo              394481 non-null  object\n",
      " 21  tipo_veiculo            394482 non-null  object\n",
      " 22  marca                   375429 non-null  object\n",
      " 23  ano_fabricacao_veiculo  370896 non-null  object\n",
      " 24  tipo_envolvido          394482 non-null  object\n",
      " 25  estado_fisico           394482 non-null  object\n",
      " 26  idade                   314893 non-null  object\n",
      " 27  sexo                    394482 non-null  object\n",
      " 28  ilesos                  394482 non-null  object\n",
      " 29  feridos_leves           394482 non-null  object\n",
      " 30  feridos_graves          394482 non-null  object\n",
      " 31  mortos                  394482 non-null  object\n",
      " 32  latitude                394482 non-null  object\n",
      " 33  longitude               394482 non-null  object\n",
      " 34  regional                394482 non-null  object\n",
      " 35  delegacia               394482 non-null  object\n",
      " 36  uop                     391833 non-null  object\n",
      "dtypes: object(37)\n",
      "memory usage: 111.4+ MB\n"
     ]
    }
   ],
   "source": [
    "# Verificando a base\n",
    "acid2020.info()"
   ]
  },
  {
   "cell_type": "code",
   "execution_count": 73,
   "id": "5727a02b",
   "metadata": {},
   "outputs": [
    {
     "name": "stdout",
     "output_type": "stream",
     "text": [
      "<class 'pandas.core.frame.DataFrame'>\n",
      "RangeIndex: 394482 entries, 0 to 394481\n",
      "Data columns (total 12 columns):\n",
      " #   Column                  Non-Null Count   Dtype \n",
      "---  ------                  --------------   ----- \n",
      " 0   data_inversa            394482 non-null  object\n",
      " 1   dia_semana              394482 non-null  object\n",
      " 2   horario                 394482 non-null  object\n",
      " 3   uf                      394482 non-null  object\n",
      " 4   br                      393468 non-null  object\n",
      " 5   causa_acidente          394482 non-null  object\n",
      " 6   tipo_acidente           394481 non-null  object\n",
      " 7   classificacao_acidente  394481 non-null  object\n",
      " 8   ilesos                  394482 non-null  object\n",
      " 9   feridos_leves           394482 non-null  object\n",
      " 10  feridos_graves          394482 non-null  object\n",
      " 11  mortos                  394482 non-null  object\n",
      "dtypes: object(12)\n",
      "memory usage: 36.1+ MB\n"
     ]
    }
   ],
   "source": [
    "#Acid2020 - Eliminando as colunas que não serão usadas\n",
    "acid2020a = acid2020.drop(columns=['id', 'pesid', 'km', 'causa_principal', 'ordem_tipo_acidente','fase_dia', 'sentido_via', 'condicao_metereologica','tipo_pista','tracado_via', 'uso_solo', 'id_veiculo', 'tipo_veiculo', 'marca', 'ano_fabricacao_veiculo', 'tipo_envolvido', 'estado_fisico', 'idade', 'sexo','regional', 'delegacia', 'uop',  'latitude','longitude', 'municipio'], axis = 1)\n",
    "acid2020a.info()"
   ]
  },
  {
   "cell_type": "code",
   "execution_count": 74,
   "id": "9775c79d",
   "metadata": {},
   "outputs": [
    {
     "name": "stdout",
     "output_type": "stream",
     "text": [
      "<class 'pandas.core.frame.DataFrame'>\n",
      "RangeIndex: 394482 entries, 0 to 394481\n",
      "Data columns (total 12 columns):\n",
      " #   Column                  Non-Null Count   Dtype \n",
      "---  ------                  --------------   ----- \n",
      " 0   data_inversa            394482 non-null  object\n",
      " 1   dia_semana              394482 non-null  object\n",
      " 2   uf                      394482 non-null  object\n",
      " 3   br                      393468 non-null  object\n",
      " 4   causa_acidente          394482 non-null  object\n",
      " 5   tipo_acidente           394481 non-null  object\n",
      " 6   classificacao_acidente  394481 non-null  object\n",
      " 7   ilesos                  394482 non-null  object\n",
      " 8   feridos_leves           394482 non-null  object\n",
      " 9   feridos_graves          394482 non-null  object\n",
      " 10  mortos                  394482 non-null  object\n",
      " 11  Hora                    394482 non-null  object\n",
      "dtypes: object(12)\n",
      "memory usage: 36.1+ MB\n"
     ]
    }
   ],
   "source": [
    "# Criando coluna de hora inteira\n",
    "acid2020a['Hora'] = acid2020a['horario'].str.split(':').str[0]\n",
    "\n",
    "#Deletando coluna antiga de horário\n",
    "del acid2020a['horario']\n",
    "acid2020a.info()"
   ]
  },
  {
   "cell_type": "code",
   "execution_count": 75,
   "id": "4aa2839a",
   "metadata": {},
   "outputs": [
    {
     "name": "stdout",
     "output_type": "stream",
     "text": [
      "<class 'pandas.core.frame.DataFrame'>\n",
      "RangeIndex: 394482 entries, 0 to 394481\n",
      "Data columns (total 12 columns):\n",
      " #   Column          Non-Null Count   Dtype \n",
      "---  ------          --------------   ----- \n",
      " 0   Data            394482 non-null  object\n",
      " 1   Dia_semana      394482 non-null  object\n",
      " 2   UF              394482 non-null  object\n",
      " 3   BR              393468 non-null  object\n",
      " 4   Causa           394482 non-null  object\n",
      " 5   Tipo_acidente   394481 non-null  object\n",
      " 6   Classificacao   394481 non-null  object\n",
      " 7   Ilesos          394482 non-null  object\n",
      " 8   Feridos_leves   394482 non-null  object\n",
      " 9   Feridos_graves  394482 non-null  object\n",
      " 10  Obitos          394482 non-null  object\n",
      " 11  Hora            394482 non-null  object\n",
      "dtypes: object(12)\n",
      "memory usage: 36.1+ MB\n"
     ]
    }
   ],
   "source": [
    "# Renomeando para o padrão usado\n",
    "acid2020a.columns = ['Data', 'Dia_semana', 'UF',  'BR', 'Causa', 'Tipo_acidente','Classificacao', 'Ilesos', 'Feridos_leves', 'Feridos_graves', 'Obitos', 'Hora']\n",
    "acid2020a.info()"
   ]
  },
  {
   "cell_type": "code",
   "execution_count": 76,
   "id": "937e9634",
   "metadata": {},
   "outputs": [
    {
     "data": {
      "text/plain": [
       "Data                 0\n",
       "Dia_semana           0\n",
       "UF                   0\n",
       "BR                1014\n",
       "Causa                0\n",
       "Tipo_acidente        1\n",
       "Classificacao        1\n",
       "Ilesos               0\n",
       "Feridos_leves        0\n",
       "Feridos_graves       0\n",
       "Obitos               0\n",
       "Hora                 0\n",
       "dtype: int64"
      ]
     },
     "execution_count": 76,
     "metadata": {},
     "output_type": "execute_result"
    }
   ],
   "source": [
    "# Verificando se há linhas nulas\n",
    "acid2020a.isnull().sum()"
   ]
  },
  {
   "cell_type": "code",
   "execution_count": 77,
   "id": "4ee9978a",
   "metadata": {},
   "outputs": [
    {
     "data": {
      "text/plain": [
       "Data              0\n",
       "Dia_semana        0\n",
       "UF                0\n",
       "BR                0\n",
       "Causa             0\n",
       "Tipo_acidente     0\n",
       "Classificacao     0\n",
       "Ilesos            0\n",
       "Feridos_leves     0\n",
       "Feridos_graves    0\n",
       "Obitos            0\n",
       "Hora              0\n",
       "dtype: int64"
      ]
     },
     "execution_count": 77,
     "metadata": {},
     "output_type": "execute_result"
    }
   ],
   "source": [
    "#Deletaremos agora as linhas nulas\n",
    "acid2020b = acid2020a.dropna(subset = ['BR'])\n",
    "acid2020b = acid2020b.dropna(subset = ['Tipo_acidente'])\n",
    "acid2020b.isnull().sum()"
   ]
  },
  {
   "cell_type": "code",
   "execution_count": 78,
   "id": "06af2e80",
   "metadata": {},
   "outputs": [
    {
     "name": "stdout",
     "output_type": "stream",
     "text": [
      "<class 'pandas.core.frame.DataFrame'>\n",
      "Int64Index: 393467 entries, 0 to 394481\n",
      "Data columns (total 12 columns):\n",
      " #   Column          Non-Null Count   Dtype \n",
      "---  ------          --------------   ----- \n",
      " 0   Data            393467 non-null  object\n",
      " 1   Dia_semana      393467 non-null  object\n",
      " 2   UF              393467 non-null  object\n",
      " 3   BR              393467 non-null  int32 \n",
      " 4   Causa           393467 non-null  object\n",
      " 5   Tipo_acidente   393467 non-null  object\n",
      " 6   Classificacao   393467 non-null  object\n",
      " 7   Ilesos          393467 non-null  int32 \n",
      " 8   Feridos_leves   393467 non-null  int32 \n",
      " 9   Feridos_graves  393467 non-null  int32 \n",
      " 10  Obitos          393467 non-null  int32 \n",
      " 11  Hora            393467 non-null  int32 \n",
      "dtypes: int32(6), object(6)\n",
      "memory usage: 30.0+ MB\n"
     ]
    }
   ],
   "source": [
    "#Formatando tipo das colunas\n",
    "# Vamos manter data ainda como object pra fazer a identificação de MÊS\n",
    "acid2020c = acid2020b.astype({\"BR\": int, \"Hora\": int, 'Ilesos': int, 'Feridos_leves' : int, 'Feridos_graves': int, 'Obitos' : int})\n",
    "acid2020c.info()"
   ]
  },
  {
   "cell_type": "markdown",
   "id": "b27aa07b",
   "metadata": {},
   "source": [
    "# Análise do estado com mais acidentes"
   ]
  },
  {
   "cell_type": "markdown",
   "id": "a14043f2",
   "metadata": {},
   "source": [
    "# Ranking e gráfico de acidentes por UF - 2017"
   ]
  },
  {
   "cell_type": "code",
   "execution_count": 79,
   "id": "859c08d2",
   "metadata": {},
   "outputs": [
    {
     "data": {
      "text/plain": [
       "UF\n",
       "MG    52091\n",
       "PR    43634\n",
       "SC    35665\n",
       "RS    26650\n",
       "SP    22513\n",
       "BA    19093\n",
       "GO    18851\n",
       "RJ    18107\n",
       "MT    15812\n",
       "PE    11242\n",
       "ES    11236\n",
       "MS     8886\n",
       "RO     8217\n",
       "PB     7894\n",
       "CE     6894\n",
       "MA     6851\n",
       "PA     5925\n",
       "PI     5850\n",
       "DF     4466\n",
       "RN     4443\n",
       "TO     4034\n",
       "AL     3344\n",
       "SE     3182\n",
       "AC     1086\n",
       "RR     1068\n",
       "AP      787\n",
       "AM      725\n",
       "Name: Total de acidentes por ano, dtype: int64"
      ]
     },
     "execution_count": 79,
     "metadata": {},
     "output_type": "execute_result"
    }
   ],
   "source": [
    "# Agrupando acidentes por UF - 2017\n",
    "acid2017top = acid2017c.groupby(\"UF\").size().sort_values(ascending=False)\n",
    "acid2017top = acid2017top.rename(\"Total de acidentes por ano\")\n",
    "acid2017top"
   ]
  },
  {
   "cell_type": "code",
   "execution_count": 80,
   "id": "dba96bbe",
   "metadata": {},
   "outputs": [
    {
     "data": {
      "text/plain": [
       "<AxesSubplot:title={'center':'Gráfico de Acidentes por UF - 2017'}, xlabel='UF', ylabel='Acidentes'>"
      ]
     },
     "execution_count": 80,
     "metadata": {},
     "output_type": "execute_result"
    },
    {
     "data": {
      "image/png": "[encoded data removed]",
      "text/plain": [
       "<Figure size 720x576 with 1 Axes>"
      ]
     },
     "metadata": {
      "needs_background": "light"
     },
     "output_type": "display_data"
    }
   ],
   "source": [
    "# Gráfico de Acidentes por UF - 2017\n",
    "acid2017top.plot.bar(figsize=(10,8), color = 'lightblue', title = \"Gráfico de Acidentes por UF - 2017\", ylabel = 'Acidentes')"
   ]
  },
  {
   "cell_type": "markdown",
   "id": "abef9d38",
   "metadata": {},
   "source": [
    "# Ranking e gráfico de acidentes por UF - 2018"
   ]
  },
  {
   "cell_type": "code",
   "execution_count": 81,
   "id": "4c9cc8fb",
   "metadata": {},
   "outputs": [
    {
     "data": {
      "text/plain": [
       "UF\n",
       "MG    45568\n",
       "PR    38170\n",
       "SC    33458\n",
       "RS    23949\n",
       "SP    20695\n",
       "GO    17433\n",
       "BA    17413\n",
       "RJ    16634\n",
       "MT    13668\n",
       "PE    11124\n",
       "ES    10166\n",
       "RO     9491\n",
       "MS     8917\n",
       "CE     8225\n",
       "PB     7992\n",
       "MA     7250\n",
       "RN     5653\n",
       "PA     5626\n",
       "PI     5616\n",
       "DF     3781\n",
       "TO     3722\n",
       "AL     3005\n",
       "SE     2605\n",
       "AC     1067\n",
       "AP     1052\n",
       "RR     1042\n",
       "AM      880\n",
       "Name: Total de acidentes por ano, dtype: int64"
      ]
     },
     "execution_count": 81,
     "metadata": {},
     "output_type": "execute_result"
    }
   ],
   "source": [
    "# Agrupando acidentes por UF\n",
    "acid2018top = acid2018c.groupby(\"UF\").size().sort_values(ascending=False)\n",
    "acid2018top = acid2018top.rename(\"Total de acidentes por ano\")\n",
    "acid2018top"
   ]
  },
  {
   "cell_type": "code",
   "execution_count": 82,
   "id": "083ebbc6",
   "metadata": {},
   "outputs": [
    {
     "data": {
      "text/plain": [
       "<AxesSubplot:title={'center':'Gráfico de Acidentes por UF - 2018'}, xlabel='UF', ylabel='Acidentes'>"
      ]
     },
     "execution_count": 82,
     "metadata": {},
     "output_type": "execute_result"
    },
    {
     "data": {
      "image/png": "[encoded data removed]",
      "text/plain": [
       "<Figure size 720x576 with 1 Axes>"
      ]
     },
     "metadata": {
      "needs_background": "light"
     },
     "output_type": "display_data"
    }
   ],
   "source": [
    "# Gráfico de Acidentes por UF - 2018\n",
    "acid2018top.plot.bar(figsize=(10,8), color = 'lightblue', title = \"Gráfico de Acidentes por UF - 2018\", ylabel = 'Acidentes')"
   ]
  },
  {
   "cell_type": "markdown",
   "id": "742966b5",
   "metadata": {},
   "source": [
    "# Ranking e gráfico de acidentes por UF - 2019"
   ]
  },
  {
   "cell_type": "code",
   "execution_count": 83,
   "id": "ab65b84b",
   "metadata": {},
   "outputs": [
    {
     "data": {
      "text/plain": [
       "UF\n",
       "MG    45947\n",
       "PR    39487\n",
       "SC    35812\n",
       "RS    23581\n",
       "SP    20567\n",
       "BA    18466\n",
       "GO    17979\n",
       "RJ    17943\n",
       "MT    12780\n",
       "PE    11495\n",
       "ES    10434\n",
       "CE    10260\n",
       "MS    10109\n",
       "RO     9205\n",
       "PB     8086\n",
       "RN     5882\n",
       "MA     5741\n",
       "PI     5311\n",
       "DF     5270\n",
       "PA     4713\n",
       "TO     2976\n",
       "AL     2834\n",
       "SE     2813\n",
       "RR     1261\n",
       "AC     1037\n",
       "AP      654\n",
       "AM      608\n",
       "Name: Total de acidentes por ano, dtype: int64"
      ]
     },
     "execution_count": 83,
     "metadata": {},
     "output_type": "execute_result"
    }
   ],
   "source": [
    "# Agrupando acidentes por UF\n",
    "acid2019top = acid2019c.groupby(\"UF\").size().sort_values(ascending=False)\n",
    "acid2019top = acid2019top.rename(\"Total de acidentes por ano\")\n",
    "acid2019top"
   ]
  },
  {
   "cell_type": "code",
   "execution_count": 84,
   "id": "b904cb6e",
   "metadata": {},
   "outputs": [
    {
     "data": {
      "text/plain": [
       "<AxesSubplot:title={'center':'Gráfico de Acidentes por UF - 2019'}, xlabel='UF', ylabel='Acidentes'>"
      ]
     },
     "execution_count": 84,
     "metadata": {},
     "output_type": "execute_result"
    },
    {
     "data": {
      "image/png": "[encoded data removed]",
      "text/plain": [
       "<Figure size 720x576 with 1 Axes>"
      ]
     },
     "metadata": {
      "needs_background": "light"
     },
     "output_type": "display_data"
    }
   ],
   "source": [
    "# Gráfico de Acidentes por UF - 2019\n",
    "acid2019top.plot.bar(figsize=(10,8), color = 'lightblue', title = \"Gráfico de Acidentes por UF - 2019\", ylabel = 'Acidentes')"
   ]
  },
  {
   "cell_type": "markdown",
   "id": "4d6dcd60",
   "metadata": {},
   "source": [
    "# Ranking e gráfico de acidentes por UF - 2020"
   ]
  },
  {
   "cell_type": "code",
   "execution_count": 85,
   "id": "8b143cb0",
   "metadata": {},
   "outputs": [
    {
     "data": {
      "text/plain": [
       "UF\n",
       "MG    55309\n",
       "PR    40925\n",
       "SC    32492\n",
       "SP    27048\n",
       "RS    26843\n",
       "GO    23021\n",
       "BA    19476\n",
       "RJ    19384\n",
       "MT    16403\n",
       "RO    14124\n",
       "PE    13028\n",
       "MS    12474\n",
       "PI    10982\n",
       "ES    10426\n",
       "PB    10284\n",
       "PA     9872\n",
       "MA     9797\n",
       "CE     9772\n",
       "DF     6646\n",
       "RN     6180\n",
       "TO     6071\n",
       "SE     3397\n",
       "AL     3197\n",
       "AM     1962\n",
       "AC     1582\n",
       "RR     1579\n",
       "AP     1193\n",
       "Name: Total de acidentes por ano, dtype: int64"
      ]
     },
     "execution_count": 85,
     "metadata": {},
     "output_type": "execute_result"
    }
   ],
   "source": [
    "# Agrupando acidentes por UF - 2020\n",
    "acid2020top = acid2020c.groupby(\"UF\").size().sort_values(ascending=False)\n",
    "acid2020top = acid2020top.rename(\"Total de acidentes por ano\")\n",
    "acid2020top"
   ]
  },
  {
   "cell_type": "code",
   "execution_count": 86,
   "id": "f6e9ba98",
   "metadata": {},
   "outputs": [
    {
     "data": {
      "text/plain": [
       "<AxesSubplot:title={'center':'Gráfico de Acidentes por UF - 2020'}, xlabel='UF', ylabel='Acidentes'>"
      ]
     },
     "execution_count": 86,
     "metadata": {},
     "output_type": "execute_result"
    },
    {
     "data": {
      "image/png": "[encoded data removed]",
      "text/plain": [
       "<Figure size 720x576 with 1 Axes>"
      ]
     },
     "metadata": {
      "needs_background": "light"
     },
     "output_type": "display_data"
    }
   ],
   "source": [
    "# Gráfico de Acidentes por UF - 2020\n",
    "acid2020top.plot.bar(figsize=(10,8), color = 'lightblue', title = \"Gráfico de Acidentes por UF - 2020\", ylabel = 'Acidentes')"
   ]
  },
  {
   "cell_type": "markdown",
   "id": "29d60354",
   "metadata": {},
   "source": [
    "# ################################################################\n",
    "#                     Mergir o top infrações com top acidentes UF\n",
    "# ################################################################"
   ]
  },
  {
   "cell_type": "markdown",
   "id": "7a92540f",
   "metadata": {},
   "source": [
    "## Ano 2017"
   ]
  },
  {
   "cell_type": "code",
   "execution_count": 87,
   "id": "586066ae",
   "metadata": {},
   "outputs": [
    {
     "name": "stdout",
     "output_type": "stream",
     "text": [
      "UFs com maior ocorrências de infrações e acidentes - 2017\n"
     ]
    },
    {
     "data": {
      "text/html": [
       "<div>\n",
       "<style scoped>\n",
       "    .dataframe tbody tr th:only-of-type {\n",
       "        vertical-align: middle;\n",
       "    }\n",
       "\n",
       "    .dataframe tbody tr th {\n",
       "        vertical-align: top;\n",
       "    }\n",
       "\n",
       "    .dataframe thead th {\n",
       "        text-align: right;\n",
       "    }\n",
       "</style>\n",
       "<table border=\"1\" class=\"dataframe\">\n",
       "  <thead>\n",
       "    <tr style=\"text-align: right;\">\n",
       "      <th></th>\n",
       "      <th>Total de Infrações por ano</th>\n",
       "      <th>Total de acidentes por ano</th>\n",
       "      <th>Infrações + Acidentes</th>\n",
       "    </tr>\n",
       "    <tr>\n",
       "      <th>UF</th>\n",
       "      <th></th>\n",
       "      <th></th>\n",
       "      <th></th>\n",
       "    </tr>\n",
       "  </thead>\n",
       "  <tbody>\n",
       "    <tr>\n",
       "      <th>SP</th>\n",
       "      <td>930622</td>\n",
       "      <td>22513</td>\n",
       "      <td>953135</td>\n",
       "    </tr>\n",
       "    <tr>\n",
       "      <th>RJ</th>\n",
       "      <td>832436</td>\n",
       "      <td>18107</td>\n",
       "      <td>850543</td>\n",
       "    </tr>\n",
       "    <tr>\n",
       "      <th>MG</th>\n",
       "      <td>653881</td>\n",
       "      <td>52091</td>\n",
       "      <td>705972</td>\n",
       "    </tr>\n",
       "    <tr>\n",
       "      <th>BA</th>\n",
       "      <td>667166</td>\n",
       "      <td>19093</td>\n",
       "      <td>686259</td>\n",
       "    </tr>\n",
       "    <tr>\n",
       "      <th>PR</th>\n",
       "      <td>528561</td>\n",
       "      <td>43634</td>\n",
       "      <td>572195</td>\n",
       "    </tr>\n",
       "  </tbody>\n",
       "</table>\n",
       "</div>"
      ],
      "text/plain": [
       "    Total de Infrações por ano  Total de acidentes por ano  \\\n",
       "UF                                                           \n",
       "SP                      930622                       22513   \n",
       "RJ                      832436                       18107   \n",
       "MG                      653881                       52091   \n",
       "BA                      667166                       19093   \n",
       "PR                      528561                       43634   \n",
       "\n",
       "    Infrações + Acidentes  \n",
       "UF                         \n",
       "SP                 953135  \n",
       "RJ                 850543  \n",
       "MG                 705972  \n",
       "BA                 686259  \n",
       "PR                 572195  "
      ]
     },
     "execution_count": 87,
     "metadata": {},
     "output_type": "execute_result"
    }
   ],
   "source": [
    "# Mergindo o ranking de infrações por UF com o ranking de acidentes por UF - 2017\n",
    "print (\"UFs com maior ocorrências de infrações e acidentes - 2017\")\n",
    "toptotal2017 = pd.merge(ano2017_ufs, acid2017top, how ='left',  on = ['UF'])\n",
    "toptotal2017['Infrações + Acidentes'] = (toptotal2017['Total de Infrações por ano'] + toptotal2017['Total de acidentes por ano'])\n",
    "toptotal2017.sort_values(ascending = False, by = 'Infrações + Acidentes')[:5]"
   ]
  },
  {
   "cell_type": "markdown",
   "id": "f1019606",
   "metadata": {},
   "source": [
    "## Ano 2018"
   ]
  },
  {
   "cell_type": "code",
   "execution_count": 88,
   "id": "d91fef8f",
   "metadata": {},
   "outputs": [
    {
     "name": "stdout",
     "output_type": "stream",
     "text": [
      "UFs com maior ocorrências de infrações e acidentes - 2018\n"
     ]
    },
    {
     "data": {
      "text/html": [
       "<div>\n",
       "<style scoped>\n",
       "    .dataframe tbody tr th:only-of-type {\n",
       "        vertical-align: middle;\n",
       "    }\n",
       "\n",
       "    .dataframe tbody tr th {\n",
       "        vertical-align: top;\n",
       "    }\n",
       "\n",
       "    .dataframe thead th {\n",
       "        text-align: right;\n",
       "    }\n",
       "</style>\n",
       "<table border=\"1\" class=\"dataframe\">\n",
       "  <thead>\n",
       "    <tr style=\"text-align: right;\">\n",
       "      <th></th>\n",
       "      <th>Total de Infrações por ano</th>\n",
       "      <th>Total de acidentes por ano</th>\n",
       "      <th>Infrações + Acidentes</th>\n",
       "    </tr>\n",
       "    <tr>\n",
       "      <th>UF</th>\n",
       "      <th></th>\n",
       "      <th></th>\n",
       "      <th></th>\n",
       "    </tr>\n",
       "  </thead>\n",
       "  <tbody>\n",
       "    <tr>\n",
       "      <th>MG</th>\n",
       "      <td>1206324</td>\n",
       "      <td>45568</td>\n",
       "      <td>1251892</td>\n",
       "    </tr>\n",
       "    <tr>\n",
       "      <th>RJ</th>\n",
       "      <td>1127572</td>\n",
       "      <td>16634</td>\n",
       "      <td>1144206</td>\n",
       "    </tr>\n",
       "    <tr>\n",
       "      <th>SP</th>\n",
       "      <td>799175</td>\n",
       "      <td>20695</td>\n",
       "      <td>819870</td>\n",
       "    </tr>\n",
       "    <tr>\n",
       "      <th>BA</th>\n",
       "      <td>714759</td>\n",
       "      <td>17413</td>\n",
       "      <td>732172</td>\n",
       "    </tr>\n",
       "    <tr>\n",
       "      <th>PR</th>\n",
       "      <td>525525</td>\n",
       "      <td>38170</td>\n",
       "      <td>563695</td>\n",
       "    </tr>\n",
       "  </tbody>\n",
       "</table>\n",
       "</div>"
      ],
      "text/plain": [
       "    Total de Infrações por ano  Total de acidentes por ano  \\\n",
       "UF                                                           \n",
       "MG                     1206324                       45568   \n",
       "RJ                     1127572                       16634   \n",
       "SP                      799175                       20695   \n",
       "BA                      714759                       17413   \n",
       "PR                      525525                       38170   \n",
       "\n",
       "    Infrações + Acidentes  \n",
       "UF                         \n",
       "MG                1251892  \n",
       "RJ                1144206  \n",
       "SP                 819870  \n",
       "BA                 732172  \n",
       "PR                 563695  "
      ]
     },
     "execution_count": 88,
     "metadata": {},
     "output_type": "execute_result"
    }
   ],
   "source": [
    "# Mergindo o ranking de infrações por UF com o ranking de acidentes por UF - 2018\n",
    "print (\"UFs com maior ocorrências de infrações e acidentes - 2018\")\n",
    "toptotal2018 = pd.merge(ano2018_ufs, acid2018top, how ='left',  on = ['UF'])\n",
    "toptotal2018['Infrações + Acidentes'] = (toptotal2018['Total de Infrações por ano'] + toptotal2018['Total de acidentes por ano'])\n",
    "toptotal2018.sort_values(ascending = False, by = 'Infrações + Acidentes')[:5]"
   ]
  },
  {
   "cell_type": "markdown",
   "id": "1c9a7e51",
   "metadata": {},
   "source": [
    "## Ano 2019"
   ]
  },
  {
   "cell_type": "code",
   "execution_count": 89,
   "id": "4ac966bd",
   "metadata": {},
   "outputs": [
    {
     "name": "stdout",
     "output_type": "stream",
     "text": [
      "UFs com maior ocorrências de infrações e acidentes - 2019\n"
     ]
    },
    {
     "data": {
      "text/html": [
       "<div>\n",
       "<style scoped>\n",
       "    .dataframe tbody tr th:only-of-type {\n",
       "        vertical-align: middle;\n",
       "    }\n",
       "\n",
       "    .dataframe tbody tr th {\n",
       "        vertical-align: top;\n",
       "    }\n",
       "\n",
       "    .dataframe thead th {\n",
       "        text-align: right;\n",
       "    }\n",
       "</style>\n",
       "<table border=\"1\" class=\"dataframe\">\n",
       "  <thead>\n",
       "    <tr style=\"text-align: right;\">\n",
       "      <th></th>\n",
       "      <th>Total de Infrações por ano</th>\n",
       "      <th>Total de acidentes por ano</th>\n",
       "      <th>Infrações + Acidentes</th>\n",
       "    </tr>\n",
       "    <tr>\n",
       "      <th>UF</th>\n",
       "      <th></th>\n",
       "      <th></th>\n",
       "      <th></th>\n",
       "    </tr>\n",
       "  </thead>\n",
       "  <tbody>\n",
       "    <tr>\n",
       "      <th>RJ</th>\n",
       "      <td>765807</td>\n",
       "      <td>17943</td>\n",
       "      <td>783750</td>\n",
       "    </tr>\n",
       "    <tr>\n",
       "      <th>MG</th>\n",
       "      <td>611677</td>\n",
       "      <td>45947</td>\n",
       "      <td>657624</td>\n",
       "    </tr>\n",
       "    <tr>\n",
       "      <th>SP</th>\n",
       "      <td>631019</td>\n",
       "      <td>20567</td>\n",
       "      <td>651586</td>\n",
       "    </tr>\n",
       "    <tr>\n",
       "      <th>BA</th>\n",
       "      <td>594990</td>\n",
       "      <td>18466</td>\n",
       "      <td>613456</td>\n",
       "    </tr>\n",
       "    <tr>\n",
       "      <th>PR</th>\n",
       "      <td>364895</td>\n",
       "      <td>39487</td>\n",
       "      <td>404382</td>\n",
       "    </tr>\n",
       "  </tbody>\n",
       "</table>\n",
       "</div>"
      ],
      "text/plain": [
       "    Total de Infrações por ano  Total de acidentes por ano  \\\n",
       "UF                                                           \n",
       "RJ                      765807                       17943   \n",
       "MG                      611677                       45947   \n",
       "SP                      631019                       20567   \n",
       "BA                      594990                       18466   \n",
       "PR                      364895                       39487   \n",
       "\n",
       "    Infrações + Acidentes  \n",
       "UF                         \n",
       "RJ                 783750  \n",
       "MG                 657624  \n",
       "SP                 651586  \n",
       "BA                 613456  \n",
       "PR                 404382  "
      ]
     },
     "execution_count": 89,
     "metadata": {},
     "output_type": "execute_result"
    }
   ],
   "source": [
    "# Mergindo o ranking de infrações por UF com o ranking de acidentes por UF - 2019\n",
    "print (\"UFs com maior ocorrências de infrações e acidentes - 2019\")\n",
    "toptotal2019 = pd.merge(ano2019_ufs, acid2019top, how ='left',  on = ['UF'])\n",
    "toptotal2019['Infrações + Acidentes'] = (toptotal2019['Total de Infrações por ano'] + toptotal2019['Total de acidentes por ano'])\n",
    "toptotal2019.sort_values(ascending = False, by = 'Infrações + Acidentes')[:5]"
   ]
  },
  {
   "cell_type": "markdown",
   "id": "9a51d388",
   "metadata": {},
   "source": [
    "## Ano 2020"
   ]
  },
  {
   "cell_type": "code",
   "execution_count": 90,
   "id": "3af147f3",
   "metadata": {},
   "outputs": [
    {
     "name": "stdout",
     "output_type": "stream",
     "text": [
      "UFs com maior ocorrências de infrações e acidentes - 2020\n"
     ]
    },
    {
     "data": {
      "text/html": [
       "<div>\n",
       "<style scoped>\n",
       "    .dataframe tbody tr th:only-of-type {\n",
       "        vertical-align: middle;\n",
       "    }\n",
       "\n",
       "    .dataframe tbody tr th {\n",
       "        vertical-align: top;\n",
       "    }\n",
       "\n",
       "    .dataframe thead th {\n",
       "        text-align: right;\n",
       "    }\n",
       "</style>\n",
       "<table border=\"1\" class=\"dataframe\">\n",
       "  <thead>\n",
       "    <tr style=\"text-align: right;\">\n",
       "      <th></th>\n",
       "      <th>Total de Infrações por ano</th>\n",
       "      <th>Total de acidentes por ano</th>\n",
       "      <th>Infrações + Acidentes</th>\n",
       "    </tr>\n",
       "    <tr>\n",
       "      <th>UF</th>\n",
       "      <th></th>\n",
       "      <th></th>\n",
       "      <th></th>\n",
       "    </tr>\n",
       "  </thead>\n",
       "  <tbody>\n",
       "    <tr>\n",
       "      <th>RJ</th>\n",
       "      <td>919184</td>\n",
       "      <td>19384</td>\n",
       "      <td>938568</td>\n",
       "    </tr>\n",
       "    <tr>\n",
       "      <th>MG</th>\n",
       "      <td>665769</td>\n",
       "      <td>55309</td>\n",
       "      <td>721078</td>\n",
       "    </tr>\n",
       "    <tr>\n",
       "      <th>SP</th>\n",
       "      <td>475498</td>\n",
       "      <td>27048</td>\n",
       "      <td>502546</td>\n",
       "    </tr>\n",
       "    <tr>\n",
       "      <th>BA</th>\n",
       "      <td>403442</td>\n",
       "      <td>19476</td>\n",
       "      <td>422918</td>\n",
       "    </tr>\n",
       "    <tr>\n",
       "      <th>MS</th>\n",
       "      <td>399371</td>\n",
       "      <td>12474</td>\n",
       "      <td>411845</td>\n",
       "    </tr>\n",
       "  </tbody>\n",
       "</table>\n",
       "</div>"
      ],
      "text/plain": [
       "    Total de Infrações por ano  Total de acidentes por ano  \\\n",
       "UF                                                           \n",
       "RJ                      919184                       19384   \n",
       "MG                      665769                       55309   \n",
       "SP                      475498                       27048   \n",
       "BA                      403442                       19476   \n",
       "MS                      399371                       12474   \n",
       "\n",
       "    Infrações + Acidentes  \n",
       "UF                         \n",
       "RJ                 938568  \n",
       "MG                 721078  \n",
       "SP                 502546  \n",
       "BA                 422918  \n",
       "MS                 411845  "
      ]
     },
     "execution_count": 90,
     "metadata": {},
     "output_type": "execute_result"
    }
   ],
   "source": [
    "# Mergindo o ranking de infrações por UF com o ranking de acidentes por UF - 2020\n",
    "print (\"UFs com maior ocorrências de infrações e acidentes - 2020\")\n",
    "toptotal2020 = pd.merge(ano2020_ufs, acid2020top, how ='left',  on = ['UF'])\n",
    "toptotal2020['Infrações + Acidentes'] = (toptotal2020['Total de Infrações por ano'] + toptotal2020['Total de acidentes por ano'])\n",
    "toptotal2020.sort_values(ascending = False, by = 'Infrações + Acidentes')[:5]"
   ]
  },
  {
   "cell_type": "markdown",
   "id": "8f97b290",
   "metadata": {},
   "source": [
    "### Foi decidido então que o estado foco do projeto seria o Rio de Janeiro"
   ]
  },
  {
   "cell_type": "markdown",
   "id": "5cee77fc",
   "metadata": {},
   "source": [
    "# Filtrando: estado do Rio de Janeiro"
   ]
  },
  {
   "cell_type": "markdown",
   "id": "cac9c8d1",
   "metadata": {},
   "source": [
    "## Ano 2017"
   ]
  },
  {
   "cell_type": "code",
   "execution_count": 91,
   "id": "a7a29bc2",
   "metadata": {},
   "outputs": [
    {
     "name": "stdout",
     "output_type": "stream",
     "text": [
      "<class 'pandas.core.frame.DataFrame'>\n",
      "Int64Index: 832436 entries, 2 to 580890\n",
      "Data columns (total 6 columns):\n",
      " #   Column     Non-Null Count   Dtype \n",
      "---  ------     --------------   ----- \n",
      " 0   Data       832436 non-null  object\n",
      " 1   UF         832436 non-null  object\n",
      " 2   BR         832436 non-null  int32 \n",
      " 3   Codigo     832436 non-null  int32 \n",
      " 4   Descricao  832436 non-null  object\n",
      " 5   Hora       832436 non-null  int32 \n",
      "dtypes: int32(3), object(3)\n",
      "memory usage: 34.9+ MB\n"
     ]
    }
   ],
   "source": [
    "# INFRAÇÕES RIO DE JANEIRO 2017\n",
    "estado = ['RJ']\n",
    "inf2017rj = ano2017c[ano2017c['UF'].isin(estado)]\n",
    "inf2017rj.info(0)"
   ]
  },
  {
   "cell_type": "code",
   "execution_count": 92,
   "id": "d57bfd02",
   "metadata": {},
   "outputs": [
    {
     "name": "stdout",
     "output_type": "stream",
     "text": [
      "<class 'pandas.core.frame.DataFrame'>\n",
      "Int64Index: 18107 entries, 145 to 349055\n",
      "Data columns (total 12 columns):\n",
      " #   Column          Non-Null Count  Dtype \n",
      "---  ------          --------------  ----- \n",
      " 0   Data            18107 non-null  object\n",
      " 1   Dia_semana      18107 non-null  object\n",
      " 2   UF              18107 non-null  object\n",
      " 3   BR              18107 non-null  int32 \n",
      " 4   Causa           18107 non-null  object\n",
      " 5   Tipo_acidente   18107 non-null  object\n",
      " 6   Classificacao   18107 non-null  object\n",
      " 7   Ilesos          18107 non-null  int32 \n",
      " 8   Feridos_leves   18107 non-null  int32 \n",
      " 9   Feridos_graves  18107 non-null  int32 \n",
      " 10  Obitos          18107 non-null  int32 \n",
      " 11  Hora            18107 non-null  int32 \n",
      "dtypes: int32(6), object(6)\n",
      "memory usage: 1.4+ MB\n"
     ]
    }
   ],
   "source": [
    "# ACIDENTES RIO DE JANEIRO 2017\n",
    "estado = ['RJ']\n",
    "acid17rj = acid2017c[acid2017c['UF'].isin(estado)]\n",
    "acid17rj.head(2)\n",
    "acid17rj.info()"
   ]
  },
  {
   "cell_type": "markdown",
   "id": "03e189ad",
   "metadata": {},
   "source": [
    "## Ano 2018"
   ]
  },
  {
   "cell_type": "code",
   "execution_count": 93,
   "id": "8fb967de",
   "metadata": {},
   "outputs": [
    {
     "name": "stdout",
     "output_type": "stream",
     "text": [
      "<class 'pandas.core.frame.DataFrame'>\n",
      "Int64Index: 1127572 entries, 18 to 727724\n",
      "Data columns (total 6 columns):\n",
      " #   Column     Non-Null Count    Dtype \n",
      "---  ------     --------------    ----- \n",
      " 0   Data       1127572 non-null  object\n",
      " 1   UF         1127572 non-null  object\n",
      " 2   BR         1127572 non-null  int32 \n",
      " 3   Codigo     1127572 non-null  int32 \n",
      " 4   Descricao  1127572 non-null  object\n",
      " 5   Hora       1127572 non-null  int32 \n",
      "dtypes: int32(3), object(3)\n",
      "memory usage: 47.3+ MB\n"
     ]
    }
   ],
   "source": [
    "# INFRAÇÕES RIO DE JANEIRO 2018\n",
    "estado = ['RJ']\n",
    "inf2018rj = ano2018c[ano2018c['UF'].isin(estado)]\n",
    "inf2018rj.info()"
   ]
  },
  {
   "cell_type": "code",
   "execution_count": 94,
   "id": "9fc2a9a4",
   "metadata": {},
   "outputs": [
    {
     "name": "stdout",
     "output_type": "stream",
     "text": [
      "<class 'pandas.core.frame.DataFrame'>\n",
      "Int64Index: 16634 entries, 0 to 324785\n",
      "Data columns (total 12 columns):\n",
      " #   Column          Non-Null Count  Dtype \n",
      "---  ------          --------------  ----- \n",
      " 0   Data            16634 non-null  object\n",
      " 1   Dia_semana      16634 non-null  object\n",
      " 2   UF              16634 non-null  object\n",
      " 3   BR              16634 non-null  int32 \n",
      " 4   Causa           16634 non-null  object\n",
      " 5   Tipo_acidente   16634 non-null  object\n",
      " 6   Classificacao   16634 non-null  object\n",
      " 7   Ilesos          16634 non-null  int32 \n",
      " 8   Feridos_leves   16634 non-null  int32 \n",
      " 9   Feridos_graves  16634 non-null  int32 \n",
      " 10  Obitos          16634 non-null  int32 \n",
      " 11  Hora            16634 non-null  int32 \n",
      "dtypes: int32(6), object(6)\n",
      "memory usage: 1.3+ MB\n"
     ]
    }
   ],
   "source": [
    "# ACIDENTES RIO DE JANEIRO 2018\n",
    "estado = ['RJ']\n",
    "acid18rj = acid2018c[acid2018c['UF'].isin(estado)]\n",
    "acid18rj.info()"
   ]
  },
  {
   "cell_type": "markdown",
   "id": "0f3261b9",
   "metadata": {},
   "source": [
    "## Ano 2019"
   ]
  },
  {
   "cell_type": "code",
   "execution_count": 95,
   "id": "69970856",
   "metadata": {},
   "outputs": [
    {
     "name": "stdout",
     "output_type": "stream",
     "text": [
      "<class 'pandas.core.frame.DataFrame'>\n",
      "Int64Index: 765807 entries, 1 to 492719\n",
      "Data columns (total 6 columns):\n",
      " #   Column     Non-Null Count   Dtype \n",
      "---  ------     --------------   ----- \n",
      " 0   Data       765807 non-null  object\n",
      " 1   UF         765807 non-null  object\n",
      " 2   BR         765807 non-null  int32 \n",
      " 3   Codigo     765807 non-null  int32 \n",
      " 4   Descricao  765807 non-null  object\n",
      " 5   Hora       765807 non-null  int32 \n",
      "dtypes: int32(3), object(3)\n",
      "memory usage: 32.1+ MB\n"
     ]
    }
   ],
   "source": [
    "# INFRAÇÕES RIO DE JANEIRO 2019\n",
    "estado = ['RJ']\n",
    "inf2019rj = ano2019c[ano2019c['UF'].isin(estado)]\n",
    "inf2019rj.info()"
   ]
  },
  {
   "cell_type": "code",
   "execution_count": 96,
   "id": "42f2f473",
   "metadata": {},
   "outputs": [
    {
     "name": "stdout",
     "output_type": "stream",
     "text": [
      "<class 'pandas.core.frame.DataFrame'>\n",
      "Int64Index: 17943 entries, 45 to 331584\n",
      "Data columns (total 12 columns):\n",
      " #   Column          Non-Null Count  Dtype \n",
      "---  ------          --------------  ----- \n",
      " 0   Data            17943 non-null  object\n",
      " 1   Dia_semana      17943 non-null  object\n",
      " 2   UF              17943 non-null  object\n",
      " 3   BR              17943 non-null  int32 \n",
      " 4   Causa           17943 non-null  object\n",
      " 5   Tipo_acidente   17943 non-null  object\n",
      " 6   Classificacao   17943 non-null  object\n",
      " 7   Ilesos          17943 non-null  int32 \n",
      " 8   Feridos_leves   17943 non-null  int32 \n",
      " 9   Feridos_graves  17943 non-null  int32 \n",
      " 10  Obitos          17943 non-null  int32 \n",
      " 11  Hora            17943 non-null  int32 \n",
      "dtypes: int32(6), object(6)\n",
      "memory usage: 1.4+ MB\n"
     ]
    }
   ],
   "source": [
    "# ACIDENTES RIO DE JANEIRO 2019\n",
    "estado = ['RJ']\n",
    "acid19rj = acid2019c[acid2019c['UF'].isin(estado)]\n",
    "acid19rj.info()"
   ]
  },
  {
   "cell_type": "markdown",
   "id": "6080324c",
   "metadata": {},
   "source": [
    "## Ano 2020"
   ]
  },
  {
   "cell_type": "code",
   "execution_count": 97,
   "id": "7856dc4c",
   "metadata": {},
   "outputs": [
    {
     "name": "stdout",
     "output_type": "stream",
     "text": [
      "<class 'pandas.core.frame.DataFrame'>\n",
      "Int64Index: 919184 entries, 4 to 499945\n",
      "Data columns (total 6 columns):\n",
      " #   Column     Non-Null Count   Dtype \n",
      "---  ------     --------------   ----- \n",
      " 0   Data       919184 non-null  object\n",
      " 1   UF         919184 non-null  object\n",
      " 2   BR         919184 non-null  int32 \n",
      " 3   Codigo     919184 non-null  int32 \n",
      " 4   Descricao  919184 non-null  object\n",
      " 5   Hora       919184 non-null  int32 \n",
      "dtypes: int32(3), object(3)\n",
      "memory usage: 38.6+ MB\n"
     ]
    }
   ],
   "source": [
    "# INFRAÇÕES RIO DE JANEIRO 2020\n",
    "estado = ['RJ']\n",
    "inf2020rj = ano2020c[ano2020c['UF'].isin(estado)]\n",
    "inf2020rj.info()"
   ]
  },
  {
   "cell_type": "code",
   "execution_count": 98,
   "id": "ace3b185",
   "metadata": {},
   "outputs": [
    {
     "name": "stdout",
     "output_type": "stream",
     "text": [
      "<class 'pandas.core.frame.DataFrame'>\n",
      "Int64Index: 19384 entries, 10 to 394054\n",
      "Data columns (total 12 columns):\n",
      " #   Column          Non-Null Count  Dtype \n",
      "---  ------          --------------  ----- \n",
      " 0   Data            19384 non-null  object\n",
      " 1   Dia_semana      19384 non-null  object\n",
      " 2   UF              19384 non-null  object\n",
      " 3   BR              19384 non-null  int32 \n",
      " 4   Causa           19384 non-null  object\n",
      " 5   Tipo_acidente   19384 non-null  object\n",
      " 6   Classificacao   19384 non-null  object\n",
      " 7   Ilesos          19384 non-null  int32 \n",
      " 8   Feridos_leves   19384 non-null  int32 \n",
      " 9   Feridos_graves  19384 non-null  int32 \n",
      " 10  Obitos          19384 non-null  int32 \n",
      " 11  Hora            19384 non-null  int32 \n",
      "dtypes: int32(6), object(6)\n",
      "memory usage: 1.5+ MB\n"
     ]
    }
   ],
   "source": [
    "# ACIDENTES RIO DE JANEIRO 2020\n",
    "estado = ['RJ']\n",
    "acid20rj = acid2020c[acid2020c['UF'].isin(estado)]\n",
    "acid20rj.info()"
   ]
  },
  {
   "cell_type": "markdown",
   "id": "5742e070",
   "metadata": {},
   "source": [
    "#  ################################################################\n",
    "# DATASET CLASSIFICAÇÃO DAS INFRAÇÕES\n",
    "# ################################################################"
   ]
  },
  {
   "cell_type": "code",
   "execution_count": 99,
   "id": "d58eba90",
   "metadata": {},
   "outputs": [],
   "source": [
    "#Lendo o arquivo de tipos de infrações\n",
    "tiposdeinfracoes = pd.read_excel(r\"E:\\CAMILA DRIVE\\02.BIG_DATA_PUC\\13.TCC\\Tipos\\tabela_infracoes.xlsx\", squeeze=True, dtype = 'object')"
   ]
  },
  {
   "cell_type": "code",
   "execution_count": 100,
   "id": "cca12dff",
   "metadata": {},
   "outputs": [
    {
     "data": {
      "text/plain": [
       "['CÓDIGO DA INFRAÇÃO',\n",
       " 'INFRAÇÃO',\n",
       " 'RESPONSÁVEL',\n",
       " 'VALOR DA MULTA',\n",
       " 'ARTIGOS DO CTB',\n",
       " 'Tipo']"
      ]
     },
     "execution_count": 100,
     "metadata": {},
     "output_type": "execute_result"
    }
   ],
   "source": [
    "# Verificando a base\n",
    "tiposdeinfracoes.columns.tolist()"
   ]
  },
  {
   "cell_type": "code",
   "execution_count": 101,
   "id": "b3316beb",
   "metadata": {},
   "outputs": [
    {
     "name": "stdout",
     "output_type": "stream",
     "text": [
      "<class 'pandas.core.frame.DataFrame'>\n",
      "RangeIndex: 412 entries, 0 to 411\n",
      "Data columns (total 3 columns):\n",
      " #   Column       Non-Null Count  Dtype \n",
      "---  ------       --------------  ----- \n",
      " 0   Codigo       412 non-null    int32 \n",
      " 1   Responsavel  412 non-null    object\n",
      " 2   Tipo         412 non-null    object\n",
      "dtypes: int32(1), object(2)\n",
      "memory usage: 8.2+ KB\n"
     ]
    }
   ],
   "source": [
    "# Tiposdeinfracao - Eliminando colunas que não serão usadas\n",
    "tipos_infra = tiposdeinfracoes.drop(columns = ['INFRAÇÃO', 'ARTIGOS DO CTB', 'VALOR DA MULTA'], axis = 1)\n",
    "\n",
    "# Renomeando para o padrão\n",
    "tipos_infra.rename(columns = {'CÓDIGO DA INFRAÇÃO':'Codigo','RESPONSÁVEL' : 'Responsavel'}, inplace = True)\n",
    "\n",
    "# Alterando o tipo de dados da coluna\n",
    "tipos_infra = tipos_infra.astype({\"Codigo\": int})\n",
    "tipos_infra.info()"
   ]
  },
  {
   "cell_type": "markdown",
   "id": "a234217d",
   "metadata": {},
   "source": [
    "### Mergindo com inf2017rj"
   ]
  },
  {
   "cell_type": "code",
   "execution_count": 102,
   "id": "746cd4e4",
   "metadata": {},
   "outputs": [
    {
     "data": {
      "text/plain": [
       "Data               0\n",
       "UF                 0\n",
       "BR                 0\n",
       "Codigo             0\n",
       "Descricao          0\n",
       "Hora               0\n",
       "Responsavel    12385\n",
       "Tipo           12385\n",
       "dtype: int64"
      ]
     },
     "execution_count": 102,
     "metadata": {},
     "output_type": "execute_result"
    }
   ],
   "source": [
    "# Mergindo a base tiposdeinfracao com base de infrações RJ - 2017\n",
    "infra17rj = pd.merge(inf2017rj, tipos_infra, on ='Codigo', how ='left')\n",
    "\n",
    "# Verificando se há linhas nulas\n",
    "infra17rj.isnull().sum()"
   ]
  },
  {
   "cell_type": "code",
   "execution_count": 103,
   "id": "1945bf1f",
   "metadata": {},
   "outputs": [
    {
     "data": {
      "text/plain": [
       "Data           0\n",
       "UF             0\n",
       "BR             0\n",
       "Codigo         0\n",
       "Descricao      0\n",
       "Hora           0\n",
       "Responsavel    0\n",
       "Tipo           0\n",
       "dtype: int64"
      ]
     },
     "execution_count": 103,
     "metadata": {},
     "output_type": "execute_result"
    }
   ],
   "source": [
    "# Deletaremos as linhas nulas\n",
    "infra17rj = infra17rj.dropna(subset = ['Tipo'])\n",
    "infra17rj.isnull().sum()"
   ]
  },
  {
   "cell_type": "code",
   "execution_count": 104,
   "id": "66bd7831",
   "metadata": {},
   "outputs": [
    {
     "name": "stdout",
     "output_type": "stream",
     "text": [
      "<class 'pandas.core.frame.DataFrame'>\n",
      "Int64Index: 820363 entries, 0 to 832747\n",
      "Data columns (total 8 columns):\n",
      " #   Column       Non-Null Count   Dtype \n",
      "---  ------       --------------   ----- \n",
      " 0   Data         820363 non-null  object\n",
      " 1   UF           820363 non-null  object\n",
      " 2   BR           820363 non-null  int32 \n",
      " 3   Codigo       820363 non-null  int32 \n",
      " 4   Descricao    820363 non-null  object\n",
      " 5   Hora         820363 non-null  int32 \n",
      " 6   Responsavel  820363 non-null  object\n",
      " 7   Tipo         820363 non-null  object\n",
      "dtypes: int32(3), object(5)\n",
      "memory usage: 46.9+ MB\n"
     ]
    }
   ],
   "source": [
    "# Verificando a nova base\n",
    "infra17rj.info()"
   ]
  },
  {
   "cell_type": "markdown",
   "id": "c8580f63",
   "metadata": {},
   "source": [
    "### Mergindo com inf2018rj"
   ]
  },
  {
   "cell_type": "code",
   "execution_count": 105,
   "id": "590e3f54",
   "metadata": {},
   "outputs": [
    {
     "data": {
      "text/plain": [
       "Data              0\n",
       "UF                0\n",
       "BR                0\n",
       "Codigo            0\n",
       "Descricao         0\n",
       "Hora              0\n",
       "Responsavel    9693\n",
       "Tipo           9693\n",
       "dtype: int64"
      ]
     },
     "execution_count": 105,
     "metadata": {},
     "output_type": "execute_result"
    }
   ],
   "source": [
    "# Mergindo a base tiposdeinfracao com base de infrações RJ - 2018\n",
    "infra18rj = pd.merge(inf2018rj, tipos_infra, on ='Codigo', how ='left')\n",
    "\n",
    "# Verificando se há linhas nulas\n",
    "infra18rj.isnull().sum()"
   ]
  },
  {
   "cell_type": "code",
   "execution_count": 106,
   "id": "d1633070",
   "metadata": {},
   "outputs": [
    {
     "data": {
      "text/plain": [
       "Data           0\n",
       "UF             0\n",
       "BR             0\n",
       "Codigo         0\n",
       "Descricao      0\n",
       "Hora           0\n",
       "Responsavel    0\n",
       "Tipo           0\n",
       "dtype: int64"
      ]
     },
     "execution_count": 106,
     "metadata": {},
     "output_type": "execute_result"
    }
   ],
   "source": [
    "# Deletaremos as linhas nulas\n",
    "infra18rj = infra18rj.dropna(subset = ['Tipo'])\n",
    "infra18rj.isnull().sum()"
   ]
  },
  {
   "cell_type": "code",
   "execution_count": 107,
   "id": "efcc6d06",
   "metadata": {},
   "outputs": [
    {
     "name": "stdout",
     "output_type": "stream",
     "text": [
      "<class 'pandas.core.frame.DataFrame'>\n",
      "Int64Index: 1118090 entries, 0 to 1127782\n",
      "Data columns (total 8 columns):\n",
      " #   Column       Non-Null Count    Dtype \n",
      "---  ------       --------------    ----- \n",
      " 0   Data         1118090 non-null  object\n",
      " 1   UF           1118090 non-null  object\n",
      " 2   BR           1118090 non-null  int32 \n",
      " 3   Codigo       1118090 non-null  int32 \n",
      " 4   Descricao    1118090 non-null  object\n",
      " 5   Hora         1118090 non-null  int32 \n",
      " 6   Responsavel  1118090 non-null  object\n",
      " 7   Tipo         1118090 non-null  object\n",
      "dtypes: int32(3), object(5)\n",
      "memory usage: 64.0+ MB\n"
     ]
    }
   ],
   "source": [
    "# Verificando a nova base\n",
    "infra18rj.info()"
   ]
  },
  {
   "cell_type": "markdown",
   "id": "ff905019",
   "metadata": {},
   "source": [
    "### Mergindo com inf2019rj"
   ]
  },
  {
   "cell_type": "code",
   "execution_count": 108,
   "id": "434e81fd",
   "metadata": {},
   "outputs": [
    {
     "data": {
      "text/plain": [
       "Data               0\n",
       "UF                 0\n",
       "BR                 0\n",
       "Codigo             0\n",
       "Descricao          0\n",
       "Hora               0\n",
       "Responsavel    15730\n",
       "Tipo           15730\n",
       "dtype: int64"
      ]
     },
     "execution_count": 108,
     "metadata": {},
     "output_type": "execute_result"
    }
   ],
   "source": [
    "# Mergindo a base tiposdeinfracao com base de infrações RJ - 2019\n",
    "infra19rj = pd.merge(inf2019rj, tipos_infra, on ='Codigo', how ='left')\n",
    "\n",
    "#Verificando se há linhas nulas\n",
    "infra19rj.isnull().sum()"
   ]
  },
  {
   "cell_type": "code",
   "execution_count": 109,
   "id": "2c1bd15b",
   "metadata": {},
   "outputs": [
    {
     "data": {
      "text/plain": [
       "Data           0\n",
       "UF             0\n",
       "BR             0\n",
       "Codigo         0\n",
       "Descricao      0\n",
       "Hora           0\n",
       "Responsavel    0\n",
       "Tipo           0\n",
       "dtype: int64"
      ]
     },
     "execution_count": 109,
     "metadata": {},
     "output_type": "execute_result"
    }
   ],
   "source": [
    "# Deletaremos as linhas nulas\n",
    "infra19rj = infra19rj.dropna(subset = ['Tipo'])\n",
    "infra19rj.isnull().sum()"
   ]
  },
  {
   "cell_type": "code",
   "execution_count": 110,
   "id": "3025502d",
   "metadata": {},
   "outputs": [
    {
     "name": "stdout",
     "output_type": "stream",
     "text": [
      "<class 'pandas.core.frame.DataFrame'>\n",
      "Int64Index: 750338 entries, 0 to 766067\n",
      "Data columns (total 8 columns):\n",
      " #   Column       Non-Null Count   Dtype \n",
      "---  ------       --------------   ----- \n",
      " 0   Data         750338 non-null  object\n",
      " 1   UF           750338 non-null  object\n",
      " 2   BR           750338 non-null  int32 \n",
      " 3   Codigo       750338 non-null  int32 \n",
      " 4   Descricao    750338 non-null  object\n",
      " 5   Hora         750338 non-null  int32 \n",
      " 6   Responsavel  750338 non-null  object\n",
      " 7   Tipo         750338 non-null  object\n",
      "dtypes: int32(3), object(5)\n",
      "memory usage: 42.9+ MB\n"
     ]
    }
   ],
   "source": [
    "# Verificando a nova base\n",
    "infra19rj.info()"
   ]
  },
  {
   "cell_type": "markdown",
   "id": "59afd2cf",
   "metadata": {},
   "source": [
    "### Mergindo com inf2020rj"
   ]
  },
  {
   "cell_type": "code",
   "execution_count": 111,
   "id": "6dc4b0bd",
   "metadata": {},
   "outputs": [
    {
     "data": {
      "text/plain": [
       "Data               0\n",
       "UF                 0\n",
       "BR                 0\n",
       "Codigo             0\n",
       "Descricao          0\n",
       "Hora               0\n",
       "Responsavel    17773\n",
       "Tipo           17773\n",
       "dtype: int64"
      ]
     },
     "execution_count": 111,
     "metadata": {},
     "output_type": "execute_result"
    }
   ],
   "source": [
    "# Mergindo a base tiposdeinfracao com base de infrações RJ - 2020\n",
    "infra20rj = pd.merge(inf2020rj, tipos_infra, on ='Codigo', how ='left')\n",
    "\n",
    "# Verificando se há linhas nulas\n",
    "infra20rj.isnull().sum()"
   ]
  },
  {
   "cell_type": "code",
   "execution_count": 112,
   "id": "6feea54b",
   "metadata": {},
   "outputs": [
    {
     "data": {
      "text/plain": [
       "Data           0\n",
       "UF             0\n",
       "BR             0\n",
       "Codigo         0\n",
       "Descricao      0\n",
       "Hora           0\n",
       "Responsavel    0\n",
       "Tipo           0\n",
       "dtype: int64"
      ]
     },
     "execution_count": 112,
     "metadata": {},
     "output_type": "execute_result"
    }
   ],
   "source": [
    "# Deletaremos as linhas nulas\n",
    "infra20rj = infra20rj.dropna(subset = ['Tipo'])\n",
    "infra20rj.isnull().sum()"
   ]
  },
  {
   "cell_type": "code",
   "execution_count": 113,
   "id": "3d3b271c",
   "metadata": {},
   "outputs": [
    {
     "name": "stdout",
     "output_type": "stream",
     "text": [
      "<class 'pandas.core.frame.DataFrame'>\n",
      "Int64Index: 901659 entries, 0 to 919431\n",
      "Data columns (total 8 columns):\n",
      " #   Column       Non-Null Count   Dtype \n",
      "---  ------       --------------   ----- \n",
      " 0   Data         901659 non-null  object\n",
      " 1   UF           901659 non-null  object\n",
      " 2   BR           901659 non-null  int32 \n",
      " 3   Codigo       901659 non-null  int32 \n",
      " 4   Descricao    901659 non-null  object\n",
      " 5   Hora         901659 non-null  int32 \n",
      " 6   Responsavel  901659 non-null  object\n",
      " 7   Tipo         901659 non-null  object\n",
      "dtypes: int32(3), object(5)\n",
      "memory usage: 51.6+ MB\n"
     ]
    }
   ],
   "source": [
    "# Verificando a nova base\n",
    "infra20rj.info()"
   ]
  },
  {
   "cell_type": "markdown",
   "id": "d5b6f4f6",
   "metadata": {},
   "source": [
    "## Adicionaremos coluna de PERÍODO DO DIA"
   ]
  },
  {
   "cell_type": "code",
   "execution_count": 114,
   "id": "ce1bb3c8",
   "metadata": {},
   "outputs": [
    {
     "name": "stdout",
     "output_type": "stream",
     "text": [
      "Infrações RJ 2017 - completa\n",
      "Infrações RJ 2018 - completa\n",
      "Infrações RJ 2019 - completa\n",
      "Infrações RJ 2020 - completa\n"
     ]
    }
   ],
   "source": [
    "# Primeiramente criaremos cópias dos dataframes de infrações usados\n",
    "\n",
    "import copy\n",
    "infra17rj_copy = pd.DataFrame(columns = infra17rj.columns, data = copy.deepcopy(infra17rj.values))\n",
    "print (\"Infrações RJ 2017 - completa\")\n",
    "infra18rj_copy = pd.DataFrame(columns = infra18rj.columns, data = copy.deepcopy(infra18rj.values))\n",
    "print (\"Infrações RJ 2018 - completa\")\n",
    "infra19rj_copy = pd.DataFrame(columns = infra19rj.columns, data = copy.deepcopy(infra19rj.values))\n",
    "print (\"Infrações RJ 2019 - completa\")\n",
    "infra20rj_copy = pd.DataFrame(columns = infra20rj.columns, data = copy.deepcopy(infra20rj.values))\n",
    "print (\"Infrações RJ 2020 - completa\")"
   ]
  },
  {
   "cell_type": "code",
   "execution_count": 115,
   "id": "e6ace889",
   "metadata": {},
   "outputs": [
    {
     "name": "stdout",
     "output_type": "stream",
     "text": [
      "Acidentes RJ 2017 - completa\n",
      "Acidentes RJ 2018 - completa\n",
      "Acidentes RJ 2019 - completa\n",
      "Acidentes RJ 2020 - completa\n"
     ]
    }
   ],
   "source": [
    "# Agora criaremos cópias dos dataframes de acidentes\n",
    "\n",
    "acid17rj_copy = pd.DataFrame(columns = acid17rj.columns, data = copy.deepcopy(acid17rj.values))\n",
    "print (\"Acidentes RJ 2017 - completa\")\n",
    "acid18rj_copy = pd.DataFrame(columns = acid18rj.columns, data = copy.deepcopy(acid18rj.values))\n",
    "print (\"Acidentes RJ 2018 - completa\")\n",
    "acid19rj_copy = pd.DataFrame(columns = acid19rj.columns, data = copy.deepcopy(acid19rj.values))\n",
    "print (\"Acidentes RJ 2019 - completa\")\n",
    "acid20rj_copy = pd.DataFrame(columns = acid20rj.columns, data = copy.deepcopy(acid20rj.values))\n",
    "print (\"Acidentes RJ 2020 - completa\")"
   ]
  },
  {
   "cell_type": "code",
   "execution_count": 116,
   "id": "a3c6579c",
   "metadata": {},
   "outputs": [
    {
     "name": "stdout",
     "output_type": "stream",
     "text": [
      "Infrações RJ 2017\n",
      "<class 'pandas.core.frame.DataFrame'>\n",
      "RangeIndex: 820363 entries, 0 to 820362\n",
      "Data columns (total 8 columns):\n",
      " #   Column       Non-Null Count   Dtype \n",
      "---  ------       --------------   ----- \n",
      " 0   Data         820363 non-null  object\n",
      " 1   UF           820363 non-null  object\n",
      " 2   BR           820363 non-null  object\n",
      " 3   Codigo       820363 non-null  object\n",
      " 4   Descricao    820363 non-null  object\n",
      " 5   Hora         820363 non-null  object\n",
      " 6   Responsavel  820363 non-null  object\n",
      " 7   Tipo         820363 non-null  object\n",
      "dtypes: object(8)\n",
      "memory usage: 50.1+ MB\n",
      "Infrações RJ 2018\n",
      "<class 'pandas.core.frame.DataFrame'>\n",
      "RangeIndex: 1118090 entries, 0 to 1118089\n",
      "Data columns (total 8 columns):\n",
      " #   Column       Non-Null Count    Dtype \n",
      "---  ------       --------------    ----- \n",
      " 0   Data         1118090 non-null  object\n",
      " 1   UF           1118090 non-null  object\n",
      " 2   BR           1118090 non-null  object\n",
      " 3   Codigo       1118090 non-null  object\n",
      " 4   Descricao    1118090 non-null  object\n",
      " 5   Hora         1118090 non-null  object\n",
      " 6   Responsavel  1118090 non-null  object\n",
      " 7   Tipo         1118090 non-null  object\n",
      "dtypes: object(8)\n",
      "memory usage: 68.2+ MB\n",
      "Infrações RJ 2019\n",
      "<class 'pandas.core.frame.DataFrame'>\n",
      "RangeIndex: 750338 entries, 0 to 750337\n",
      "Data columns (total 8 columns):\n",
      " #   Column       Non-Null Count   Dtype \n",
      "---  ------       --------------   ----- \n",
      " 0   Data         750338 non-null  object\n",
      " 1   UF           750338 non-null  object\n",
      " 2   BR           750338 non-null  object\n",
      " 3   Codigo       750338 non-null  object\n",
      " 4   Descricao    750338 non-null  object\n",
      " 5   Hora         750338 non-null  object\n",
      " 6   Responsavel  750338 non-null  object\n",
      " 7   Tipo         750338 non-null  object\n",
      "dtypes: object(8)\n",
      "memory usage: 45.8+ MB\n",
      "Infrações RJ 2020\n",
      "<class 'pandas.core.frame.DataFrame'>\n",
      "RangeIndex: 901659 entries, 0 to 901658\n",
      "Data columns (total 8 columns):\n",
      " #   Column       Non-Null Count   Dtype \n",
      "---  ------       --------------   ----- \n",
      " 0   Data         901659 non-null  object\n",
      " 1   UF           901659 non-null  object\n",
      " 2   BR           901659 non-null  object\n",
      " 3   Codigo       901659 non-null  object\n",
      " 4   Descricao    901659 non-null  object\n",
      " 5   Hora         901659 non-null  object\n",
      " 6   Responsavel  901659 non-null  object\n",
      " 7   Tipo         901659 non-null  object\n",
      "dtypes: object(8)\n",
      "memory usage: 55.0+ MB\n",
      "Cópias realizadas\n"
     ]
    }
   ],
   "source": [
    "# Verificaremos as cópias de infrações\n",
    "print (\"Infrações RJ 2017\")\n",
    "infra17rj_copy.info()\n",
    "print (\"Infrações RJ 2018\")\n",
    "infra18rj_copy.info()\n",
    "print (\"Infrações RJ 2019\")\n",
    "infra19rj_copy.info()\n",
    "print (\"Infrações RJ 2020\")\n",
    "infra20rj_copy.info()\n",
    "print (\"Cópias realizadas\")"
   ]
  },
  {
   "cell_type": "code",
   "execution_count": 117,
   "id": "47ac72b9",
   "metadata": {},
   "outputs": [
    {
     "name": "stdout",
     "output_type": "stream",
     "text": [
      "Acidentes RJ 2017\n",
      "<class 'pandas.core.frame.DataFrame'>\n",
      "RangeIndex: 18107 entries, 0 to 18106\n",
      "Data columns (total 12 columns):\n",
      " #   Column          Non-Null Count  Dtype \n",
      "---  ------          --------------  ----- \n",
      " 0   Data            18107 non-null  object\n",
      " 1   Dia_semana      18107 non-null  object\n",
      " 2   UF              18107 non-null  object\n",
      " 3   BR              18107 non-null  object\n",
      " 4   Causa           18107 non-null  object\n",
      " 5   Tipo_acidente   18107 non-null  object\n",
      " 6   Classificacao   18107 non-null  object\n",
      " 7   Ilesos          18107 non-null  object\n",
      " 8   Feridos_leves   18107 non-null  object\n",
      " 9   Feridos_graves  18107 non-null  object\n",
      " 10  Obitos          18107 non-null  object\n",
      " 11  Hora            18107 non-null  object\n",
      "dtypes: object(12)\n",
      "memory usage: 1.7+ MB\n",
      "Acidentes RJ 2018\n",
      "<class 'pandas.core.frame.DataFrame'>\n",
      "RangeIndex: 16634 entries, 0 to 16633\n",
      "Data columns (total 12 columns):\n",
      " #   Column          Non-Null Count  Dtype \n",
      "---  ------          --------------  ----- \n",
      " 0   Data            16634 non-null  object\n",
      " 1   Dia_semana      16634 non-null  object\n",
      " 2   UF              16634 non-null  object\n",
      " 3   BR              16634 non-null  object\n",
      " 4   Causa           16634 non-null  object\n",
      " 5   Tipo_acidente   16634 non-null  object\n",
      " 6   Classificacao   16634 non-null  object\n",
      " 7   Ilesos          16634 non-null  object\n",
      " 8   Feridos_leves   16634 non-null  object\n",
      " 9   Feridos_graves  16634 non-null  object\n",
      " 10  Obitos          16634 non-null  object\n",
      " 11  Hora            16634 non-null  object\n",
      "dtypes: object(12)\n",
      "memory usage: 1.5+ MB\n",
      "Acidentes RJ 2019\n",
      "<class 'pandas.core.frame.DataFrame'>\n",
      "RangeIndex: 17943 entries, 0 to 17942\n",
      "Data columns (total 12 columns):\n",
      " #   Column          Non-Null Count  Dtype \n",
      "---  ------          --------------  ----- \n",
      " 0   Data            17943 non-null  object\n",
      " 1   Dia_semana      17943 non-null  object\n",
      " 2   UF              17943 non-null  object\n",
      " 3   BR              17943 non-null  object\n",
      " 4   Causa           17943 non-null  object\n",
      " 5   Tipo_acidente   17943 non-null  object\n",
      " 6   Classificacao   17943 non-null  object\n",
      " 7   Ilesos          17943 non-null  object\n",
      " 8   Feridos_leves   17943 non-null  object\n",
      " 9   Feridos_graves  17943 non-null  object\n",
      " 10  Obitos          17943 non-null  object\n",
      " 11  Hora            17943 non-null  object\n",
      "dtypes: object(12)\n",
      "memory usage: 1.6+ MB\n",
      "Acidentes RJ 2020\n",
      "<class 'pandas.core.frame.DataFrame'>\n",
      "RangeIndex: 19384 entries, 0 to 19383\n",
      "Data columns (total 12 columns):\n",
      " #   Column          Non-Null Count  Dtype \n",
      "---  ------          --------------  ----- \n",
      " 0   Data            19384 non-null  object\n",
      " 1   Dia_semana      19384 non-null  object\n",
      " 2   UF              19384 non-null  object\n",
      " 3   BR              19384 non-null  object\n",
      " 4   Causa           19384 non-null  object\n",
      " 5   Tipo_acidente   19384 non-null  object\n",
      " 6   Classificacao   19384 non-null  object\n",
      " 7   Ilesos          19384 non-null  object\n",
      " 8   Feridos_leves   19384 non-null  object\n",
      " 9   Feridos_graves  19384 non-null  object\n",
      " 10  Obitos          19384 non-null  object\n",
      " 11  Hora            19384 non-null  object\n",
      "dtypes: object(12)\n",
      "memory usage: 1.8+ MB\n"
     ]
    }
   ],
   "source": [
    "# E agora verificaremos as cópias de acidentes\n",
    "print (\"Acidentes RJ 2017\")\n",
    "acid17rj_copy.info()\n",
    "print (\"Acidentes RJ 2018\")\n",
    "acid18rj_copy.info()\n",
    "print (\"Acidentes RJ 2019\")\n",
    "acid19rj_copy.info()\n",
    "print (\"Acidentes RJ 2020\")\n",
    "acid20rj_copy.info()"
   ]
  },
  {
   "cell_type": "code",
   "execution_count": 118,
   "id": "9e2ad92e",
   "metadata": {},
   "outputs": [],
   "source": [
    "# Precisamos definir a fórmula que irá dividir o dia em períodos\n",
    "\n",
    "def f(Hora):\n",
    "    if Hora>=0 and Hora<=5 :\n",
    "        return \"Madrugada\"\n",
    "    elif Hora>= 6 and Hora<= 11:\n",
    "        return \"Manhã\"\n",
    "    elif Hora>= 12 and Hora<= 17:\n",
    "        return \"Tarde\"\n",
    "    else:\n",
    "        return \"Noite\""
   ]
  },
  {
   "cell_type": "code",
   "execution_count": 119,
   "id": "d7201500",
   "metadata": {},
   "outputs": [
    {
     "name": "stdout",
     "output_type": "stream",
     "text": [
      "2017 ok\n",
      "2018 ok\n",
      "2019 ok\n",
      "2020 ok\n"
     ]
    }
   ],
   "source": [
    "# Aplicando a fórmula - Inserindo coluna Período para bases de Infrações RJ\n",
    "infra17rj_copy[\"Periodo\"] = infra17rj_copy[\"Hora\"].apply(lambda Hora: f(Hora))\n",
    "print (\"2017 ok\")\n",
    "infra18rj_copy[\"Periodo\"] = infra18rj_copy[\"Hora\"].apply(lambda Hora: f(Hora))\n",
    "print (\"2018 ok\")\n",
    "infra19rj_copy[\"Periodo\"] = infra19rj_copy[\"Hora\"].apply(lambda Hora: f(Hora))\n",
    "print (\"2019 ok\")\n",
    "infra20rj_copy[\"Periodo\"] = infra20rj_copy[\"Hora\"].apply(lambda Hora: f(Hora))\n",
    "print (\"2020 ok\")"
   ]
  },
  {
   "cell_type": "code",
   "execution_count": 120,
   "id": "beb023b6",
   "metadata": {},
   "outputs": [
    {
     "name": "stdout",
     "output_type": "stream",
     "text": [
      "2017 ok\n",
      "2018 ok\n",
      "2019 ok\n",
      "2020 ok\n"
     ]
    }
   ],
   "source": [
    "## Aplicando a fórmula - Inserindo coluna Período para bases de Acidentes RJ\n",
    "acid17rj_copy[\"Periodo\"] = acid17rj_copy[\"Hora\"].apply(lambda Hora: f(Hora))\n",
    "print (\"2017 ok\")\n",
    "acid18rj_copy[\"Periodo\"] = acid18rj_copy[\"Hora\"].apply(lambda Hora: f(Hora))\n",
    "print (\"2018 ok\")\n",
    "acid19rj_copy[\"Periodo\"] = acid19rj_copy[\"Hora\"].apply(lambda Hora: f(Hora))\n",
    "print (\"2019 ok\")\n",
    "acid20rj_copy[\"Periodo\"] = acid20rj_copy[\"Hora\"].apply(lambda Hora: f(Hora))\n",
    "print (\"2020 ok\")"
   ]
  },
  {
   "cell_type": "markdown",
   "id": "4d48c934",
   "metadata": {
    "collapsed": true
   },
   "source": [
    "# O que temos agora são as seguintes bases:\n",
    "### Infrações RJ por ano\n",
    "infra17rj_copy\n",
    "\n",
    "infra18rj_copy\n",
    "\n",
    "infra19rj_copy\n",
    "\n",
    "infra20rj_copy\n",
    "\n",
    "### Acidentes RJ por ano\n",
    "acid17rj_copy\n",
    "\n",
    "acid18rj_copy\n",
    "\n",
    "acid19rj_copy\n",
    "\n",
    "acid20rj_copy\n"
   ]
  },
  {
   "cell_type": "code",
   "execution_count": 121,
   "id": "212722e6",
   "metadata": {},
   "outputs": [],
   "source": [
    "#Aqui se verificou as linhas nulas e não havia nenhuma em nenhum DF\n",
    "# ex: acid20rj_copy.isnull().sum()"
   ]
  },
  {
   "cell_type": "markdown",
   "id": "50bb031d",
   "metadata": {},
   "source": [
    "# Adicionando coluna Index Mês"
   ]
  },
  {
   "cell_type": "code",
   "execution_count": 123,
   "id": "ee0545f7",
   "metadata": {},
   "outputs": [
    {
     "name": "stdout",
     "output_type": "stream",
     "text": [
      "infra 2017 ok\n",
      "infra 2018 ok\n",
      "infra 2019 ok\n",
      "infra 2020 ok\n",
      "acid 2017 ok\n",
      "acid 2018 ok\n",
      "acid 2019 ok\n",
      "acid 2020 ok\n"
     ]
    }
   ],
   "source": [
    "# Inserindo a coluna Index_mes em todas as bases\n",
    "\n",
    "infra17rj_copy['Index_mes'] = infra17rj_copy['Data'].str.split('-').str[1]\n",
    "print (\"infra 2017 ok\")\n",
    "infra18rj_copy['Index_mes'] = infra18rj_copy['Data'].str.split('-').str[1]\n",
    "print (\"infra 2018 ok\")\n",
    "infra19rj_copy['Index_mes'] = infra19rj_copy['Data'].str.split('-').str[1]\n",
    "print (\"infra 2019 ok\")\n",
    "infra20rj_copy['Index_mes'] = infra20rj_copy['Data'].str.split('-').str[1]\n",
    "print (\"infra 2020 ok\")\n",
    "\n",
    "acid17rj_copy['Index_mes'] = acid17rj_copy['Data'].str.split('-').str[1]\n",
    "print (\"acid 2017 ok\")\n",
    "acid18rj_copy['Index_mes'] = acid18rj_copy['Data'].str.split('-').str[1]\n",
    "print (\"acid 2018 ok\")\n",
    "acid19rj_copy['Index_mes'] = acid19rj_copy['Data'].str.split('-').str[1]\n",
    "print (\"acid 2019 ok\")\n",
    "acid20rj_copy['Index_mes'] = acid20rj_copy['Data'].str.split('-').str[1]\n",
    "print (\"acid 2020 ok\")"
   ]
  },
  {
   "cell_type": "markdown",
   "id": "74b62230",
   "metadata": {},
   "source": [
    "# Criando a coluna ANO e ANO-MÊS"
   ]
  },
  {
   "cell_type": "code",
   "execution_count": 126,
   "id": "6d35fbd0",
   "metadata": {},
   "outputs": [],
   "source": [
    "#Criando coluna ano\n",
    "infra17rj_copy['ano'] = infra17rj_copy['Data'].str.split('-').str[0]\n",
    "infra18rj_copy['ano'] = infra18rj_copy['Data'].str.split('-').str[0]\n",
    "infra19rj_copy['ano'] = infra19rj_copy['Data'].str.split('-').str[0]\n",
    "infra20rj_copy['ano'] = infra20rj_copy['Data'].str.split('-').str[0]\n",
    "\n",
    "acid17rj_copy['ano'] = acid17rj_copy['Data'].str.split('-').str[0]\n",
    "acid18rj_copy['ano'] = acid18rj_copy['Data'].str.split('-').str[0]\n",
    "acid19rj_copy['ano'] = acid19rj_copy['Data'].str.split('-').str[0]\n",
    "acid20rj_copy['ano'] = acid20rj_copy['Data'].str.split('-').str[0]"
   ]
  },
  {
   "cell_type": "code",
   "execution_count": 128,
   "id": "bbed04eb",
   "metadata": {},
   "outputs": [],
   "source": [
    "#Juntando ano com mês\n",
    "infra17rj_copy['mes_ano'] = infra17rj_copy[['ano', 'Index_mes']].agg('-'.join, axis=1)\n",
    "infra18rj_copy['mes_ano'] = infra18rj_copy[['ano', 'Index_mes']].agg('-'.join, axis=1)\n",
    "infra19rj_copy['mes_ano'] = infra19rj_copy[['ano', 'Index_mes']].agg('-'.join, axis=1)\n",
    "infra20rj_copy['mes_ano'] = infra20rj_copy[['ano', 'Index_mes']].agg('-'.join, axis=1)\n",
    "\n",
    "acid17rj_copy['mes_ano'] = acid17rj_copy[['ano', 'Index_mes']].agg('-'.join, axis=1)\n",
    "acid18rj_copy['mes_ano'] = acid18rj_copy[['ano', 'Index_mes']].agg('-'.join, axis=1)\n",
    "acid19rj_copy['mes_ano'] = acid19rj_copy[['ano', 'Index_mes']].agg('-'.join, axis=1)\n",
    "acid20rj_copy['mes_ano'] = acid20rj_copy[['ano', 'Index_mes']].agg('-'.join, axis=1)"
   ]
  },
  {
   "cell_type": "markdown",
   "id": "3a5928e5",
   "metadata": {},
   "source": [
    "# Criando a coluna de Mês por nome de mês"
   ]
  },
  {
   "cell_type": "code",
   "execution_count": 130,
   "id": "8be58e9a",
   "metadata": {
    "collapsed": true
   },
   "outputs": [
    {
     "name": "stdout",
     "output_type": "stream",
     "text": [
      "infra 2017 ok\n",
      "infra 2018 ok\n",
      "infra 2019 ok\n",
      "infra 2020 ok\n",
      "acid 2017 ok\n",
      "acid 2018 ok\n",
      "acid 2019 ok\n",
      "acid 2020 ok\n"
     ]
    }
   ],
   "source": [
    "# Converter tipo da coluna Index_mes para inteiro\n",
    "\n",
    "infra17rj_copy['Index_mes'] = pd.to_numeric(infra17rj_copy['Index_mes'], errors=\"coerce\").astype('int64')\n",
    "print (\"infra 2017 ok\")\n",
    "infra18rj_copy['Index_mes'] = pd.to_numeric(infra18rj_copy['Index_mes'], errors=\"coerce\").astype('int64')\n",
    "print (\"infra 2018 ok\")\n",
    "infra19rj_copy['Index_mes'] = pd.to_numeric(infra19rj_copy['Index_mes'], errors=\"coerce\").astype('int64')\n",
    "print (\"infra 2019 ok\")\n",
    "infra20rj_copy['Index_mes'] = pd.to_numeric(infra20rj_copy['Index_mes'], errors=\"coerce\").astype('int64')\n",
    "print (\"infra 2020 ok\")\n",
    "\n",
    "acid17rj_copy['Index_mes'] =  pd.to_numeric(acid17rj_copy['Index_mes'], errors=\"coerce\").astype('int64')\n",
    "print(\"acid 2017 ok\")\n",
    "acid18rj_copy['Index_mes'] =  pd.to_numeric(acid18rj_copy['Index_mes'], errors=\"coerce\").astype('int64')\n",
    "print (\"acid 2018 ok\")\n",
    "acid19rj_copy['Index_mes'] =  pd.to_numeric(acid19rj_copy['Index_mes'], errors=\"coerce\").astype('int64')\n",
    "print (\"acid 2019 ok\")\n",
    "acid20rj_copy['Index_mes'] =  pd.to_numeric(acid20rj_copy['Index_mes'], errors=\"coerce\").astype('int64')\n",
    "print (\"acid 2020 ok\")"
   ]
  },
  {
   "cell_type": "code",
   "execution_count": 132,
   "id": "a465f07e",
   "metadata": {},
   "outputs": [],
   "source": [
    "# Precisamos definir agora a fórmula que nos dará o nome do mês baseado no seu índice, Index_mes, criado anteriormente\n",
    "\n",
    "def g(Index_mes):\n",
    "    if Index_mes == 1 :\n",
    "        return \"Janeiro\"\n",
    "    elif Index_mes == 2:\n",
    "        return \"Fevereiro\"\n",
    "    elif Index_mes == 3:\n",
    "        return \"Março\"\n",
    "    elif Index_mes == 4:\n",
    "        return \"Abril\"\n",
    "    elif Index_mes == 5:\n",
    "        return \"Maio\"\n",
    "    elif Index_mes == 6:\n",
    "        return \"Junho\"\n",
    "    elif Index_mes == 7:\n",
    "        return \"Julho\"\n",
    "    elif Index_mes == 8:\n",
    "        return \"Agosto\"\n",
    "    elif Index_mes == 9:\n",
    "        return \"Setembro\"\n",
    "    elif Index_mes == 10:\n",
    "        return \"Outubro\"\n",
    "    elif Index_mes == 11:\n",
    "        return \"Novembro\"\n",
    "    else:\n",
    "        return \"Dezembro\""
   ]
  },
  {
   "cell_type": "code",
   "execution_count": 133,
   "id": "182ea8df",
   "metadata": {
    "collapsed": true
   },
   "outputs": [
    {
     "name": "stdout",
     "output_type": "stream",
     "text": [
      "2017 ok\n",
      "2018 ok\n",
      "2019 ok\n",
      "2020 ok\n"
     ]
    }
   ],
   "source": [
    "# Inserindo coluna Mes para Infrações RJ\n",
    "\n",
    "infra17rj_copy[\"Mes\"] = infra17rj_copy[\"Index_mes\"].apply(lambda Index_mes: g(Index_mes))\n",
    "print (\"2017 ok\")\n",
    "infra18rj_copy[\"Mes\"] = infra18rj_copy[\"Index_mes\"].apply(lambda Index_mes: g(Index_mes))\n",
    "print (\"2018 ok\")\n",
    "infra19rj_copy[\"Mes\"] = infra19rj_copy[\"Index_mes\"].apply(lambda Index_mes: g(Index_mes))\n",
    "print (\"2019 ok\")\n",
    "infra20rj_copy[\"Mes\"] = infra20rj_copy[\"Index_mes\"].apply(lambda Index_mes: g(Index_mes))\n",
    "print (\"2020 ok\")"
   ]
  },
  {
   "cell_type": "code",
   "execution_count": 134,
   "id": "85082f1c",
   "metadata": {
    "collapsed": true
   },
   "outputs": [
    {
     "name": "stdout",
     "output_type": "stream",
     "text": [
      "2017 ok\n",
      "2018 ok\n",
      "2019 ok\n",
      "2020 ok\n"
     ]
    }
   ],
   "source": [
    "# Inserindo coluna  Mes para Acidentes RJ\n",
    "\n",
    "acid17rj_copy[\"Mes\"] = acid17rj_copy[\"Index_mes\"].apply(lambda Index_mes: g(Index_mes))\n",
    "print (\"2017 ok\")\n",
    "acid18rj_copy[\"Mes\"] = acid18rj_copy[\"Index_mes\"].apply(lambda Index_mes: g(Index_mes))\n",
    "print (\"2018 ok\")\n",
    "acid19rj_copy[\"Mes\"] = acid19rj_copy[\"Index_mes\"].apply(lambda Index_mes: g(Index_mes))\n",
    "print (\"2019 ok\")\n",
    "acid20rj_copy[\"Mes\"] = acid20rj_copy[\"Index_mes\"].apply(lambda Index_mes: g(Index_mes))\n",
    "print (\"2020 ok\")"
   ]
  },
  {
   "cell_type": "code",
   "execution_count": 136,
   "id": "c8c6f42b",
   "metadata": {},
   "outputs": [],
   "source": [
    "# Deletando colunas Index Mês para todas as bases\n",
    "\n",
    "del infra17rj_copy['Index_mes'] \n",
    "del infra18rj_copy['Index_mes']\n",
    "del infra19rj_copy['Index_mes']\n",
    "del infra20rj_copy['Index_mes']\n",
    "\n",
    "del acid17rj_copy['Index_mes']\n",
    "del acid18rj_copy['Index_mes']\n",
    "del acid19rj_copy['Index_mes']\n",
    "del acid20rj_copy['Index_mes']"
   ]
  },
  {
   "cell_type": "markdown",
   "id": "86e180c2",
   "metadata": {},
   "source": [
    "## Convertando Data para datetime"
   ]
  },
  {
   "cell_type": "code",
   "execution_count": 138,
   "id": "080763cd",
   "metadata": {
    "collapsed": true
   },
   "outputs": [
    {
     "name": "stdout",
     "output_type": "stream",
     "text": [
      "Infra 2017 ok\n",
      "Infra 2018 ok\n",
      "Infra 2019 ok\n",
      "Infra 2020 ok\n"
     ]
    }
   ],
   "source": [
    "#Convertendo coluna 'Data' de Infrações pra tipo datetime\n",
    "\n",
    "infra17rj_copy['Data'] = infra17rj_copy.Data.astype('datetime64')\n",
    "print (\"Infra 2017 ok\")\n",
    "infra18rj_copy['Data'] = infra18rj_copy.Data.astype('datetime64')\n",
    "print (\"Infra 2018 ok\")\n",
    "infra19rj_copy['Data'] = infra19rj_copy.Data.astype('datetime64')\n",
    "print (\"Infra 2019 ok\")\n",
    "infra20rj_copy['Data'] = infra20rj_copy.Data.astype('datetime64')\n",
    "print (\"Infra 2020 ok\")"
   ]
  },
  {
   "cell_type": "code",
   "execution_count": 139,
   "id": "639b2c63",
   "metadata": {
    "collapsed": true
   },
   "outputs": [
    {
     "name": "stdout",
     "output_type": "stream",
     "text": [
      "Acid 2017 ok\n",
      "Acid 2018 ok\n",
      "Acid 2019 ok\n",
      "Acid 2020 ok\n"
     ]
    }
   ],
   "source": [
    "#Convertendo Data de Acidentes pra datetime\n",
    "\n",
    "acid17rj_copy['Data'] = acid17rj_copy.Data.astype('datetime64')\n",
    "print (\"Acid 2017 ok\")\n",
    "acid18rj_copy['Data'] = acid18rj_copy.Data.astype('datetime64')\n",
    "print (\"Acid 2018 ok\")\n",
    "acid19rj_copy['Data'] = acid19rj_copy.Data.astype('datetime64')\n",
    "print (\"Acid 2019 ok\")\n",
    "acid20rj_copy['Data'] = acid20rj_copy.Data.astype('datetime64')\n",
    "print (\"Acid 2020 ok\")"
   ]
  },
  {
   "cell_type": "markdown",
   "id": "07764ca2",
   "metadata": {},
   "source": [
    "## Convertendo Ilesos, Feridos e Óbitos para inteiro"
   ]
  },
  {
   "cell_type": "code",
   "execution_count": 141,
   "id": "4c788d09",
   "metadata": {
    "collapsed": true
   },
   "outputs": [
    {
     "name": "stdout",
     "output_type": "stream",
     "text": [
      "Conversão Acid 2017 ok\n",
      "Conversão Acid 2018 ok\n",
      "Conversão Acid 2019 ok\n",
      "Conversão Acid 2020 ok\n"
     ]
    }
   ],
   "source": [
    "# Converter Ilesos para inteiro\n",
    "\n",
    "acid17rj_copy['Ilesos'] =  pd.to_numeric(acid17rj_copy['Ilesos'], errors=\"coerce\").astype('int64')\n",
    "print (\"Conversão Acid 2017 ok\")\n",
    "acid18rj_copy['Ilesos'] =  pd.to_numeric(acid18rj_copy['Ilesos'], errors=\"coerce\").astype('int64')\n",
    "print (\"Conversão Acid 2018 ok\")\n",
    "acid19rj_copy['Ilesos'] =  pd.to_numeric(acid19rj_copy['Ilesos'], errors=\"coerce\").astype('int64')\n",
    "print (\"Conversão Acid 2019 ok\")\n",
    "acid20rj_copy['Ilesos'] =  pd.to_numeric(acid20rj_copy['Ilesos'], errors=\"coerce\").astype('int64')\n",
    "print (\"Conversão Acid 2020 ok\")"
   ]
  },
  {
   "cell_type": "code",
   "execution_count": 142,
   "id": "8aaa0dc6",
   "metadata": {
    "collapsed": true
   },
   "outputs": [
    {
     "name": "stdout",
     "output_type": "stream",
     "text": [
      "Conversão Acid 2017 ok\n",
      "Conversão Acid 2018 ok\n",
      "Conversão Acid 2019 ok\n",
      "Conversão Acid 2020 ok\n"
     ]
    }
   ],
   "source": [
    "# Converter Feridos_leves para inteiro\n",
    "\n",
    "acid17rj_copy['Feridos_leves'] =  pd.to_numeric(acid17rj_copy['Feridos_leves'], errors=\"coerce\").astype('int64')\n",
    "print (\"Conversão Acid 2017 ok\")\n",
    "acid18rj_copy['Feridos_leves'] =  pd.to_numeric(acid18rj_copy['Feridos_leves'], errors=\"coerce\").astype('int64')\n",
    "print (\"Conversão Acid 2018 ok\")\n",
    "acid19rj_copy['Feridos_leves'] =  pd.to_numeric(acid19rj_copy['Feridos_leves'], errors=\"coerce\").astype('int64')\n",
    "print (\"Conversão Acid 2019 ok\")\n",
    "acid20rj_copy['Feridos_leves'] =  pd.to_numeric(acid20rj_copy['Feridos_leves'], errors=\"coerce\").astype('int64')\n",
    "print (\"Conversão Acid 2020 ok\")"
   ]
  },
  {
   "cell_type": "code",
   "execution_count": 143,
   "id": "6e7a779b",
   "metadata": {
    "collapsed": true
   },
   "outputs": [
    {
     "name": "stdout",
     "output_type": "stream",
     "text": [
      "Conversão Acid 2017 ok\n",
      "Conversão Acid 2018 ok\n",
      "Conversão Acid 2019 ok\n",
      "Conversão Acid 2020 ok\n"
     ]
    }
   ],
   "source": [
    "# Converter Feridos_graves para inteiro\n",
    "\n",
    "acid17rj_copy['Feridos_graves'] =  pd.to_numeric(acid17rj_copy['Feridos_graves'], errors=\"coerce\").astype('int64')\n",
    "print (\"Conversão Acid 2017 ok\")\n",
    "acid18rj_copy['Feridos_graves'] =  pd.to_numeric(acid18rj_copy['Feridos_graves'], errors=\"coerce\").astype('int64')\n",
    "print (\"Conversão Acid 2018 ok\")\n",
    "acid19rj_copy['Feridos_graves'] =  pd.to_numeric(acid19rj_copy['Feridos_graves'], errors=\"coerce\").astype('int64')\n",
    "print (\"Conversão Acid 2019 ok\")\n",
    "acid20rj_copy['Feridos_graves'] =  pd.to_numeric(acid20rj_copy['Feridos_graves'], errors=\"coerce\").astype('int64')\n",
    "print (\"Conversão Acid 2020 ok\")"
   ]
  },
  {
   "cell_type": "code",
   "execution_count": 144,
   "id": "5e5bba6b",
   "metadata": {
    "collapsed": true
   },
   "outputs": [
    {
     "name": "stdout",
     "output_type": "stream",
     "text": [
      "Conversão Acid 2017 ok\n",
      "Conversão Acid 2018 ok\n",
      "Conversão Acid 2019 ok\n",
      "Conversão Acid 2020 ok\n"
     ]
    }
   ],
   "source": [
    "# Converter Obitos para inteiro\n",
    "\n",
    "acid17rj_copy['Obitos'] =  pd.to_numeric(acid17rj_copy['Obitos'], errors=\"coerce\").astype('int64')\n",
    "print (\"Conversão Acid 2017 ok\")\n",
    "acid18rj_copy['Obitos'] =  pd.to_numeric(acid18rj_copy['Obitos'], errors=\"coerce\").astype('int64')\n",
    "print (\"Conversão Acid 2018 ok\")\n",
    "acid19rj_copy['Obitos'] =  pd.to_numeric(acid19rj_copy['Obitos'], errors=\"coerce\").astype('int64')\n",
    "print (\"Conversão Acid 2019 ok\")\n",
    "acid20rj_copy['Obitos'] =  pd.to_numeric(acid20rj_copy['Obitos'], errors=\"coerce\").astype('int64')\n",
    "print (\"Conversão Acid 2020 ok\")"
   ]
  },
  {
   "cell_type": "code",
   "execution_count": 176,
   "id": "731cadb4",
   "metadata": {
    "collapsed": true
   },
   "outputs": [
    {
     "name": "stdout",
     "output_type": "stream",
     "text": [
      "<class 'pandas.core.frame.DataFrame'>\n",
      "RangeIndex: 901659 entries, 0 to 901658\n",
      "Data columns (total 12 columns):\n",
      " #   Column       Non-Null Count   Dtype         \n",
      "---  ------       --------------   -----         \n",
      " 0   Data         901659 non-null  datetime64[ns]\n",
      " 1   UF           901659 non-null  object        \n",
      " 2   BR           901659 non-null  object        \n",
      " 3   Codigo       901659 non-null  object        \n",
      " 4   Descricao    901659 non-null  object        \n",
      " 5   Hora         901659 non-null  object        \n",
      " 6   Responsavel  901659 non-null  object        \n",
      " 7   Tipo         901659 non-null  object        \n",
      " 8   Periodo      901659 non-null  object        \n",
      " 9   Mes          901659 non-null  object        \n",
      " 10  ano          901659 non-null  object        \n",
      " 11  mes_ano      901659 non-null  object        \n",
      "dtypes: datetime64[ns](1), object(11)\n",
      "memory usage: 82.5+ MB\n"
     ]
    }
   ],
   "source": [
    "# Verificou-se todas as bases para garantir que estivessem com o mesmo type nas colunas\n",
    "# Ex: infra20rj_copy2.info()"
   ]
  },
  {
   "cell_type": "markdown",
   "id": "a4104da1",
   "metadata": {},
   "source": [
    "# Agora vamos unir as planilhas de infrações e criar apenas uma geral para o estado de RJ"
   ]
  },
  {
   "cell_type": "code",
   "execution_count": 152,
   "id": "5192f2b0",
   "metadata": {},
   "outputs": [
    {
     "data": {
      "text/plain": [
       "(901659, 12)"
      ]
     },
     "execution_count": 152,
     "metadata": {},
     "output_type": "execute_result"
    }
   ],
   "source": [
    "#Verificou-se o shape de todos para garantir que estivessem com o mesmo shape\n",
    "infra20rj_copy.shape"
   ]
  },
  {
   "cell_type": "code",
   "execution_count": 150,
   "id": "1cf04c08",
   "metadata": {
    "collapsed": true
   },
   "outputs": [
    {
     "name": "stdout",
     "output_type": "stream",
     "text": [
      "Concatenação Infrações RJ concluída\n"
     ]
    }
   ],
   "source": [
    "# Agora que checamos tudo, podemos concatenar as bases\n",
    "# Aqui concatenamos INFRACOES\n",
    "infra_rj = pd.concat([infra17rj_copy, infra18rj_copy, infra19rj_copy, infra20rj_copy], join = 'inner')\n",
    "print(\"Concatenação Infrações RJ concluída\")"
   ]
  },
  {
   "cell_type": "code",
   "execution_count": 147,
   "id": "0fa7c36e",
   "metadata": {
    "collapsed": true
   },
   "outputs": [
    {
     "name": "stdout",
     "output_type": "stream",
     "text": [
      "Concatenação Acidentes RJ concluída\n"
     ]
    }
   ],
   "source": [
    "# Concatenando ACIDENTES\n",
    "acid_rj = pd.concat([acid17rj_copy, acid18rj_copy, acid19rj_copy, acid20rj_copy], join = 'inner')\n",
    "print(\"Concatenação Acidentes RJ concluída\")"
   ]
  },
  {
   "cell_type": "code",
   "execution_count": 153,
   "id": "9403889d",
   "metadata": {},
   "outputs": [
    {
     "data": {
      "text/plain": [
       "(3590450, 12)"
      ]
     },
     "execution_count": 153,
     "metadata": {},
     "output_type": "execute_result"
    }
   ],
   "source": [
    "#Verificaremos o shape, para garantir que todas as linhas estão presentes\n",
    "infra_rj.shape"
   ]
  },
  {
   "cell_type": "code",
   "execution_count": 154,
   "id": "1153023e",
   "metadata": {},
   "outputs": [
    {
     "data": {
      "text/plain": [
       "(72068, 16)"
      ]
     },
     "execution_count": 154,
     "metadata": {},
     "output_type": "execute_result"
    }
   ],
   "source": [
    "#Verificaremos o shape, para garantir que todas as linhas estão presentes\n",
    "acid_rj.shape"
   ]
  },
  {
   "cell_type": "code",
   "execution_count": 155,
   "id": "cac0ab7b",
   "metadata": {
    "collapsed": true
   },
   "outputs": [
    {
     "name": "stdout",
     "output_type": "stream",
     "text": [
      "<class 'pandas.core.frame.DataFrame'>\n",
      "Int64Index: 72068 entries, 0 to 19383\n",
      "Data columns (total 16 columns):\n",
      " #   Column          Non-Null Count  Dtype         \n",
      "---  ------          --------------  -----         \n",
      " 0   Data            72068 non-null  datetime64[ns]\n",
      " 1   Dia_semana      72068 non-null  object        \n",
      " 2   UF              72068 non-null  object        \n",
      " 3   BR              72068 non-null  object        \n",
      " 4   Causa           72068 non-null  object        \n",
      " 5   Tipo_acidente   72068 non-null  object        \n",
      " 6   Classificacao   72068 non-null  object        \n",
      " 7   Ilesos          72068 non-null  int64         \n",
      " 8   Feridos_leves   72068 non-null  int64         \n",
      " 9   Feridos_graves  72068 non-null  int64         \n",
      " 10  Obitos          72068 non-null  int64         \n",
      " 11  Hora            72068 non-null  object        \n",
      " 12  Periodo         72068 non-null  object        \n",
      " 13  ano             72068 non-null  object        \n",
      " 14  mes_ano         72068 non-null  object        \n",
      " 15  Mes             72068 non-null  object        \n",
      "dtypes: datetime64[ns](1), int64(4), object(11)\n",
      "memory usage: 9.3+ MB\n"
     ]
    }
   ],
   "source": [
    "acid_rj.info()"
   ]
  },
  {
   "cell_type": "code",
   "execution_count": 156,
   "id": "d921df71",
   "metadata": {
    "collapsed": true
   },
   "outputs": [
    {
     "name": "stdout",
     "output_type": "stream",
     "text": [
      "<class 'pandas.core.frame.DataFrame'>\n",
      "Int64Index: 3590450 entries, 0 to 901658\n",
      "Data columns (total 12 columns):\n",
      " #   Column       Dtype         \n",
      "---  ------       -----         \n",
      " 0   Data         datetime64[ns]\n",
      " 1   UF           object        \n",
      " 2   BR           object        \n",
      " 3   Codigo       object        \n",
      " 4   Descricao    object        \n",
      " 5   Hora         object        \n",
      " 6   Responsavel  object        \n",
      " 7   Tipo         object        \n",
      " 8   Periodo      object        \n",
      " 9   ano          object        \n",
      " 10  mes_ano      object        \n",
      " 11  Mes          object        \n",
      "dtypes: datetime64[ns](1), object(11)\n",
      "memory usage: 356.1+ MB\n"
     ]
    }
   ],
   "source": [
    "infra_rj.info()"
   ]
  },
  {
   "cell_type": "markdown",
   "id": "b0b263c3",
   "metadata": {},
   "source": [
    "# Agora exportaremos essas bases para um arquivo"
   ]
  },
  {
   "cell_type": "code",
   "execution_count": 148,
   "id": "88207d08",
   "metadata": {},
   "outputs": [
    {
     "name": "stdout",
     "output_type": "stream",
     "text": [
      "Exportação concluída\n"
     ]
    }
   ],
   "source": [
    "# Exportação Acidentes RJ\n",
    "acid_rj.to_excel(r\"E:\\CAMILA DRIVE\\02.BIG_DATA_PUC\\13.TCC\\Final\\ACID_RJ_FIN.xlsx\", index = False, header=True)\n",
    "print(\"Exportação concluída\")"
   ]
  },
  {
   "cell_type": "code",
   "execution_count": 151,
   "id": "ce23e0b3",
   "metadata": {},
   "outputs": [
    {
     "name": "stdout",
     "output_type": "stream",
     "text": [
      "Exportação concluída\n"
     ]
    }
   ],
   "source": [
    "# Exportação Infrações RJ\n",
    "infra_rj.to_csv(r\"E:\\CAMILA DRIVE\\02.BIG_DATA_PUC\\13.TCC\\Final\\INFRA_RJ_FIN.csv\", sep = ',', index = False, header=True)\n",
    "print(\"Exportação concluída\")"
   ]
  }
 ],
 "metadata": {
  "kernelspec": {
   "display_name": "Python 3",
   "language": "python",
   "name": "python3"
  },
  "language_info": {
   "codemirror_mode": {
    "name": "ipython",
    "version": 3
   },
   "file_extension": ".py",
   "mimetype": "text/x-python",
   "name": "python",
   "nbconvert_exporter": "python",
   "pygments_lexer": "ipython3",
   "version": "3.8.8"
  }
 },
 "nbformat": 4,
 "nbformat_minor": 5
}
